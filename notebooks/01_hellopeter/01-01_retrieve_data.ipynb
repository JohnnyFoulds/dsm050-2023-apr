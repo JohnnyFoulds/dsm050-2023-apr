{
 "cells": [
  {
   "cell_type": "markdown",
   "metadata": {},
   "source": [
    "# 01-01 : Retrieve Hellopeter Reviews"
   ]
  },
  {
   "cell_type": "code",
   "execution_count": 1,
   "metadata": {},
   "outputs": [],
   "source": [
    "import datetime\n",
    "import pandas as pd\n",
    "import requests\n",
    "from time import sleep"
   ]
  },
  {
   "cell_type": "markdown",
   "metadata": {},
   "source": [
    "## Functions"
   ]
  },
  {
   "cell_type": "code",
   "execution_count": 2,
   "metadata": {},
   "outputs": [],
   "source": [
    "class Hellopeter():\n",
    "    \"\"\"\n",
    "    This class is used to retrieve Hellopeter reviews via the `https://api.hellopeter.com/consumer/business/` API.\n",
    "\n",
    "    Parameters\n",
    "    ----------\n",
    "    business : str\n",
    "        The business name to retrieve reviews for.\n",
    "    api_url : str\n",
    "        The base URL used to invoke the Hellopeter API.\n",
    "    \"\"\"\n",
    "    def __init__(self, business:str, api_url:str='https://api.hellopeter.com/consumer/business/') -> None:\n",
    "        self.business = business\n",
    "        self.api_url = api_url\n",
    "        self.url_template = self.api_url + self.business + '/reviews?page='\n",
    "\n",
    "        # initialize the session to use for requests to the API\n",
    "        self.request_session = requests.Session()\n",
    "\n",
    "    def request_page(self, page_number:int, retries:int=5) -> dict:\n",
    "        \"\"\"\n",
    "        Request a specific review page for the business.\n",
    "\n",
    "        Parameters\n",
    "        ----------\n",
    "        page_number : int\n",
    "            The page number to retrieve the reviews from.   \n",
    "\n",
    "        Returns\n",
    "        -------\n",
    "        response_json : dict\n",
    "        \"\"\"\n",
    "        # set the full url for the request\n",
    "        url = self.url_template + str(page_number)\n",
    "       \n",
    "        # set the request headers\n",
    "        headers = {\n",
    "            'user-agent': 'Mozilla/5.0 (X11; Linux x86_64) AppleWebKit/537.36 (KHTML, like Gecko) Chrome/61.0.3163.100 Safari/537.36',\n",
    "            'accept': 'application/json'\n",
    "        }\n",
    "\n",
    "        for retry in range(retries):\n",
    "            # request the review page\n",
    "            respose = self.request_session.get(url=url)\n",
    "\n",
    "            # implement basic error handling\n",
    "            if respose.status_code == 202:\n",
    "                return respose.json()\n",
    "            else:\n",
    "                if retry == retries - 1:\n",
    "                    raise Exception('An unexpected response code were received: %s' % respose.status_code)\n",
    "                \n",
    "                # wait before retrying\n",
    "                print('An unexpected response code were received: %s' % respose.status_code)\n",
    "                sleep((retry + 1)*2)\n",
    "\n",
    "    def process_request_page(self, page_json:dict) -> pd.DataFrame:\n",
    "        \"\"\"\n",
    "        Process the raw JSON data of a review page and convert it to a Pandas DataFrame.\n",
    "\n",
    "        Parameters\n",
    "        ----------\n",
    "        page_json : dict\n",
    "            The raw JSON (represented as a Python dictionary) that was retrieved from the API.\n",
    "\n",
    "        Returns\n",
    "        -------\n",
    "        page_data : pandas.DataFrame\n",
    "            The page data converted to a DataFrame.            \n",
    "        \"\"\"\n",
    "        # create the dataframe\n",
    "        page_data = pd.DataFrame(page_json['data'])\n",
    "\n",
    "        # add the business name to the dataframe\n",
    "        page_data['business'] = self.business\n",
    "\n",
    "        # basic data type conversions\n",
    "        page_data.created_at = pd.to_datetime(page_data.created_at, format='%Y-%m-%d %H:%M:%S')\n",
    "        page_data.replied = page_data.replied.astype('bool')        \n",
    "\n",
    "        # return the processed page data\n",
    "        return page_data\n",
    "\n",
    "    def retrieve_reviews(self, stop_at:datetime) -> pd.DataFrame:\n",
    "        \"\"\"\n",
    "        Retrieve reviews for the business up to, and including the `stop_at` date.\n",
    "\n",
    "        Parameters\n",
    "        ----------\n",
    "        stop_at : datetime\n",
    "            The date of the last review to retrieve.\n",
    "\n",
    "        Returns\n",
    "        -------\n",
    "        review_data : pandas.DataFrame\n",
    "            A DataFrame containing the reviews retrieved.            \n",
    "        \"\"\"\n",
    "        page_data = pd.DataFrame()\n",
    "        current_page = 1\n",
    "        stop_retrieval = False\n",
    "\n",
    "        while not stop_retrieval:\n",
    "            # retrieve the reviews for the current page\n",
    "            current_reviews = self.process_request_page(self.request_page(current_page))\n",
    "\n",
    "            # add the current page to the output dataframe\n",
    "            page_data = pd.concat([page_data, current_reviews])\n",
    "\n",
    "            # increment the page counter\n",
    "            current_page += 1\n",
    "\n",
    "            # determine if data retrieval should be stopped\n",
    "            #print(current_reviews.created_at.min(), stop_at)\n",
    "            stop_retrieval = current_reviews.created_at.min() < stop_at\n",
    "\n",
    "            # print a progress indicator\n",
    "            if current_page % 100 == 0:\n",
    "                print(current_page, current_reviews.created_at.min())\n",
    "                sleep(2)\n",
    "\n",
    "        # perform the final filter for the stop date\n",
    "        page_data = page_data.query('created_at >= @stop_at')\n",
    "\n",
    "        # return the result dataframe\n",
    "        return page_data"
   ]
  },
  {
   "cell_type": "code",
   "execution_count": 3,
   "metadata": {},
   "outputs": [],
   "source": [
    "def retrieve_bussiness_reviews(business:str, stop_at:datetime, output_path='data/raw/') -> pd.DataFrame:\n",
    "    \"\"\"\n",
    "    Retrieve reviews for a business and store the output in Parquet format.\n",
    "\n",
    "    Parameters\n",
    "    ----------\n",
    "    business : str\n",
    "        The business name to retrieve reviews for.        \n",
    "    stop_at : datetime\n",
    "        The date of the last review to retrieve.    \n",
    "\n",
    "    Returns\n",
    "    -------\n",
    "    review_data : pandas.DataFrame\n",
    "        A DataFrame containing the reviews retrieved.     \n",
    "    \"\"\"\n",
    "    # retrieve the reviews\n",
    "    peter = Hellopeter(business)\n",
    "    review_data = peter.retrieve_reviews(stop_at)\n",
    "\n",
    "    # save the dataset\n",
    "    review_data.to_parquet('../../data/raw/%s.parquet.gz' % business.replace('-', '_'), \n",
    "        compression='gzip', index=False)\n",
    "\n",
    "    # return the retrieved data for futher processing\n",
    "    return review_data"
   ]
  },
  {
   "cell_type": "markdown",
   "metadata": {},
   "source": [
    "## Data Retrieval"
   ]
  },
  {
   "cell_type": "code",
   "execution_count": 4,
   "metadata": {},
   "outputs": [
    {
     "name": "stdout",
     "output_type": "stream",
     "text": [
      "100 2023-06-09 21:01:59\n",
      "200 2023-04-25 12:44:07\n",
      "300 2023-03-08 17:40:34\n",
      "400 2023-01-31 07:17:38\n",
      "An unexpected response code were received: 502\n",
      "500 2022-12-22 13:45:13\n",
      "600 2022-11-21 20:08:41\n",
      "700 2022-10-18 16:31:03\n",
      "An unexpected response code were received: 502\n",
      "800 2022-09-12 11:14:23\n",
      "900 2022-08-06 16:15:17\n",
      "1000 2022-07-01 13:06:40\n",
      "1100 2022-05-20 12:13:14\n",
      "1200 2022-04-11 09:24:41\n",
      "1300 2022-03-07 11:09:42\n",
      "1400 2022-02-03 17:18:26\n",
      "1500 2022-01-03 18:21:18\n",
      "1600 2021-11-30 19:41:01\n",
      "1700 2021-11-02 05:34:55\n",
      "1800 2021-10-01 14:38:48\n",
      "1900 2021-08-27 09:26:43\n",
      "An unexpected response code were received: 502\n",
      "2000 2021-07-21 14:24:50\n",
      "2100 2021-06-17 10:21:26\n",
      "2200 2021-05-17 07:54:04\n",
      "An unexpected response code were received: 524\n",
      "2300 2021-04-19 09:59:22\n",
      "2400 2021-03-23 08:42:45\n",
      "2500 2021-02-28 08:16:01\n",
      "2600 2021-02-05 09:32:05\n",
      "2700 2021-01-13 08:24:11\n"
     ]
    }
   ],
   "source": [
    "# retrieve the vodacom dataset\n",
    "vodacom_reviews = retrieve_bussiness_reviews(business='vodacom', stop_at=datetime.datetime(2021, 1, 1))"
   ]
  },
  {
   "cell_type": "code",
   "execution_count": 5,
   "metadata": {},
   "outputs": [
    {
     "name": "stdout",
     "output_type": "stream",
     "text": [
      "100 2023-05-15 20:26:40\n",
      "200 2023-03-03 11:03:02\n",
      "300 2023-01-05 10:01:09\n",
      "400 2022-11-11 11:23:31\n",
      "500 2022-09-23 13:24:34\n",
      "600 2022-08-02 20:22:11\n",
      "700 2022-06-10 13:09:56\n",
      "800 2022-04-19 20:23:34\n",
      "900 2022-02-28 20:39:15\n",
      "1000 2022-01-12 12:11:20\n",
      "1100 2021-11-18 13:49:18\n",
      "An unexpected response code were received: 524\n",
      "1200 2021-09-26 20:41:59\n",
      "1300 2021-08-04 08:14:47\n",
      "1400 2021-06-10 10:49:22\n",
      "1500 2021-04-14 13:18:25\n",
      "1600 2021-03-02 10:40:20\n",
      "1700 2021-01-23 10:14:19\n"
     ]
    }
   ],
   "source": [
    "# retrieve the mtn dataset\n",
    "mtn_reviews = retrieve_bussiness_reviews(business='mtn', stop_at=datetime.datetime(2021, 1, 1))"
   ]
  },
  {
   "cell_type": "code",
   "execution_count": 6,
   "metadata": {},
   "outputs": [
    {
     "name": "stdout",
     "output_type": "stream",
     "text": [
      "100 2023-04-17 13:37:05\n",
      "200 2023-01-26 09:38:16\n",
      "300 2022-11-03 11:05:14\n",
      "400 2022-08-15 09:23:33\n",
      "500 2022-05-17 08:32:30\n",
      "600 2022-03-03 09:37:12\n",
      "700 2021-12-31 08:28:23\n",
      "800 2021-10-28 11:04:47\n",
      "900 2021-08-27 09:41:38\n",
      "1000 2021-06-30 17:25:16\n",
      "1100 2021-05-07 10:12:36\n",
      "1200 2021-03-17 16:47:59\n",
      "1300 2021-02-06 06:43:34\n"
     ]
    }
   ],
   "source": [
    "# retrieve the telkom dataset\n",
    "telkom_reviews = retrieve_bussiness_reviews(business='telkom', stop_at=datetime.datetime(2021, 1, 1))"
   ]
  },
  {
   "cell_type": "code",
   "execution_count": 7,
   "metadata": {},
   "outputs": [
    {
     "name": "stdout",
     "output_type": "stream",
     "text": [
      "100 2023-03-27 12:02:36\n",
      "An unexpected response code were received: 524\n",
      "200 2022-12-02 17:10:52\n",
      "300 2022-09-06 12:33:31\n",
      "400 2022-06-06 12:03:05\n",
      "500 2022-03-08 15:11:02\n",
      "600 2021-12-20 09:16:05\n",
      "700 2021-10-08 10:32:58\n",
      "800 2021-08-09 15:40:44\n",
      "900 2021-06-01 11:48:04\n",
      "1000 2021-03-16 11:27:39\n",
      "1100 2021-01-16 08:10:46\n"
     ]
    }
   ],
   "source": [
    "# retrieve the cell-c dataset\n",
    "dflancell_c_reviews = retrieve_bussiness_reviews(business='cell-c', stop_at=datetime.datetime(2021, 1, 1))"
   ]
  },
  {
   "cell_type": "code",
   "execution_count": 8,
   "metadata": {},
   "outputs": [
    {
     "name": "stdout",
     "output_type": "stream",
     "text": [
      "100 2023-06-28 04:56:53\n",
      "200 2023-05-29 15:26:51\n",
      "300 2023-04-11 20:02:51\n",
      "400 2023-02-22 17:55:45\n",
      "500 2023-01-16 20:06:39\n",
      "600 2022-12-10 06:45:41\n",
      "700 2022-11-07 17:52:05\n",
      "800 2022-09-02 13:55:17\n",
      "900 2022-06-13 12:44:34\n",
      "1000 2022-04-01 15:48:57\n",
      "An unexpected response code were received: 500\n",
      "1100 2021-12-21 13:52:38\n",
      "1200 2021-09-18 09:50:36\n",
      "1300 2021-06-01 14:31:54\n",
      "1400 2021-03-04 13:34:50\n",
      "1500 2021-01-05 08:45:06\n"
     ]
    }
   ],
   "source": [
    "# retrieve the rain dataset\n",
    "rain_reviews = retrieve_bussiness_reviews(business='rain-internet-service-provider', stop_at=datetime.datetime(2021, 1, 1))"
   ]
  }
 ],
 "metadata": {
  "kernelspec": {
   "display_name": "Python 3",
   "language": "python",
   "name": "python3"
  },
  "language_info": {
   "codemirror_mode": {
    "name": "ipython",
    "version": 3
   },
   "file_extension": ".py",
   "mimetype": "text/x-python",
   "name": "python",
   "nbconvert_exporter": "python",
   "pygments_lexer": "ipython3",
   "version": "3.11.4"
  },
  "orig_nbformat": 4
 },
 "nbformat": 4,
 "nbformat_minor": 2
}
