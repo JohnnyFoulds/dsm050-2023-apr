{
 "cells": [
  {
   "cell_type": "markdown",
   "metadata": {},
   "source": [
    "# 01-04 : Classify Chatbot Complaints\n",
    "\n",
    "Use a LLM to classify the chatbot complaints found in `01-03`."
   ]
  },
  {
   "cell_type": "code",
   "execution_count": 26,
   "metadata": {},
   "outputs": [],
   "source": [
    "import os\n",
    "import openai\n",
    "import pandas as pd\n",
    "import json\n",
    "from pprint import pprint\n",
    "from dotenv import load_dotenv, find_dotenv\n",
    "from langchain.chat_models import ChatOpenAI\n",
    "from langchain.prompts import ChatPromptTemplate"
   ]
  },
  {
   "cell_type": "code",
   "execution_count": 2,
   "metadata": {},
   "outputs": [],
   "source": [
    "# read local .env file\n",
    "_ = load_dotenv(find_dotenv())\n",
    "openai.api_key = os.environ['OPENAI_API_KEY']"
   ]
  },
  {
   "cell_type": "markdown",
   "metadata": {},
   "source": [
    "## Data Load"
   ]
  },
  {
   "cell_type": "code",
   "execution_count": 3,
   "metadata": {},
   "outputs": [
    {
     "name": "stdout",
     "output_type": "stream",
     "text": [
      "(564, 33)\n"
     ]
    },
    {
     "data": {
      "text/html": [
       "<div>\n",
       "<style scoped>\n",
       "    .dataframe tbody tr th:only-of-type {\n",
       "        vertical-align: middle;\n",
       "    }\n",
       "\n",
       "    .dataframe tbody tr th {\n",
       "        vertical-align: top;\n",
       "    }\n",
       "\n",
       "    .dataframe thead th {\n",
       "        text-align: right;\n",
       "    }\n",
       "</style>\n",
       "<table border=\"1\" class=\"dataframe\">\n",
       "  <thead>\n",
       "    <tr style=\"text-align: right;\">\n",
       "      <th></th>\n",
       "      <th>id</th>\n",
       "      <th>user_id</th>\n",
       "      <th>created_at</th>\n",
       "      <th>authorDisplayName</th>\n",
       "      <th>author</th>\n",
       "      <th>authorAvatar</th>\n",
       "      <th>author_id</th>\n",
       "      <th>review_title</th>\n",
       "      <th>review_rating</th>\n",
       "      <th>review_content</th>\n",
       "      <th>...</th>\n",
       "      <th>business_reporting</th>\n",
       "      <th>author_created_date</th>\n",
       "      <th>author_total_reviews_count</th>\n",
       "      <th>attachments</th>\n",
       "      <th>business</th>\n",
       "      <th>kw_chatbot_review_title</th>\n",
       "      <th>kw_chatbot_review_content</th>\n",
       "      <th>kw_tobi_review_title</th>\n",
       "      <th>kw_tobi_review_content</th>\n",
       "      <th>chatbot_review</th>\n",
       "    </tr>\n",
       "  </thead>\n",
       "  <tbody>\n",
       "    <tr>\n",
       "      <th>29</th>\n",
       "      <td>4522688</td>\n",
       "      <td>4f7c71a0-26ff-11ee-a3bf-63eff257072a</td>\n",
       "      <td>2023-07-20 15:30:46</td>\n",
       "      <td>Dedre S</td>\n",
       "      <td>Dedre S</td>\n",
       "      <td></td>\n",
       "      <td>4f7c71a0-26ff-11ee-a3bf-63eff257072a</td>\n",
       "      <td>Get the job done!</td>\n",
       "      <td>1</td>\n",
       "      <td>If I could it would be a negative 2 star ratin...</td>\n",
       "      <td>...</td>\n",
       "      <td>None</td>\n",
       "      <td>2023-07-20</td>\n",
       "      <td>1</td>\n",
       "      <td>[]</td>\n",
       "      <td>cell-c</td>\n",
       "      <td>False</td>\n",
       "      <td>True</td>\n",
       "      <td>False</td>\n",
       "      <td>False</td>\n",
       "      <td>True</td>\n",
       "    </tr>\n",
       "    <tr>\n",
       "      <th>69</th>\n",
       "      <td>4522620</td>\n",
       "      <td>0587c0b8-31fa-11e8-83f4-f23c91bb6188</td>\n",
       "      <td>2023-07-20 15:05:44</td>\n",
       "      <td>Nelly N</td>\n",
       "      <td>Nelly N</td>\n",
       "      <td></td>\n",
       "      <td>0587c0b8-31fa-11e8-83f4-f23c91bb6188</td>\n",
       "      <td>Tired of speaking to TOBI, we need humans</td>\n",
       "      <td>3</td>\n",
       "      <td>I bought WhatsApp bundles for R35 on the 13th ...</td>\n",
       "      <td>...</td>\n",
       "      <td>None</td>\n",
       "      <td>2011-08-01</td>\n",
       "      <td>11</td>\n",
       "      <td>[]</td>\n",
       "      <td>vodacom</td>\n",
       "      <td>False</td>\n",
       "      <td>False</td>\n",
       "      <td>True</td>\n",
       "      <td>True</td>\n",
       "      <td>True</td>\n",
       "    </tr>\n",
       "    <tr>\n",
       "      <th>122</th>\n",
       "      <td>4519459</td>\n",
       "      <td>0883e389-31fa-11e8-83f4-f23c91bb6188</td>\n",
       "      <td>2023-07-19 08:06:30</td>\n",
       "      <td>Nelia</td>\n",
       "      <td>Nelia</td>\n",
       "      <td></td>\n",
       "      <td>0883e389-31fa-11e8-83f4-f23c91bb6188</td>\n",
       "      <td>USELESS options and even more useless \"BOT\" to...</td>\n",
       "      <td>1</td>\n",
       "      <td>Their webmail7 Suddenly doesn't work anymore. ...</td>\n",
       "      <td>...</td>\n",
       "      <td>None</td>\n",
       "      <td>2012-01-24</td>\n",
       "      <td>46</td>\n",
       "      <td>[]</td>\n",
       "      <td>vodacom</td>\n",
       "      <td>False</td>\n",
       "      <td>True</td>\n",
       "      <td>False</td>\n",
       "      <td>False</td>\n",
       "      <td>True</td>\n",
       "    </tr>\n",
       "    <tr>\n",
       "      <th>125</th>\n",
       "      <td>4519298</td>\n",
       "      <td>0978c1b7-31fa-11e8-83f4-f23c91bb6188</td>\n",
       "      <td>2023-07-18 21:38:08</td>\n",
       "      <td>Diane</td>\n",
       "      <td>Diane</td>\n",
       "      <td></td>\n",
       "      <td>0978c1b7-31fa-11e8-83f4-f23c91bb6188</td>\n",
       "      <td>Is it Vodacom? or should it be Vodapong or Vod...</td>\n",
       "      <td>1</td>\n",
       "      <td>I recently moved into an apartment/townhouse i...</td>\n",
       "      <td>...</td>\n",
       "      <td>None</td>\n",
       "      <td>2012-03-12</td>\n",
       "      <td>5</td>\n",
       "      <td>[]</td>\n",
       "      <td>vodacom</td>\n",
       "      <td>False</td>\n",
       "      <td>True</td>\n",
       "      <td>False</td>\n",
       "      <td>False</td>\n",
       "      <td>True</td>\n",
       "    </tr>\n",
       "    <tr>\n",
       "      <th>153</th>\n",
       "      <td>4517229</td>\n",
       "      <td>2ddfd4c6-31fa-11e8-83f4-f23c91bb6188</td>\n",
       "      <td>2023-07-18 06:44:51</td>\n",
       "      <td>Ishmael N</td>\n",
       "      <td>Ishmael N</td>\n",
       "      <td></td>\n",
       "      <td>2ddfd4c6-31fa-11e8-83f4-f23c91bb6188</td>\n",
       "      <td>Vodacom eSim</td>\n",
       "      <td>2</td>\n",
       "      <td>I got myself an iPhone and someone told me abo...</td>\n",
       "      <td>...</td>\n",
       "      <td>None</td>\n",
       "      <td>2016-09-14</td>\n",
       "      <td>44</td>\n",
       "      <td>[]</td>\n",
       "      <td>vodacom</td>\n",
       "      <td>False</td>\n",
       "      <td>True</td>\n",
       "      <td>False</td>\n",
       "      <td>False</td>\n",
       "      <td>True</td>\n",
       "    </tr>\n",
       "  </tbody>\n",
       "</table>\n",
       "<p>5 rows × 33 columns</p>\n",
       "</div>"
      ],
      "text/plain": [
       "          id                               user_id          created_at  \\\n",
       "29   4522688  4f7c71a0-26ff-11ee-a3bf-63eff257072a 2023-07-20 15:30:46   \n",
       "69   4522620  0587c0b8-31fa-11e8-83f4-f23c91bb6188 2023-07-20 15:05:44   \n",
       "122  4519459  0883e389-31fa-11e8-83f4-f23c91bb6188 2023-07-19 08:06:30   \n",
       "125  4519298  0978c1b7-31fa-11e8-83f4-f23c91bb6188 2023-07-18 21:38:08   \n",
       "153  4517229  2ddfd4c6-31fa-11e8-83f4-f23c91bb6188 2023-07-18 06:44:51   \n",
       "\n",
       "    authorDisplayName     author authorAvatar  \\\n",
       "29            Dedre S    Dedre S                \n",
       "69            Nelly N    Nelly N                \n",
       "122             Nelia      Nelia                \n",
       "125             Diane      Diane                \n",
       "153         Ishmael N  Ishmael N                \n",
       "\n",
       "                                author_id  \\\n",
       "29   4f7c71a0-26ff-11ee-a3bf-63eff257072a   \n",
       "69   0587c0b8-31fa-11e8-83f4-f23c91bb6188   \n",
       "122  0883e389-31fa-11e8-83f4-f23c91bb6188   \n",
       "125  0978c1b7-31fa-11e8-83f4-f23c91bb6188   \n",
       "153  2ddfd4c6-31fa-11e8-83f4-f23c91bb6188   \n",
       "\n",
       "                                          review_title  review_rating  \\\n",
       "29                                   Get the job done!              1   \n",
       "69           Tired of speaking to TOBI, we need humans              3   \n",
       "122  USELESS options and even more useless \"BOT\" to...              1   \n",
       "125  Is it Vodacom? or should it be Vodapong or Vod...              1   \n",
       "153                                       Vodacom eSim              2   \n",
       "\n",
       "                                        review_content  ...  \\\n",
       "29   If I could it would be a negative 2 star ratin...  ...   \n",
       "69   I bought WhatsApp bundles for R35 on the 13th ...  ...   \n",
       "122  Their webmail7 Suddenly doesn't work anymore. ...  ...   \n",
       "125  I recently moved into an apartment/townhouse i...  ...   \n",
       "153  I got myself an iPhone and someone told me abo...  ...   \n",
       "\n",
       "    business_reporting author_created_date author_total_reviews_count  \\\n",
       "29                None          2023-07-20                          1   \n",
       "69                None          2011-08-01                         11   \n",
       "122               None          2012-01-24                         46   \n",
       "125               None          2012-03-12                          5   \n",
       "153               None          2016-09-14                         44   \n",
       "\n",
       "     attachments business kw_chatbot_review_title kw_chatbot_review_content  \\\n",
       "29            []   cell-c                   False                      True   \n",
       "69            []  vodacom                   False                     False   \n",
       "122           []  vodacom                   False                      True   \n",
       "125           []  vodacom                   False                      True   \n",
       "153           []  vodacom                   False                      True   \n",
       "\n",
       "    kw_tobi_review_title kw_tobi_review_content  chatbot_review  \n",
       "29                 False                  False            True  \n",
       "69                  True                   True            True  \n",
       "122                False                  False            True  \n",
       "125                False                  False            True  \n",
       "153                False                  False            True  \n",
       "\n",
       "[5 rows x 33 columns]"
      ]
     },
     "metadata": {},
     "output_type": "display_data"
    }
   ],
   "source": [
    "df_reviews = pd.read_parquet('../../data/interim/01-03_chatbot_reviews.parquet.gz')\n",
    "\n",
    "print(df_reviews.shape)\n",
    "display(df_reviews.head())"
   ]
  },
  {
   "cell_type": "markdown",
   "metadata": {},
   "source": [
    "## Classification"
   ]
  },
  {
   "cell_type": "markdown",
   "metadata": {},
   "source": [
    "### Configure the Prompt Template"
   ]
  },
  {
   "cell_type": "code",
   "execution_count": 18,
   "metadata": {},
   "outputs": [],
   "source": [
    "# To control the randomness and creativity of the generated\n",
    "# text by an LLM, use temperature = 0.0\n",
    "chat = ChatOpenAI(temperature=0.0)"
   ]
  },
  {
   "cell_type": "code",
   "execution_count": 29,
   "metadata": {},
   "outputs": [],
   "source": [
    "# define the template string\n",
    "template_string = \"\"\"\\\n",
    "For the customer complaint only the JSON output is expected. Do not answer with anything except JSON.\n",
    "\n",
    "```json\n",
    "{{  \n",
    "    chatbot : {{\n",
    "        related: bool,\n",
    "        evidence: string,\n",
    "        classification: string,\n",
    "        description: string\n",
    "    }}\n",
    "\n",
    "    complaint : {{\n",
    "        classification: string,\n",
    "        description: string\n",
    "    }}\n",
    "}}\n",
    "```\n",
    "\n",
    "Use the following guidelines:\n",
    "\n",
    "- chatbot\n",
    "    - related: 1 if the complaint relates to a chatbot, 0 otherwise\n",
    "    - evidence: a string providing the reasoning why a chatbot is related to the complaint\n",
    "    - classification: a string indicating the classification of the complaint as it relates to the chatbot\n",
    "    - description: a string providing a description of the complaint as it relates to the chatbot\n",
    "- complaint\n",
    "    - classification: a string indicating the classification of the complaint\n",
    "    - description: A concise description of what the customer is complaining about\n",
    "\n",
    "```complaint\n",
    "{complaint}\n",
    "```\n",
    "\"\"\""
   ]
  },
  {
   "cell_type": "code",
   "execution_count": 30,
   "metadata": {},
   "outputs": [
    {
     "data": {
      "text/plain": [
       "ChatPromptTemplate(input_variables=['complaint'], output_parser=None, partial_variables={}, messages=[HumanMessagePromptTemplate(prompt=PromptTemplate(input_variables=['complaint'], output_parser=None, partial_variables={}, template='For the customer complaint only the JSON output is expected. Do not answer with anything except JSON.\\n\\n```json\\n{{  \\n    chatbot : {{\\n        related: bool,\\n        evidence: string,\\n        classification: string,\\n        description: string\\n    }}\\n\\n    complaint : {{\\n        classification: string,\\n        description: string\\n    }}\\n}}\\n```\\n\\nUse the following guidelines:\\n\\n- chatbot\\n    - related: 1 if the complaint relates to a chatbot, 0 otherwise\\n    - evidence: a string providing the reasoning why a chatbot is related to the complaint\\n    - classification: a string indicating the classification of the complaint as it relates to the chatbot\\n    - description: a string providing a description of the complaint as it relates to the chatbot\\n- complaint\\n    - classification: a string indicating the classification of the complaint\\n    - description: a string providing the core problem the complaint is about.\\n\\n```complaint\\n{complaint}\\n```\\n', template_format='f-string', validate_template=True), additional_kwargs={})])"
      ]
     },
     "execution_count": 30,
     "metadata": {},
     "output_type": "execute_result"
    }
   ],
   "source": [
    "# create the prompt template\n",
    "prompt_template = ChatPromptTemplate.from_template(template_string)\n",
    "prompt_template"
   ]
  },
  {
   "cell_type": "markdown",
   "metadata": {},
   "source": [
    "#### Test the Prompt Template"
   ]
  },
  {
   "cell_type": "code",
   "execution_count": 31,
   "metadata": {},
   "outputs": [
    {
     "name": "stdout",
     "output_type": "stream",
     "text": [
      "content='For the customer complaint only the JSON output is expected. Do not answer with anything except JSON.\\n\\n```json\\n{  \\n    chatbot : {\\n        related: bool,\\n        evidence: string,\\n        classification: string,\\n        description: string\\n    }\\n\\n    complaint : {\\n        classification: string,\\n        description: string\\n    }\\n}\\n```\\n\\nUse the following guidelines:\\n\\n- chatbot\\n    - related: 1 if the complaint relates to a chatbot, 0 otherwise\\n    - evidence: a string providing the reasoning why a chatbot is related to the complaint\\n    - classification: a string indicating the classification of the complaint as it relates to the chatbot\\n    - description: a string providing a description of the complaint as it relates to the chatbot\\n- complaint\\n    - classification: a string indicating the classification of the complaint\\n    - description: a string providing the core problem the complaint is about.\\n\\n```complaint\\nTired of speaking to TOBI, we need humans\\n\\nI bought WhatsApp bundles for R35 on the 13th July 2023, which have not been allocated till today the 20th, but i was rewarded with 3.5 Vodabucks. On the 14th I called customer service but was referred to TOBI the BOT, of which it was hard for TOBI to understand because he is an Automated Machine, I then asked to speak to a human, with no success. Sent an email to customer care, got a reference but no call back. I went to Sandton branch, but they could not help me because I bought the data online via capitec app. Can we please speak to humans, its really tiring not being able to express yourself. Kindly serve your customers well, this is really frustrating.\\n\\n```\\n' additional_kwargs={} example=False\n"
     ]
    }
   ],
   "source": [
    "# set the customer complaint\n",
    "customer_complaint = \"\"\"\\\n",
    "Tired of speaking to TOBI, we need humans\n",
    "\n",
    "I bought WhatsApp bundles for R35 on the 13th July 2023, which have not been allocated till today the 20th, but i was rewarded with 3.5 Vodabucks. On the 14th I called customer service but was referred to TOBI the BOT, of which it was hard for TOBI to understand because he is an Automated Machine, I then asked to speak to a human, with no success. Sent an email to customer care, got a reference but no call back. I went to Sandton branch, but they could not help me because I bought the data online via capitec app. Can we please speak to humans, its really tiring not being able to express yourself. Kindly serve your customers well, this is really frustrating.\n",
    "\"\"\"\n",
    "\n",
    "# create the customer message\n",
    "customer_messages = prompt_template.format_messages(\n",
    "    complaint=customer_complaint)\n",
    "\n",
    "# show the formatted customer message\n",
    "print(customer_messages[0])"
   ]
  },
  {
   "cell_type": "code",
   "execution_count": 32,
   "metadata": {},
   "outputs": [
    {
     "name": "stdout",
     "output_type": "stream",
     "text": [
      "{\n",
      "    \"chatbot\": {\n",
      "        \"related\": 1,\n",
      "        \"evidence\": \"Customer mentioned speaking to TOBI the BOT\",\n",
      "        \"classification\": \"Customer service\",\n",
      "        \"description\": \"Customer complaint relates to the chatbot TOBI and the inability to speak to a human\"\n",
      "    },\n",
      "    \"complaint\": {\n",
      "        \"classification\": \"Customer service\",\n",
      "        \"description\": \"Customer is frustrated with the lack of human support and inability to express themselves\"\n",
      "    }\n",
      "}\n"
     ]
    }
   ],
   "source": [
    "# create the chatbot response\n",
    "customer_response = chat(customer_messages)\n",
    "\n",
    "print(customer_response.content)"
   ]
  },
  {
   "cell_type": "code",
   "execution_count": 33,
   "metadata": {},
   "outputs": [
    {
     "name": "stdout",
     "output_type": "stream",
     "text": [
      "{'chatbot': {'classification': '',\n",
      "             'description': '',\n",
      "             'evidence': '',\n",
      "             'related': 0},\n",
      " 'complaint': {'classification': 'Customer Service',\n",
      "               'description': 'Bad service, worst customer service ever, long '\n",
      "                              'wait time for reconnection, not valuing loyal '\n",
      "                              'customers'}}\n"
     ]
    }
   ],
   "source": [
    "def classify_complaint(complaint):\n",
    "    \"\"\"Classify the complaint using the chatbot.\"\"\"\n",
    "    # create the customer message\n",
    "    customer_messages = prompt_template.format_messages(\n",
    "        complaint=complaint)\n",
    "\n",
    "    # create the chatbot response\n",
    "    customer_response = chat(customer_messages)\n",
    "\n",
    "    # return the chatbot response\n",
    "    return json.loads(customer_response.content)\n",
    "\n",
    "# test the function\n",
    "pprint(\n",
    "    classify_complaint(\"\"\"\\\n",
    "Bad sevice\n",
    "\n",
    "Worst customer service ever, a customer for over 20 years, fall behind on one payment and they cut your line, pay the outstanding ballance and you wait 5 hours instead of 2 as indicated to re connect line, bit they are easy to take your money. Being a red vip member means nothing, after 20 plus years i will cancell my contrack. 20 years vodacom and thjs is hkw you yteay customers, no wonder you are loosing yout market share to mtn, you are more costly than mtn but stiil o stayed a loyal customer, bot no mlre, inwork on a customer servive for a long time upmarket mercedes customers and will rever all customer to buy mtn and not vodacom.\n",
    "\n",
    "PATHETIC customer service\"\"\")\n",
    ")"
   ]
  }
 ],
 "metadata": {
  "kernelspec": {
   "display_name": "Python 3",
   "language": "python",
   "name": "python3"
  },
  "language_info": {
   "codemirror_mode": {
    "name": "ipython",
    "version": 3
   },
   "file_extension": ".py",
   "mimetype": "text/x-python",
   "name": "python",
   "nbconvert_exporter": "python",
   "pygments_lexer": "ipython3",
   "version": "3.11.4"
  },
  "orig_nbformat": 4
 },
 "nbformat": 4,
 "nbformat_minor": 2
}
