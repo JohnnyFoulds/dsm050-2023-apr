{
 "cells": [
  {
   "cell_type": "markdown",
   "metadata": {},
   "source": [
    "# 01-02 : Combine Datasets\n",
    "\n",
    "Combine the datasets and perform basic EDA"
   ]
  },
  {
   "cell_type": "code",
   "execution_count": 16,
   "metadata": {},
   "outputs": [],
   "source": [
    "import pandas as pd\n",
    "import matplotlib.pyplot as plt"
   ]
  },
  {
   "cell_type": "markdown",
   "metadata": {},
   "source": [
    "## Data Load"
   ]
  },
  {
   "cell_type": "code",
   "execution_count": 2,
   "metadata": {},
   "outputs": [],
   "source": [
    "# load the raw datasets retrieved fom hellopeter\n",
    "vodacom_reviews = pd.read_parquet('../../data/raw/vodacom.parquet.gz')\n",
    "mtn_reviews = pd.read_parquet('../../data/raw/mtn.parquet.gz')\n",
    "telkom_reviews = pd.read_parquet('../../data/raw/telkom.parquet.gz')\n",
    "cell_c_reviews = pd.read_parquet('../../data/raw/cell_c.parquet.gz')\n",
    "rain_reviews = pd.read_parquet('../../data/raw/rain_internet_service_provider.parquet.gz')"
   ]
  },
  {
   "cell_type": "code",
   "execution_count": 3,
   "metadata": {},
   "outputs": [
    {
     "name": "stdout",
     "output_type": "stream",
     "text": [
      "vodacom_reviews : (30352, 28)\n",
      "mtn_reviews     : (19321, 28)\n",
      "telkom_reviews  : (15332, 28)\n",
      "cell_c_reviews  : (12351, 28)\n",
      "rain_reviews    : (16524, 28)\n"
     ]
    }
   ],
   "source": [
    "# show the shape of each dataset\n",
    "print(f'vodacom_reviews : {vodacom_reviews.shape}')\n",
    "print(f'mtn_reviews     : {mtn_reviews.shape}')\n",
    "print(f'telkom_reviews  : {telkom_reviews.shape}')\n",
    "print(f'cell_c_reviews  : {cell_c_reviews.shape}')\n",
    "print(f'rain_reviews    : {rain_reviews.shape}')"
   ]
  },
  {
   "cell_type": "markdown",
   "metadata": {},
   "source": [
    "## Data Merge"
   ]
  },
  {
   "cell_type": "code",
   "execution_count": 4,
   "metadata": {},
   "outputs": [
    {
     "name": "stdout",
     "output_type": "stream",
     "text": [
      "(93880, 28)\n"
     ]
    },
    {
     "data": {
      "text/html": [
       "<div>\n",
       "<style scoped>\n",
       "    .dataframe tbody tr th:only-of-type {\n",
       "        vertical-align: middle;\n",
       "    }\n",
       "\n",
       "    .dataframe tbody tr th {\n",
       "        vertical-align: top;\n",
       "    }\n",
       "\n",
       "    .dataframe thead th {\n",
       "        text-align: right;\n",
       "    }\n",
       "</style>\n",
       "<table border=\"1\" class=\"dataframe\">\n",
       "  <thead>\n",
       "    <tr style=\"text-align: right;\">\n",
       "      <th></th>\n",
       "      <th>id</th>\n",
       "      <th>user_id</th>\n",
       "      <th>created_at</th>\n",
       "      <th>authorDisplayName</th>\n",
       "      <th>author</th>\n",
       "      <th>authorAvatar</th>\n",
       "      <th>author_id</th>\n",
       "      <th>review_title</th>\n",
       "      <th>review_rating</th>\n",
       "      <th>review_content</th>\n",
       "      <th>...</th>\n",
       "      <th>industry_slug</th>\n",
       "      <th>status_id</th>\n",
       "      <th>nps_rating</th>\n",
       "      <th>source</th>\n",
       "      <th>is_reported</th>\n",
       "      <th>business_reporting</th>\n",
       "      <th>author_created_date</th>\n",
       "      <th>author_total_reviews_count</th>\n",
       "      <th>attachments</th>\n",
       "      <th>business</th>\n",
       "    </tr>\n",
       "  </thead>\n",
       "  <tbody>\n",
       "    <tr>\n",
       "      <th>0</th>\n",
       "      <td>4527127</td>\n",
       "      <td>320a79a8-31fa-11e8-83f4-f23c91bb6188</td>\n",
       "      <td>2023-07-24 14:01:29</td>\n",
       "      <td>Simphiwe N</td>\n",
       "      <td>Simphiwe N</td>\n",
       "      <td></td>\n",
       "      <td>320a79a8-31fa-11e8-83f4-f23c91bb6188</td>\n",
       "      <td>Out of bundle data eating up my airtime even a...</td>\n",
       "      <td>1</td>\n",
       "      <td>Out of bundle services stopped working after I...</td>\n",
       "      <td>...</td>\n",
       "      <td>telecommunications</td>\n",
       "      <td>1</td>\n",
       "      <td>NaN</td>\n",
       "      <td>WEBSITE</td>\n",
       "      <td>False</td>\n",
       "      <td>None</td>\n",
       "      <td>2017-01-13</td>\n",
       "      <td>20</td>\n",
       "      <td>[]</td>\n",
       "      <td>vodacom</td>\n",
       "    </tr>\n",
       "    <tr>\n",
       "      <th>1</th>\n",
       "      <td>4527105</td>\n",
       "      <td>6a44e350-9c25-11ea-9513-4b6a247180c8</td>\n",
       "      <td>2023-07-24 13:53:40</td>\n",
       "      <td>erika H</td>\n",
       "      <td>erika H</td>\n",
       "      <td></td>\n",
       "      <td>6a44e350-9c25-11ea-9513-4b6a247180c8</td>\n",
       "      <td>worst service - Vodacom.</td>\n",
       "      <td>1</td>\n",
       "      <td>I have been a customer of Vodacom for more tha...</td>\n",
       "      <td>...</td>\n",
       "      <td>telecommunications</td>\n",
       "      <td>1</td>\n",
       "      <td>NaN</td>\n",
       "      <td>WEBSITE</td>\n",
       "      <td>False</td>\n",
       "      <td>None</td>\n",
       "      <td>2020-05-22</td>\n",
       "      <td>3</td>\n",
       "      <td>[]</td>\n",
       "      <td>vodacom</td>\n",
       "    </tr>\n",
       "    <tr>\n",
       "      <th>2</th>\n",
       "      <td>4526994</td>\n",
       "      <td>2ad8a520-811e-11ed-9e3d-2143ef18dbd4</td>\n",
       "      <td>2023-07-24 13:10:31</td>\n",
       "      <td>Eulanda M</td>\n",
       "      <td>Eulanda M</td>\n",
       "      <td></td>\n",
       "      <td>2ad8a520-811e-11ed-9e3d-2143ef18dbd4</td>\n",
       "      <td>Cancel Vodacom contract please. 😒</td>\n",
       "      <td>1</td>\n",
       "      <td>Now that Vodacom com collected  the router. No...</td>\n",
       "      <td>...</td>\n",
       "      <td>telecommunications</td>\n",
       "      <td>1</td>\n",
       "      <td>NaN</td>\n",
       "      <td>WEBSITE</td>\n",
       "      <td>False</td>\n",
       "      <td>None</td>\n",
       "      <td>2022-12-21</td>\n",
       "      <td>2</td>\n",
       "      <td>[]</td>\n",
       "      <td>vodacom</td>\n",
       "    </tr>\n",
       "    <tr>\n",
       "      <th>3</th>\n",
       "      <td>4526951</td>\n",
       "      <td>64e8c6c0-1999-11ee-90b2-919230383f47</td>\n",
       "      <td>2023-07-24 12:56:45</td>\n",
       "      <td>Elizabeth S</td>\n",
       "      <td>Elizabeth S</td>\n",
       "      <td></td>\n",
       "      <td>64e8c6c0-1999-11ee-90b2-919230383f47</td>\n",
       "      <td>Refund taking forever - customer service poor</td>\n",
       "      <td>1</td>\n",
       "      <td>Customer service very poor at Vodacom . Refund...</td>\n",
       "      <td>...</td>\n",
       "      <td>telecommunications</td>\n",
       "      <td>1</td>\n",
       "      <td>NaN</td>\n",
       "      <td>WEBSITE</td>\n",
       "      <td>False</td>\n",
       "      <td>None</td>\n",
       "      <td>2023-07-03</td>\n",
       "      <td>5</td>\n",
       "      <td>[]</td>\n",
       "      <td>vodacom</td>\n",
       "    </tr>\n",
       "    <tr>\n",
       "      <th>4</th>\n",
       "      <td>4526886</td>\n",
       "      <td>1901e30a-31fa-11e8-83f4-f23c91bb6188</td>\n",
       "      <td>2023-07-24 12:34:38</td>\n",
       "      <td>Stephanus</td>\n",
       "      <td>Stephanus</td>\n",
       "      <td></td>\n",
       "      <td>1901e30a-31fa-11e8-83f4-f23c91bb6188</td>\n",
       "      <td>Vodacom-Secure encryted login</td>\n",
       "      <td>1</td>\n",
       "      <td>No one at Vodacom can explain \"Secure encrypte...</td>\n",
       "      <td>...</td>\n",
       "      <td>telecommunications</td>\n",
       "      <td>1</td>\n",
       "      <td>NaN</td>\n",
       "      <td>WEBSITE</td>\n",
       "      <td>False</td>\n",
       "      <td>None</td>\n",
       "      <td>2014-02-17</td>\n",
       "      <td>3</td>\n",
       "      <td>[]</td>\n",
       "      <td>vodacom</td>\n",
       "    </tr>\n",
       "  </tbody>\n",
       "</table>\n",
       "<p>5 rows × 28 columns</p>\n",
       "</div>"
      ],
      "text/plain": [
       "        id                               user_id          created_at  \\\n",
       "0  4527127  320a79a8-31fa-11e8-83f4-f23c91bb6188 2023-07-24 14:01:29   \n",
       "1  4527105  6a44e350-9c25-11ea-9513-4b6a247180c8 2023-07-24 13:53:40   \n",
       "2  4526994  2ad8a520-811e-11ed-9e3d-2143ef18dbd4 2023-07-24 13:10:31   \n",
       "3  4526951  64e8c6c0-1999-11ee-90b2-919230383f47 2023-07-24 12:56:45   \n",
       "4  4526886  1901e30a-31fa-11e8-83f4-f23c91bb6188 2023-07-24 12:34:38   \n",
       "\n",
       "  authorDisplayName       author authorAvatar  \\\n",
       "0        Simphiwe N   Simphiwe N                \n",
       "1           erika H      erika H                \n",
       "2         Eulanda M    Eulanda M                \n",
       "3       Elizabeth S  Elizabeth S                \n",
       "4         Stephanus    Stephanus                \n",
       "\n",
       "                              author_id  \\\n",
       "0  320a79a8-31fa-11e8-83f4-f23c91bb6188   \n",
       "1  6a44e350-9c25-11ea-9513-4b6a247180c8   \n",
       "2  2ad8a520-811e-11ed-9e3d-2143ef18dbd4   \n",
       "3  64e8c6c0-1999-11ee-90b2-919230383f47   \n",
       "4  1901e30a-31fa-11e8-83f4-f23c91bb6188   \n",
       "\n",
       "                                        review_title  review_rating  \\\n",
       "0  Out of bundle data eating up my airtime even a...              1   \n",
       "1                           worst service - Vodacom.              1   \n",
       "2                  Cancel Vodacom contract please. 😒              1   \n",
       "3      Refund taking forever - customer service poor              1   \n",
       "4                      Vodacom-Secure encryted login              1   \n",
       "\n",
       "                                      review_content  ...       industry_slug  \\\n",
       "0  Out of bundle services stopped working after I...  ...  telecommunications   \n",
       "1  I have been a customer of Vodacom for more tha...  ...  telecommunications   \n",
       "2  Now that Vodacom com collected  the router. No...  ...  telecommunications   \n",
       "3  Customer service very poor at Vodacom . Refund...  ...  telecommunications   \n",
       "4  No one at Vodacom can explain \"Secure encrypte...  ...  telecommunications   \n",
       "\n",
       "  status_id nps_rating   source is_reported business_reporting  \\\n",
       "0         1        NaN  WEBSITE       False               None   \n",
       "1         1        NaN  WEBSITE       False               None   \n",
       "2         1        NaN  WEBSITE       False               None   \n",
       "3         1        NaN  WEBSITE       False               None   \n",
       "4         1        NaN  WEBSITE       False               None   \n",
       "\n",
       "  author_created_date author_total_reviews_count attachments  business  \n",
       "0          2017-01-13                         20          []   vodacom  \n",
       "1          2020-05-22                          3          []   vodacom  \n",
       "2          2022-12-21                          2          []   vodacom  \n",
       "3          2023-07-03                          5          []   vodacom  \n",
       "4          2014-02-17                          3          []   vodacom  \n",
       "\n",
       "[5 rows x 28 columns]"
      ]
     },
     "metadata": {},
     "output_type": "display_data"
    }
   ],
   "source": [
    "df_reviews = pd.concat([vodacom_reviews, mtn_reviews, telkom_reviews, cell_c_reviews, rain_reviews])\n",
    "\n",
    "print(df_reviews.shape)\n",
    "display(df_reviews.head())"
   ]
  },
  {
   "cell_type": "markdown",
   "metadata": {},
   "source": [
    "## Exploratory Data Analysis"
   ]
  },
  {
   "cell_type": "code",
   "execution_count": 18,
   "metadata": {},
   "outputs": [
    {
     "name": "stdout",
     "output_type": "stream",
     "text": [
      "<class 'pandas.core.frame.DataFrame'>\n",
      "Index: 93880 entries, 0 to 16523\n",
      "Data columns (total 28 columns):\n",
      " #   Column                      Non-Null Count  Dtype         \n",
      "---  ------                      --------------  -----         \n",
      " 0   id                          93880 non-null  int64         \n",
      " 1   user_id                     93879 non-null  object        \n",
      " 2   created_at                  93880 non-null  datetime64[ns]\n",
      " 3   authorDisplayName           93880 non-null  object        \n",
      " 4   author                      93880 non-null  object        \n",
      " 5   authorAvatar                93880 non-null  object        \n",
      " 6   author_id                   93879 non-null  object        \n",
      " 7   review_title                93880 non-null  object        \n",
      " 8   review_rating               93880 non-null  int64         \n",
      " 9   review_content              93880 non-null  object        \n",
      " 10  business_name               93880 non-null  object        \n",
      " 11  business_slug               93880 non-null  object        \n",
      " 12  permalink                   93880 non-null  object        \n",
      " 13  replied                     93880 non-null  bool          \n",
      " 14  messages                    93880 non-null  object        \n",
      " 15  business_logo               93880 non-null  object        \n",
      " 16  industry_logo               93880 non-null  object        \n",
      " 17  industry_name               93880 non-null  object        \n",
      " 18  industry_slug               93880 non-null  object        \n",
      " 19  status_id                   93880 non-null  int64         \n",
      " 20  nps_rating                  39405 non-null  float64       \n",
      " 21  source                      93875 non-null  object        \n",
      " 22  is_reported                 93880 non-null  bool          \n",
      " 23  business_reporting          244 non-null    object        \n",
      " 24  author_created_date         93880 non-null  object        \n",
      " 25  author_total_reviews_count  93880 non-null  int64         \n",
      " 26  attachments                 93880 non-null  object        \n",
      " 27  business                    93880 non-null  object        \n",
      "dtypes: bool(2), datetime64[ns](1), float64(1), int64(4), object(20)\n",
      "memory usage: 19.5+ MB\n"
     ]
    }
   ],
   "source": [
    "df_reviews.info()"
   ]
  },
  {
   "cell_type": "code",
   "execution_count": 17,
   "metadata": {},
   "outputs": [
    {
     "data": {
      "image/png": "[encoded data removed]",
      "text/plain": [
       "<Figure size 500x150 with 1 Axes>"
      ]
     },
     "metadata": {},
     "output_type": "display_data"
    }
   ],
   "source": [
    "df_reviews.business_name.value_counts().plot(kind='barh', figsize=(5, 1.5))\n",
    "plt.show()"
   ]
  },
  {
   "cell_type": "markdown",
   "metadata": {},
   "source": [
    "## Save Data"
   ]
  },
  {
   "cell_type": "code",
   "execution_count": 20,
   "metadata": {},
   "outputs": [],
   "source": [
    "df_reviews.to_parquet('../../data/interim/01-02_reviews.parquet.gz', compression='gzip')"
   ]
  }
 ],
 "metadata": {
  "kernelspec": {
   "display_name": "Python 3",
   "language": "python",
   "name": "python3"
  },
  "language_info": {
   "codemirror_mode": {
    "name": "ipython",
    "version": 3
   },
   "file_extension": ".py",
   "mimetype": "text/x-python",
   "name": "python",
   "nbconvert_exporter": "python",
   "pygments_lexer": "ipython3",
   "version": "3.11.4"
  },
  "orig_nbformat": 4
 },
 "nbformat": 4,
 "nbformat_minor": 2
}
