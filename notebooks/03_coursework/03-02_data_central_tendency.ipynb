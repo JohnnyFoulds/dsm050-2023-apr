{
 "cells": [
  {
   "attachments": {},
   "cell_type": "markdown",
   "metadata": {},
   "source": [
    "# 03-02 : Central Tendency\n",
    "\n",
    "reference: [Lecture 2: Central tendency](https://learn.london.ac.uk/mod/page/view.php?id=111238&forceview=1)"
   ]
  },
  {
   "cell_type": "code",
   "execution_count": 1,
   "metadata": {},
   "outputs": [],
   "source": [
    "import pandas as pd\n",
    "import numpy as np\n",
    "from typing import Dict, List\n",
    "import missingno as msno\n",
    "import matplotlib as mpl\n",
    "import matplotlib.pyplot as plt"
   ]
  },
  {
   "attachments": {},
   "cell_type": "markdown",
   "metadata": {},
   "source": [
    "## Data Collection"
   ]
  },
  {
   "attachments": {},
   "cell_type": "markdown",
   "metadata": {},
   "source": [
    "### Functions"
   ]
  },
  {
   "cell_type": "code",
   "execution_count": 2,
   "metadata": {},
   "outputs": [],
   "source": [
    "def load_survey_data(file_path:str) -> pd.DataFrame:\n",
    "    \"\"\"Load the data gathered via Survey\"\"\"\n",
    "    # read the dataset\n",
    "    df_result = pd.read_excel(\n",
    "        io=file_path,\n",
    "        usecols=[0, 3, 4, 5, 6, 7, 8, 9, 10, 11, 13, 14, 16, 17, 18])\n",
    "\n",
    "    # assign column names\n",
    "    df_result.columns = [\n",
    "        'id',\n",
    "        'occupation',\n",
    "        'gender',\n",
    "        'age',\n",
    "        'education',\n",
    "        'marital_status',\n",
    "        'provider',\n",
    "        'customer_years',\n",
    "        'customer_type',\n",
    "        'preferred_channel',\n",
    "        'satisfaction_overall',\n",
    "        'used_ai',\n",
    "        'satisfaction_ai',\n",
    "        'effective_ai',\n",
    "        'review_date'\n",
    "    ]\n",
    "\n",
    "    return df_result"
   ]
  },
  {
   "attachments": {},
   "cell_type": "markdown",
   "metadata": {},
   "source": [
    "### Data Load"
   ]
  },
  {
   "cell_type": "code",
   "execution_count": 3,
   "metadata": {},
   "outputs": [
    {
     "name": "stdout",
     "output_type": "stream",
     "text": [
      "(40, 15)\n"
     ]
    },
    {
     "data": {
      "text/html": [
       "<div>\n",
       "<style scoped>\n",
       "    .dataframe tbody tr th:only-of-type {\n",
       "        vertical-align: middle;\n",
       "    }\n",
       "\n",
       "    .dataframe tbody tr th {\n",
       "        vertical-align: top;\n",
       "    }\n",
       "\n",
       "    .dataframe thead th {\n",
       "        text-align: right;\n",
       "    }\n",
       "</style>\n",
       "<table border=\"1\" class=\"dataframe\">\n",
       "  <thead>\n",
       "    <tr style=\"text-align: right;\">\n",
       "      <th></th>\n",
       "      <th>id</th>\n",
       "      <th>occupation</th>\n",
       "      <th>gender</th>\n",
       "      <th>age</th>\n",
       "      <th>education</th>\n",
       "      <th>marital_status</th>\n",
       "      <th>provider</th>\n",
       "      <th>customer_years</th>\n",
       "      <th>customer_type</th>\n",
       "      <th>preferred_channel</th>\n",
       "      <th>satisfaction_overall</th>\n",
       "      <th>used_ai</th>\n",
       "      <th>satisfaction_ai</th>\n",
       "      <th>effective_ai</th>\n",
       "      <th>review_date</th>\n",
       "    </tr>\n",
       "  </thead>\n",
       "  <tbody>\n",
       "    <tr>\n",
       "      <th>0</th>\n",
       "      <td>1058192-1058174-111830520</td>\n",
       "      <td>Employed</td>\n",
       "      <td>Male</td>\n",
       "      <td>35-44 years</td>\n",
       "      <td>Bachelor Degree</td>\n",
       "      <td>Married or domestic partnership</td>\n",
       "      <td>Vodacom</td>\n",
       "      <td>More than 5 years</td>\n",
       "      <td>Contract</td>\n",
       "      <td>Phone</td>\n",
       "      <td>5</td>\n",
       "      <td>Yes</td>\n",
       "      <td>3.0</td>\n",
       "      <td>Agree</td>\n",
       "      <td>01/01/2023</td>\n",
       "    </tr>\n",
       "    <tr>\n",
       "      <th>1</th>\n",
       "      <td>1058192-1058174-111884750</td>\n",
       "      <td>Employed</td>\n",
       "      <td>Female</td>\n",
       "      <td>35-44 years</td>\n",
       "      <td>Masters Degree/MBA or similar</td>\n",
       "      <td>Married or domestic partnership</td>\n",
       "      <td>Vodacom</td>\n",
       "      <td>More than 5 years</td>\n",
       "      <td>Hybrid</td>\n",
       "      <td>Phone</td>\n",
       "      <td>4</td>\n",
       "      <td>Yes</td>\n",
       "      <td>3.0</td>\n",
       "      <td>Neutral</td>\n",
       "      <td>16/06/2022</td>\n",
       "    </tr>\n",
       "    <tr>\n",
       "      <th>2</th>\n",
       "      <td>1058192-1058174-111894339</td>\n",
       "      <td>Employed</td>\n",
       "      <td>Male</td>\n",
       "      <td>45-54 years</td>\n",
       "      <td>Bachelor Degree</td>\n",
       "      <td>Divorced</td>\n",
       "      <td>Other</td>\n",
       "      <td>2-5 years</td>\n",
       "      <td>Contract</td>\n",
       "      <td>In-person</td>\n",
       "      <td>5</td>\n",
       "      <td>Yes</td>\n",
       "      <td>1.0</td>\n",
       "      <td>Disagree</td>\n",
       "      <td>15/05/2023</td>\n",
       "    </tr>\n",
       "  </tbody>\n",
       "</table>\n",
       "</div>"
      ],
      "text/plain": [
       "                          id occupation  gender          age  \\\n",
       "0  1058192-1058174-111830520   Employed    Male  35-44 years   \n",
       "1  1058192-1058174-111884750   Employed  Female  35-44 years   \n",
       "2  1058192-1058174-111894339   Employed    Male  45-54 years   \n",
       "\n",
       "                       education                   marital_status provider  \\\n",
       "0                Bachelor Degree  Married or domestic partnership  Vodacom   \n",
       "1  Masters Degree/MBA or similar  Married or domestic partnership  Vodacom   \n",
       "2                Bachelor Degree                         Divorced    Other   \n",
       "\n",
       "      customer_years customer_type preferred_channel  satisfaction_overall  \\\n",
       "0  More than 5 years      Contract             Phone                     5   \n",
       "1  More than 5 years        Hybrid             Phone                     4   \n",
       "2          2-5 years      Contract         In-person                     5   \n",
       "\n",
       "  used_ai  satisfaction_ai effective_ai review_date  \n",
       "0     Yes              3.0        Agree  01/01/2023  \n",
       "1     Yes              3.0      Neutral  16/06/2022  \n",
       "2     Yes              1.0     Disagree  15/05/2023  "
      ]
     },
     "metadata": {},
     "output_type": "display_data"
    }
   ],
   "source": [
    "df_survey = load_survey_data('../../data/raw/results-for-telecommunica-2023-08-08-0844.xlsx')\n",
    "\n",
    "# show the first 3 rows\n",
    "print(df_survey.shape)\n",
    "display(df_survey.head(3))"
   ]
  },
  {
   "attachments": {},
   "cell_type": "markdown",
   "metadata": {},
   "source": [
    "## Pre-processing"
   ]
  },
  {
   "attachments": {},
   "cell_type": "markdown",
   "metadata": {},
   "source": [
    "### Data Types"
   ]
  },
  {
   "attachments": {},
   "cell_type": "markdown",
   "metadata": {},
   "source": [
    "#### Set Nominal Values"
   ]
  },
  {
   "cell_type": "code",
   "execution_count": 4,
   "metadata": {},
   "outputs": [],
   "source": [
    "def set_category(dataframe:pd.DataFrame, column_name:str) -> None:\n",
    "    \"\"\"Set the specified column to be a category type.\"\"\"\n",
    "    dataframe[column_name] = dataframe[column_name].astype('category')"
   ]
  },
  {
   "cell_type": "code",
   "execution_count": 5,
   "metadata": {},
   "outputs": [],
   "source": [
    "def set_categorical_columns(dataframe: pd.DataFrame) -> pd.DataFrame:\n",
    "    \"\"\"Set the datatype for all categorical columns\"\"\"\n",
    "    df_result = dataframe.copy()\n",
    "\n",
    "    set_category(df_result, 'occupation')\n",
    "    set_category(df_result, 'gender')\n",
    "    set_category(df_result, 'marital_status')\n",
    "    set_category(df_result, 'provider')\n",
    "    set_category(df_result, 'customer_type')\n",
    "    set_category(df_result, 'preferred_channel')\n",
    "\n",
    "    return df_result"
   ]
  },
  {
   "cell_type": "code",
   "execution_count": 6,
   "metadata": {},
   "outputs": [],
   "source": [
    "df_survey = set_categorical_columns(df_survey)"
   ]
  },
  {
   "attachments": {},
   "cell_type": "markdown",
   "metadata": {},
   "source": [
    "#### Set Ordinal Values"
   ]
  },
  {
   "cell_type": "code",
   "execution_count": 7,
   "metadata": {},
   "outputs": [],
   "source": [
    "def set_ordinal(dataframe:pd.DataFrame, column_name:str, categories:List[str]) -> None:\n",
    "    \"\"\"Set the specified column to be a ordered category type.\"\"\"\n",
    "    dataframe[column_name] = dataframe[column_name].astype(\n",
    "        pd.CategoricalDtype(categories=categories, ordered=True))"
   ]
  },
  {
   "cell_type": "code",
   "execution_count": 8,
   "metadata": {},
   "outputs": [],
   "source": [
    "def set_ordinal_columns(dataframe: pd.DataFrame) -> pd.DataFrame:\n",
    "    \"\"\"Set the datatype for all ordinal columns\"\"\"\n",
    "    df_result = dataframe.copy()\n",
    "\n",
    "    # What is your age? \n",
    "    set_ordinal(df_result, 'age', [\n",
    "        'Under 18 years',\n",
    "        '18-24 years',\n",
    "        '25-34 years',\n",
    "        '35-44 years',\n",
    "        '45-54 years',\n",
    "        '55-64 years',\n",
    "        '65 years or older'])\n",
    "\n",
    "    # What is the highest education level you have received?\n",
    "    set_ordinal(df_result, 'education', [\n",
    "        'Less than high school degree',\n",
    "        'Highschool graduate or similar',\n",
    "        'Bachelor Degree',\n",
    "        'Masters Degree/MBA or similar',\n",
    "        'Doctoral Degree/PhD'])\n",
    "\n",
    "    # How long have you been a customer of your current telecommunications provider?\n",
    "    set_ordinal(df_result, 'customer_years', [\n",
    "        'Less than 6 months',\n",
    "        '6 months to 1 year',\n",
    "        '1-2 years',\n",
    "        '2-5 years',\n",
    "        'More than 5 years'])\n",
    "\n",
    "    # In your opinion, do AI-driven customer service tools provide personalised and effective solutions to your queries or issues? \n",
    "    set_ordinal(df_result, 'effective_ai', [\n",
    "        'Strongly agree',\n",
    "        'Agree',\n",
    "        'Neutral',\n",
    "        'Disagree',\n",
    "        'Strongly disagree'])\n",
    "\n",
    "    return df_result "
   ]
  },
  {
   "cell_type": "code",
   "execution_count": 9,
   "metadata": {},
   "outputs": [],
   "source": [
    "df_survey = set_ordinal_columns(df_survey)"
   ]
  },
  {
   "attachments": {},
   "cell_type": "markdown",
   "metadata": {},
   "source": [
    "#### Likert Scale Questions"
   ]
  },
  {
   "cell_type": "code",
   "execution_count": 10,
   "metadata": {},
   "outputs": [],
   "source": [
    "def likert_to_ordinal(dataframe:pd.DataFrame, column_name:str, mapping:Dict[int, str]) -> None:\n",
    "    \"\"\"Set the specified column to be a ordered category type.\"\"\"\n",
    "    dataframe[column_name] = dataframe[column_name] \\\n",
    "        .map(mapping) \\\n",
    "        .astype(pd.CategoricalDtype(categories=mapping.values(), ordered=True))"
   ]
  },
  {
   "cell_type": "code",
   "execution_count": 11,
   "metadata": {},
   "outputs": [],
   "source": [
    "def set_likert_columns(dataframe: pd.DataFrame) -> pd.DataFrame:\n",
    "    \"\"\"Map likert 1-5 questions to oridinal valiues\"\"\"\n",
    "    df_result = dataframe.copy()\n",
    "\n",
    "    # define the mapping\n",
    "    mapping = {\n",
    "        1: 'Very Dissatisfied',\n",
    "        2: 'Dissatisfied',\n",
    "        3: 'Neutral',\n",
    "        4: 'Satisfied',\n",
    "        5: 'Very Satisfied'\n",
    "    }\n",
    "\n",
    "    # On a scale of 1 to 5, with 1 being \"very dissatisfied\" and 5 being \"very satisfied\",\n",
    "    # how would you rate your overall satisfaction with your provider's customer service?\n",
    "    likert_to_ordinal(df_result, 'satisfaction_overall', mapping)\n",
    "\n",
    "    # If you answered \"Yes\" to the previous question, on a scale of 1 to 5, with 1 being \n",
    "    # \"very dissatisfied\" and 5 being \"very satisfied\", how would you rate your experience\n",
    "    # with AI-powered customer service tools?\n",
    "    likert_to_ordinal(df_result, 'satisfaction_ai', mapping)\n",
    "\n",
    "    return df_result"
   ]
  },
  {
   "cell_type": "code",
   "execution_count": 12,
   "metadata": {},
   "outputs": [],
   "source": [
    "df_survey = set_likert_columns(df_survey)"
   ]
  },
  {
   "attachments": {},
   "cell_type": "markdown",
   "metadata": {},
   "source": [
    "#### Boolean Values"
   ]
  },
  {
   "cell_type": "code",
   "execution_count": 13,
   "metadata": {},
   "outputs": [],
   "source": [
    "def set_boolean_columns(dataframe: pd.DataFrame) -> pd.DataFrame:\n",
    "    \"\"\"Update the datatype of boolean columns\"\"\"\n",
    "    df_result = dataframe.copy()\n",
    "    df_result.used_ai = df_result.used_ai.astype('bool')\n",
    "\n",
    "    return df_result"
   ]
  },
  {
   "cell_type": "code",
   "execution_count": 14,
   "metadata": {},
   "outputs": [],
   "source": [
    "df_survey = set_boolean_columns(df_survey)"
   ]
  },
  {
   "attachments": {},
   "cell_type": "markdown",
   "metadata": {},
   "source": [
    "#### Date Values"
   ]
  },
  {
   "cell_type": "code",
   "execution_count": 15,
   "metadata": {},
   "outputs": [],
   "source": [
    "def set_date_columns(dataframe: pd.DataFrame) -> pd.DataFrame:\n",
    "    \"\"\"Set the datatype for columns containing dates\"\"\"\n",
    "    df_result = dataframe.copy()\n",
    "    df_result.review_date = pd.to_datetime(df_result.review_date, format='%d/%m/%Y')\n",
    "\n",
    "    return df_result"
   ]
  },
  {
   "cell_type": "code",
   "execution_count": 16,
   "metadata": {},
   "outputs": [],
   "source": [
    "df_survey = set_date_columns(df_survey)"
   ]
  },
  {
   "attachments": {},
   "cell_type": "markdown",
   "metadata": {},
   "source": [
    "## Analysis and results"
   ]
  },
  {
   "attachments": {},
   "cell_type": "markdown",
   "metadata": {},
   "source": [
    "### Univariate Analysis"
   ]
  },
  {
   "attachments": {},
   "cell_type": "markdown",
   "metadata": {},
   "source": [
    "#### Central Tendency"
   ]
  },
  {
   "attachments": {},
   "cell_type": "markdown",
   "metadata": {},
   "source": [
    "##### Mode\n",
    "\n",
    "Applies to Nominal, Ordinal, Interval and Ratio data."
   ]
  },
  {
   "cell_type": "code",
   "execution_count": 17,
   "metadata": {},
   "outputs": [
    {
     "data": {
      "image/png": "[encoded data removed]",
      "text/plain": [
       "<Figure size 640x480 with 1 Axes>"
      ]
     },
     "metadata": {},
     "output_type": "display_data"
    }
   ],
   "source": [
    "def plot_mode(dataframe:pd.DataFrame, column:str, title:str, xlabel:str) ->None:\n",
    "    counts = dataframe[column].value_counts()\n",
    "\n",
    "    # Plot the counts as a bar chart.\n",
    "    ax = counts.plot.bar(rot=0)\n",
    "\n",
    "    ax.set_title (f'Counts of {title}')\n",
    "    ax.set_xlabel(xlabel)\n",
    "    ax.set_ylabel ('frequency')\n",
    "\n",
    "    # Format counts as integers.\n",
    "    ax.yaxis.set_major_formatter(mpl.ticker.EngFormatter(places=0))\n",
    "\n",
    "    # Find the mode so we can label it on the plot.\n",
    "    mode = dataframe[column].mode()[0]\n",
    "\n",
    "    # Find the index of the mode in the plot.\n",
    "    mode_pos = counts.index.get_loc(mode)\n",
    "    ax.annotate('mode={}'.format(mode), xy=(mode_pos + 0.25, 14),\n",
    "                xytext=(mode_pos + 0.7, 15),\n",
    "                arrowprops=dict(facecolor='black', shrink=0.05))\n",
    "    \n",
    "    plt.show ()\n",
    "\n",
    "# test the function\n",
    "plot_mode(\n",
    "    dataframe = df_survey,\n",
    "    column='preferred_channel',\n",
    "    title = 'preferred service channel',\n",
    "    xlabel='service channel')"
   ]
  },
  {
   "attachments": {},
   "cell_type": "markdown",
   "metadata": {},
   "source": [
    "##### Median\n",
    "\n",
    "Applies to Ordinal, Interval and Ratio data.\n",
    "\n",
    "reference: [Summary Statistics for Categorical Data](https://www.codecademy.com/learn/stats-summary-statistics-for-categorical-data/modules/stats-summary-statistics-for-categorical-data/cheatsheet)"
   ]
  },
  {
   "cell_type": "code",
   "execution_count": 18,
   "metadata": {},
   "outputs": [
    {
     "data": {
      "text/plain": [
       "'Bachelor Degree'"
      ]
     },
     "execution_count": 18,
     "metadata": {},
     "output_type": "execute_result"
    }
   ],
   "source": [
    "def get_ordinal_median(dataframe:pd, column:str) -> str:\n",
    "    \"\"\"Get the text of the median value of an ordinal categorical column\"\"\"\n",
    "    median_value = np.median(dataframe[column].cat.codes)\n",
    "    median_text = dataframe[column].cat.categories[int(median_value)]\n",
    "\n",
    "    return median_text\n",
    "\n",
    "# test the fucntion\n",
    "get_ordinal_median(df_survey, 'education')"
   ]
  }
 ],
 "metadata": {
  "kernelspec": {
   "display_name": "Python 3",
   "language": "python",
   "name": "python3"
  },
  "language_info": {
   "codemirror_mode": {
    "name": "ipython",
    "version": 3
   },
   "file_extension": ".py",
   "mimetype": "text/x-python",
   "name": "python",
   "nbconvert_exporter": "python",
   "pygments_lexer": "ipython3",
   "version": "3.11.4"
  },
  "orig_nbformat": 4
 },
 "nbformat": 4,
 "nbformat_minor": 2
}
