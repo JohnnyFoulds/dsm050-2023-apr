{
 "cells": [
  {
   "cell_type": "markdown",
   "metadata": {},
   "source": [
    "# 02-03 : Combine Twitter Data"
   ]
  },
  {
   "cell_type": "code",
   "execution_count": 16,
   "metadata": {},
   "outputs": [],
   "source": [
    "import pandas as pd\n",
    "from datetime import datetime\n",
    "import json\n",
    "import pickle\n",
    "from pprint import pprint\n",
    "from typing import List, Dict"
   ]
  },
  {
   "cell_type": "markdown",
   "metadata": {},
   "source": [
    "## Data Load"
   ]
  },
  {
   "cell_type": "code",
   "execution_count": 2,
   "metadata": {},
   "outputs": [],
   "source": [
    "def read_pickle_tweets(file_path:str) -> List[Dict]:\n",
    "    \"\"\"Read a tweet pickle file and return a list of tweets.\"\"\"\n",
    "    # read the pickle file\n",
    "    with open(file_path, 'rb') as f:\n",
    "        pkl_tweets = pickle.load(f)\n",
    "\n",
    "    # return the list of tweets\n",
    "    return [json.loads(tweet.json()) for tweet in pkl_tweets]  "
   ]
  },
  {
   "cell_type": "code",
   "execution_count": 3,
   "metadata": {},
   "outputs": [
    {
     "name": "stdout",
     "output_type": "stream",
     "text": [
      "Vodacom  : 983\n",
      "Vodafone : 1482\n"
     ]
    }
   ],
   "source": [
    "js_vodacom = read_pickle_tweets('../../data/raw/02_01_tweets.pkl')\n",
    "print(f'Vodacom  : {len(js_vodacom)}')\n",
    "\n",
    "js_vodafone = read_pickle_tweets('../../data/raw/02_02_tweets_vodafone.pkl')\n",
    "print(f'Vodafone : {len(js_vodafone)}')"
   ]
  },
  {
   "cell_type": "markdown",
   "metadata": {},
   "source": [
    "## Convert to DataFrame"
   ]
  },
  {
   "cell_type": "code",
   "execution_count": 4,
   "metadata": {},
   "outputs": [
    {
     "name": "stdout",
     "output_type": "stream",
     "text": [
      "{'_type': 'snscrape.modules.twitter.Tweet',\n",
      " 'cashtags': [],\n",
      " 'conversationId': 1643599377834061826,\n",
      " 'coordinates': None,\n",
      " 'date': '2023-04-07 15:08:10+00:00',\n",
      " 'hashtags': [],\n",
      " 'id': 1644356395607678977,\n",
      " 'id_str': '1644356395607678977',\n",
      " 'inReplyToTweetId': 1643599377834061826,\n",
      " 'inReplyToUser': {'_type': 'snscrape.modules.twitter.UserRef',\n",
      "                   'displayname': 'Vodacom',\n",
      "                   'id': 14574763,\n",
      "                   'username': 'Vodacom'},\n",
      " 'lang': 'en',\n",
      " 'likeCount': 0,\n",
      " 'links': [],\n",
      " 'media': {'animated': [], 'photos': [], 'videos': []},\n",
      " 'mentionedUsers': [{'_type': 'snscrape.modules.twitter.UserRef',\n",
      "                     'displayname': 'Vodacom',\n",
      "                     'id': 14574763,\n",
      "                     'username': 'Vodacom'},\n",
      "                    {'_type': 'snscrape.modules.twitter.UserRef',\n",
      "                     'displayname': 'Evan Greenwood',\n",
      "                     'id': 2867399789,\n",
      "                     'username': 'CodeOfTheVoid'},\n",
      "                    {'_type': 'snscrape.modules.twitter.UserRef',\n",
      "                     'displayname': 'Nafisa Akabor',\n",
      "                     'id': 14783779,\n",
      "                     'username': 'nafisa1'}],\n",
      " 'place': None,\n",
      " 'quoteCount': 0,\n",
      " 'quotedTweet': None,\n",
      " 'rawContent': '@Vodacom @CodeOfTheVoid @nafisa1 guys how do i connect to a '\n",
      "               'sales consultant coz i foubd myself talking to tobi?',\n",
      " 'replyCount': 1,\n",
      " 'retweetCount': 0,\n",
      " 'retweetedTweet': None,\n",
      " 'source': '<a href=\"http://twitter.com/download/android\" '\n",
      "           'rel=\"nofollow\">Twitter for Android</a>',\n",
      " 'sourceLabel': 'Twitter for Android',\n",
      " 'sourceUrl': 'http://twitter.com/download/android',\n",
      " 'url': 'https://twitter.com/mshikaslindile/status/1644356395607678977',\n",
      " 'user': {'_type': 'snscrape.modules.twitter.User',\n",
      "          'blue': False,\n",
      "          'blueType': None,\n",
      "          'created': '2015-01-19 22:53:23+00:00',\n",
      "          'descriptionLinks': [],\n",
      "          'displayname': 'uPresident Wamaqiniso uMaMdletshe',\n",
      "          'favouritesCount': 93274,\n",
      "          'followersCount': 15576,\n",
      "          'friendsCount': 12976,\n",
      "          'id': 2986467171,\n",
      "          'id_str': '2986467171',\n",
      "          'listedCount': 10,\n",
      "          'location': 'Durban, South Africa',\n",
      "          'mediaCount': 9481,\n",
      "          'profileBannerUrl': 'https://pbs.twimg.com/profile_banners/2986467171/1678973547',\n",
      "          'profileImageUrl': 'https://pbs.twimg.com/profile_images/1536513942348079104/l054Qg3g_normal.jpg',\n",
      "          'protected': None,\n",
      "          'rawDescription': 'A Speaker Of Truth Has No Friends',\n",
      "          'statusesCount': 59439,\n",
      "          'url': 'https://twitter.com/mshikaslindile',\n",
      "          'username': 'mshikaslindile',\n",
      "          'verified': False},\n",
      " 'viewCount': 45}\n"
     ]
    }
   ],
   "source": [
    "pprint(js_vodacom[101])"
   ]
  },
  {
   "cell_type": "code",
   "execution_count": 54,
   "metadata": {},
   "outputs": [
    {
     "name": "stdout",
     "output_type": "stream",
     "text": [
      "{'conversationId': 1662066053428510721,\n",
      " 'date': datetime.datetime(2023, 7, 9, 22, 48, 37, tzinfo=datetime.timezone.utc),\n",
      " 'id': 1678174347033296897,\n",
      " 'inReplyToDisplayName': 'Vodacom',\n",
      " 'inReplyToTweetId': 1662066053428510721,\n",
      " 'inReplyToUserId': 14574763,\n",
      " 'inReplyToUsername': 'Vodacom',\n",
      " 'language': 'en',\n",
      " 'likeCount': 0,\n",
      " 'quoteCount': 0,\n",
      " 'rawContent': '@Vodacom This tobi thing is nothing but useless... Kept on '\n",
      "               'saying it will send sms but no sms is received...',\n",
      " 'replyCount': 2,\n",
      " 'retweetCount': 0,\n",
      " 'source': 'Twitter for Android',\n",
      " 'url': 'https://twitter.com/kbwalefafatshe/status/1678174347033296897',\n",
      " 'userCreated': datetime.datetime(2009, 10, 30, 14, 21, 8, tzinfo=datetime.timezone.utc),\n",
      " 'userDisplayName': 'Kabelo Tlhabanelo',\n",
      " 'userFollowersCount': 2313,\n",
      " 'userId': 86322365,\n",
      " 'userLocation': '🇿🇦',\n",
      " 'userStatusesCount': 2288,\n",
      " 'userUsername': 'kbwalefafatshe'}\n"
     ]
    }
   ],
   "source": [
    "def extract_tweet_data(tweet:Dict) -> Dict:\n",
    "    \"\"\"Extracts relevant data from a tweet\"\"\"\n",
    "    return {\n",
    "        'id': tweet['id'],\n",
    "        'conversationId': tweet['conversationId'],\n",
    "        'date': datetime.strptime(tweet['date'], '%Y-%m-%d %H:%M:%S%z'),\n",
    "        'rawContent': tweet['rawContent'],\n",
    "        'inReplyToTweetId': tweet['inReplyToTweetId'],\n",
    "        'inReplyToUserId': tweet['inReplyToUser']['id'],\n",
    "        'inReplyToUsername': tweet['inReplyToUser']['username'],\n",
    "        'inReplyToDisplayName': tweet['inReplyToUser']['displayname'],\n",
    "        'language': tweet['lang'],\n",
    "        'likeCount': tweet['likeCount'],\n",
    "        'quoteCount': tweet['quoteCount'],\n",
    "        'replyCount': tweet['replyCount'],\n",
    "        'retweetCount': tweet['retweetCount'],\n",
    "        'source': tweet['sourceLabel'],\n",
    "        'url': tweet['url'],\n",
    "        'userCreated': datetime.strptime(tweet['user']['created'], '%Y-%m-%d %H:%M:%S%z'),\n",
    "        'userDisplayName': tweet['user']['displayname'],\n",
    "        'userFollowersCount': tweet['user']['followersCount'],\n",
    "        'userId': tweet['user']['id'],\n",
    "        'userLocation': tweet['user']['location'],\n",
    "        'userStatusesCount': tweet['user']['statusesCount'],\n",
    "        'userUsername': tweet['user']['username'],\n",
    "    }\n",
    "\n",
    "# test the function\n",
    "pprint(extract_tweet_data(js_vodacom[20]))"
   ]
  }
 ],
 "metadata": {
  "kernelspec": {
   "display_name": "Python 3",
   "language": "python",
   "name": "python3"
  },
  "language_info": {
   "codemirror_mode": {
    "name": "ipython",
    "version": 3
   },
   "file_extension": ".py",
   "mimetype": "text/x-python",
   "name": "python",
   "nbconvert_exporter": "python",
   "pygments_lexer": "ipython3",
   "version": "3.11.4"
  },
  "orig_nbformat": 4
 },
 "nbformat": 4,
 "nbformat_minor": 2
}
