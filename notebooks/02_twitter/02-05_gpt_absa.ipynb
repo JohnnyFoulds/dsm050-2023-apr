{
 "cells": [
  {
   "cell_type": "markdown",
   "metadata": {},
   "source": [
    "# 02-05 : Aspect Based Sentiment Analysis (LLM)"
   ]
  },
  {
   "cell_type": "code",
   "execution_count": 1,
   "metadata": {},
   "outputs": [],
   "source": [
    "import os\n",
    "import pandas as pd\n",
    "import json\n",
    "from time import sleep\n",
    "from typing import List, Dict, Tuple\n",
    "from pprint import pprint\n",
    "from tqdm.notebook import tqdm\n",
    "\n",
    "from dotenv import load_dotenv, find_dotenv\n",
    "import openai\n",
    "from langchain.chat_models import ChatOpenAI\n",
    "from langchain.prompts import ChatPromptTemplate"
   ]
  },
  {
   "cell_type": "code",
   "execution_count": 2,
   "metadata": {},
   "outputs": [],
   "source": [
    "# read local .env file\n",
    "_ = load_dotenv(find_dotenv())\n",
    "openai.api_key = os.environ['OPENAI_API_KEY']"
   ]
  },
  {
   "cell_type": "code",
   "execution_count": 3,
   "metadata": {},
   "outputs": [],
   "source": [
    "tqdm.pandas()"
   ]
  },
  {
   "cell_type": "markdown",
   "metadata": {},
   "source": [
    "## Data Load"
   ]
  },
  {
   "cell_type": "code",
   "execution_count": 4,
   "metadata": {},
   "outputs": [
    {
     "name": "stdout",
     "output_type": "stream",
     "text": [
      "(983, 22)\n"
     ]
    },
    {
     "data": {
      "text/html": [
       "<div>\n",
       "<style scoped>\n",
       "    .dataframe tbody tr th:only-of-type {\n",
       "        vertical-align: middle;\n",
       "    }\n",
       "\n",
       "    .dataframe tbody tr th {\n",
       "        vertical-align: top;\n",
       "    }\n",
       "\n",
       "    .dataframe thead th {\n",
       "        text-align: right;\n",
       "    }\n",
       "</style>\n",
       "<table border=\"1\" class=\"dataframe\">\n",
       "  <thead>\n",
       "    <tr style=\"text-align: right;\">\n",
       "      <th></th>\n",
       "      <th>id</th>\n",
       "      <th>conversationId</th>\n",
       "      <th>date</th>\n",
       "      <th>rawContent</th>\n",
       "      <th>inReplyToTweetId</th>\n",
       "      <th>inReplyToUserId</th>\n",
       "      <th>inReplyToUsername</th>\n",
       "      <th>inReplyToDisplayName</th>\n",
       "      <th>language</th>\n",
       "      <th>likeCount</th>\n",
       "      <th>...</th>\n",
       "      <th>retweetCount</th>\n",
       "      <th>source</th>\n",
       "      <th>url</th>\n",
       "      <th>userCreated</th>\n",
       "      <th>userDisplayName</th>\n",
       "      <th>userFollowersCount</th>\n",
       "      <th>userId</th>\n",
       "      <th>userLocation</th>\n",
       "      <th>userStatusesCount</th>\n",
       "      <th>userUsername</th>\n",
       "    </tr>\n",
       "  </thead>\n",
       "  <tbody>\n",
       "    <tr>\n",
       "      <th>0</th>\n",
       "      <td>1684937340169375744</td>\n",
       "      <td>1684937340169375744</td>\n",
       "      <td>2023-07-28 14:42:21+00:00</td>\n",
       "      <td>Serious question:\\n\\nHas anyone, anywhere ever...</td>\n",
       "      <td>None</td>\n",
       "      <td>None</td>\n",
       "      <td>None</td>\n",
       "      <td>None</td>\n",
       "      <td>en</td>\n",
       "      <td>2</td>\n",
       "      <td>...</td>\n",
       "      <td>1</td>\n",
       "      <td>Twitter for Android</td>\n",
       "      <td>https://twitter.com/TopEditorInt/status/168493...</td>\n",
       "      <td>2009-03-04 11:44:38+00:00</td>\n",
       "      <td>TopEditor Internatio</td>\n",
       "      <td>2956</td>\n",
       "      <td>22759776</td>\n",
       "      <td>USA &amp; SA &amp; UK</td>\n",
       "      <td>70294</td>\n",
       "      <td>TopEditorInt</td>\n",
       "    </tr>\n",
       "    <tr>\n",
       "      <th>1</th>\n",
       "      <td>1684892139375710208</td>\n",
       "      <td>1684890636997029888</td>\n",
       "      <td>2023-07-28 11:42:44+00:00</td>\n",
       "      <td>@Vodacom That’s why I wanted to talk to someon...</td>\n",
       "      <td>1684891762496565248</td>\n",
       "      <td>14574763</td>\n",
       "      <td>Vodacom</td>\n",
       "      <td>Vodacom</td>\n",
       "      <td>en</td>\n",
       "      <td>0</td>\n",
       "      <td>...</td>\n",
       "      <td>0</td>\n",
       "      <td>Twitter for iPhone</td>\n",
       "      <td>https://twitter.com/AkonaMhlana/status/1684892...</td>\n",
       "      <td>2009-05-20 14:38:05+00:00</td>\n",
       "      <td>Ntaba ayilali👏🏽</td>\n",
       "      <td>135</td>\n",
       "      <td>41370409</td>\n",
       "      <td>South Africa</td>\n",
       "      <td>866</td>\n",
       "      <td>AkonaMhlana</td>\n",
       "    </tr>\n",
       "    <tr>\n",
       "      <th>2</th>\n",
       "      <td>1684890636997029888</td>\n",
       "      <td>1684890636997029888</td>\n",
       "      <td>2023-07-28 11:36:46+00:00</td>\n",
       "      <td>@Vodacom  what number should I dial to talk to...</td>\n",
       "      <td>None</td>\n",
       "      <td>14574763</td>\n",
       "      <td>Vodacom</td>\n",
       "      <td>Vodacom</td>\n",
       "      <td>en</td>\n",
       "      <td>0</td>\n",
       "      <td>...</td>\n",
       "      <td>0</td>\n",
       "      <td>Twitter for iPhone</td>\n",
       "      <td>https://twitter.com/AkonaMhlana/status/1684890...</td>\n",
       "      <td>2009-05-20 14:38:05+00:00</td>\n",
       "      <td>Ntaba ayilali👏🏽</td>\n",
       "      <td>135</td>\n",
       "      <td>41370409</td>\n",
       "      <td>South Africa</td>\n",
       "      <td>866</td>\n",
       "      <td>AkonaMhlana</td>\n",
       "    </tr>\n",
       "  </tbody>\n",
       "</table>\n",
       "<p>3 rows × 22 columns</p>\n",
       "</div>"
      ],
      "text/plain": [
       "                    id       conversationId                      date  \\\n",
       "0  1684937340169375744  1684937340169375744 2023-07-28 14:42:21+00:00   \n",
       "1  1684892139375710208  1684890636997029888 2023-07-28 11:42:44+00:00   \n",
       "2  1684890636997029888  1684890636997029888 2023-07-28 11:36:46+00:00   \n",
       "\n",
       "                                          rawContent     inReplyToTweetId  \\\n",
       "0  Serious question:\\n\\nHas anyone, anywhere ever...                 None   \n",
       "1  @Vodacom That’s why I wanted to talk to someon...  1684891762496565248   \n",
       "2  @Vodacom  what number should I dial to talk to...                 None   \n",
       "\n",
       "  inReplyToUserId inReplyToUsername inReplyToDisplayName language  likeCount  \\\n",
       "0            None              None                 None       en          2   \n",
       "1        14574763           Vodacom              Vodacom       en          0   \n",
       "2        14574763           Vodacom              Vodacom       en          0   \n",
       "\n",
       "   ...  retweetCount               source  \\\n",
       "0  ...             1  Twitter for Android   \n",
       "1  ...             0   Twitter for iPhone   \n",
       "2  ...             0   Twitter for iPhone   \n",
       "\n",
       "                                                 url  \\\n",
       "0  https://twitter.com/TopEditorInt/status/168493...   \n",
       "1  https://twitter.com/AkonaMhlana/status/1684892...   \n",
       "2  https://twitter.com/AkonaMhlana/status/1684890...   \n",
       "\n",
       "                userCreated       userDisplayName userFollowersCount  \\\n",
       "0 2009-03-04 11:44:38+00:00  TopEditor Internatio               2956   \n",
       "1 2009-05-20 14:38:05+00:00       Ntaba ayilali👏🏽                135   \n",
       "2 2009-05-20 14:38:05+00:00       Ntaba ayilali👏🏽                135   \n",
       "\n",
       "     userId   userLocation userStatusesCount  userUsername  \n",
       "0  22759776  USA & SA & UK             70294  TopEditorInt  \n",
       "1  41370409   South Africa               866   AkonaMhlana  \n",
       "2  41370409   South Africa               866   AkonaMhlana  \n",
       "\n",
       "[3 rows x 22 columns]"
      ]
     },
     "metadata": {},
     "output_type": "display_data"
    }
   ],
   "source": [
    "df_source = pd.read_parquet('../../data/interim/02-03_twitter_vodacom.parquet')\n",
    "\n",
    "# display the first 3 rows\n",
    "print(df_source.shape)\n",
    "display(df_source.head(3))"
   ]
  },
  {
   "cell_type": "markdown",
   "metadata": {},
   "source": [
    "## Aspects"
   ]
  },
  {
   "cell_type": "code",
   "execution_count": 5,
   "metadata": {},
   "outputs": [],
   "source": [
    "entities_aspects = {\n",
    "    \"Billing & Payments\": [\n",
    "        \"Billing accuracy\",\n",
    "        \"Payment methods\",\n",
    "        \"Refunds/credits\",\n",
    "        \"Hidden charges\",\n",
    "        \"Monthly costs\"\n",
    "    ],\n",
    "    \"Network & Connectivity\": [\n",
    "        \"Signal strength\",\n",
    "        \"Network coverage\",\n",
    "        \"Data speeds (4G, 5G, etc.)\",\n",
    "        \"Call quality\",\n",
    "        \"Dropped calls\",\n",
    "        \"Roaming\"\n",
    "    ],\n",
    "    \"Customer Service\": [\n",
    "        \"Responsiveness\",\n",
    "        \"Friendliness/professionalism\",\n",
    "        \"Knowledge/competence\",\n",
    "        \"Resolution time\",\n",
    "        \"Availability (e.g., 24/7 support)\"\n",
    "    ],\n",
    "    \"Chatbots\": [\n",
    "        \"User-friendliness\",\n",
    "        \"Response accuracy\",\n",
    "        \"Speed of response\",\n",
    "        \"Ability to understand query\",\n",
    "        \"Escalation to human agents\"\n",
    "    ],\n",
    "    \"Account & Plans\": [\n",
    "        \"Account management (online portal/apps)\",\n",
    "        \"Plan flexibility\",\n",
    "        \"Plan pricing\",\n",
    "        \"Upgrade/downgrade process\",\n",
    "        \"Promotions and offers\"\n",
    "    ],\n",
    "    \"Hardware/Devices\": [\n",
    "        \"Setup/ease of installation\",\n",
    "        \"Device reliability\",\n",
    "        \"Device performance/speed\",\n",
    "        \"Rental vs. purchase options\",\n",
    "        \"Technical issues\"\n",
    "    ],\n",
    "    \"Value-added Services\": [\n",
    "        \"Quality of service\",\n",
    "        \"Pricing/value for money\",\n",
    "        \"Reliability\",\n",
    "        \"Content variety (for streaming)\",\n",
    "        \"Ease of use\"\n",
    "    ]\n",
    "}"
   ]
  },
  {
   "cell_type": "markdown",
   "metadata": {},
   "source": [
    "## Prompt Template"
   ]
  },
  {
   "cell_type": "code",
   "execution_count": 6,
   "metadata": {},
   "outputs": [],
   "source": [
    "# get the entities and aspects as a string\n",
    "entities_aspects_str = json.dumps(entities_aspects, indent=4)"
   ]
  },
  {
   "cell_type": "code",
   "execution_count": 7,
   "metadata": {},
   "outputs": [],
   "source": [
    "# an example of the output the llm should produce\n",
    "output_example = {\n",
    "    \"Customer Service\": {\n",
    "        \"Responsiveness\": \"Negative\",\n",
    "        \"Friendliness/professionalism\": \"Negative\",\n",
    "        \"Knowledge/competence\": \"Negative\",\n",
    "        \"Availability (e.g., 24/7 support)\": \"Negative\"\n",
    "    },\n",
    "    \"Chatbots\": {\n",
    "        \"User-friendliness\": \"Neutral\",\n",
    "        \"Response accuracy\": \"Negative\",\n",
    "        \"Ability to understand query\": \"Negative\"\n",
    "    }\n",
    "}\n",
    "\n",
    "output_example_str = json.dumps(output_example, indent=4)"
   ]
  },
  {
   "cell_type": "code",
   "execution_count": 8,
   "metadata": {},
   "outputs": [],
   "source": [
    "# set the template string\n",
    "template_string = \"\"\"\\\n",
    "TOBi is the name of the Vodacom Chatbot.\n",
    "Given the following entities and aspects per entity:\n",
    "\n",
    "```json\n",
    "{entities_aspects}\n",
    "```\n",
    "\n",
    "Please perform Aspect Based Sentiment Analysis on the following text:\n",
    "\n",
    "```text\n",
    "{text}\n",
    "```\n",
    "\n",
    "Only the JSON output is expected without any \"```json\" text surrounding it. Do not answer with anything except JSON. Only respond with entities and aspects present in the text.\n",
    "\n",
    "Output example:\n",
    "\n",
    "```json\n",
    "{output_example}\n",
    "```\n",
    "\"\"\""
   ]
  },
  {
   "cell_type": "code",
   "execution_count": 9,
   "metadata": {},
   "outputs": [
    {
     "data": {
      "text/plain": [
       "ChatPromptTemplate(input_variables=['output_example', 'text', 'entities_aspects'], output_parser=None, partial_variables={}, messages=[HumanMessagePromptTemplate(prompt=PromptTemplate(input_variables=['entities_aspects', 'output_example', 'text'], output_parser=None, partial_variables={}, template='TOBi is the name of the Vodacom Chatbot.\\nGiven the following entities and aspects per entity:\\n\\n```json\\n{entities_aspects}\\n```\\n\\nPlease perform Aspect Based Sentiment Analysis on the following text:\\n\\n```text\\n{text}\\n```\\n\\nOnly the JSON output is expected without any \"```json\" text surrounding it. Do not answer with anything except JSON. Only respond with entities and aspects present in the text.\\n\\nOutput example:\\n\\n```json\\n{output_example}\\n```\\n', template_format='f-string', validate_template=True), additional_kwargs={})])"
      ]
     },
     "execution_count": 9,
     "metadata": {},
     "output_type": "execute_result"
    }
   ],
   "source": [
    "# create the prompt template\n",
    "prompt_template = ChatPromptTemplate.from_template(template_string)\n",
    "prompt_template"
   ]
  },
  {
   "cell_type": "markdown",
   "metadata": {},
   "source": [
    "## Functions"
   ]
  },
  {
   "cell_type": "code",
   "execution_count": 10,
   "metadata": {},
   "outputs": [],
   "source": [
    "def classify_aspects(text:str,\n",
    "                     entities_aspects:str,\n",
    "                     output_example:str,\n",
    "                     prompt_template:ChatPromptTemplate,\n",
    "                     retry_count:int=5) -> Dict:\n",
    "    \"\"\"Classify the aspects of a given text and return an output dictionary.\"\"\"\n",
    "    chat = ChatOpenAI(\n",
    "        temperature=0.0,\n",
    "        max_tokens=512,\n",
    "        model='gpt-4')\n",
    "\n",
    "    # create the prompt\n",
    "    prompt = prompt_template.format_messages(\n",
    "        entities_aspects=entities_aspects,\n",
    "        text=text,\n",
    "        output_example=output_example\n",
    "    )\n",
    "\n",
    "    # get the llm response\n",
    "    while True:\n",
    "        try:    \n",
    "            response = chat(prompt)\n",
    "            break\n",
    "        except Exception as e:\n",
    "            print('.', end='')\n",
    "            retries += 1\n",
    "            sleep(retries * 3)\n",
    "            if retries > retry_count:\n",
    "                print(f'Failed to classify complaint: {text}')\n",
    "                print(e)\n",
    "                return None\n",
    "\n",
    "\n",
    "    # return the result\n",
    "    try: \n",
    "        result = json.loads(response.content)\n",
    "        return result\n",
    "    except Exception as e:\n",
    "        print(e)\n",
    "        return None\n",
    "    "
   ]
  },
  {
   "cell_type": "code",
   "execution_count": 11,
   "metadata": {},
   "outputs": [],
   "source": [
    "def flatten_aspects(id:str, classification:Dict) -> Dict:\n",
    "    \"\"\"Flatten the aspects to be compatible with a dataframe and add the id as a column\"\"\"\n",
    "    flat_aspects = []\n",
    "\n",
    "    for entity, aspects in classification.items():\n",
    "        for aspect, polarity in aspects.items():\n",
    "            flat_aspects.append({\n",
    "                'id': id,\n",
    "                'entity': entity,\n",
    "                'aspect': aspect,\n",
    "                'polarity': polarity,\n",
    "            })\n",
    "\n",
    "    return flat_aspects"
   ]
  },
  {
   "cell_type": "code",
   "execution_count": 12,
   "metadata": {},
   "outputs": [],
   "source": [
    "def classify_dataset(\n",
    "        data:pd.DataFrame,\n",
    "        entities_aspects:str,\n",
    "        output_example:str,\n",
    "        prompt_template:ChatPromptTemplate,\n",
    "        id_column:str='id',\n",
    "        text_column:str='text') -> pd.DataFrame:\n",
    "    \"\"\"Classify the entire dataset using the given entities and aspects.\"\"\"\n",
    "    result = []\n",
    "\n",
    "    for index, row in tqdm(data.iterrows(), total=data.shape[0]):\n",
    "        # get the row data\n",
    "        id = row[id_column]\n",
    "        text = row[text_column]\n",
    "\n",
    "        # classify the text\n",
    "        classification = classify_aspects(\n",
    "            text=text,\n",
    "            entities_aspects=entities_aspects,\n",
    "            output_example=output_example,\n",
    "            prompt_template=prompt_template)\n",
    "        \n",
    "        if classification is not None:\n",
    "            result.extend(\n",
    "                flatten_aspects(id=id, classification=classification)\n",
    "            )\n",
    "\n",
    "    return pd.DataFrame(result)"
   ]
  },
  {
   "cell_type": "markdown",
   "metadata": {},
   "source": [
    "## Classification"
   ]
  },
  {
   "cell_type": "code",
   "execution_count": 13,
   "metadata": {},
   "outputs": [
    {
     "data": {
      "application/vnd.jupyter.widget-view+json": {
       "model_id": "db84c16a689c4ee2b2adc5e5ad7e9216",
       "version_major": 2,
       "version_minor": 0
      },
      "text/plain": [
       "  0%|          | 0/983 [00:00<?, ?it/s]"
      ]
     },
     "metadata": {},
     "output_type": "display_data"
    },
    {
     "name": "stderr",
     "output_type": "stream",
     "text": [
      "Retrying langchain.chat_models.openai.ChatOpenAI.completion_with_retry.<locals>._completion_with_retry in 1.0 seconds as it raised APIError: HTTP code 502 from API (<html>\n",
      "<head><title>502 Bad Gateway</title></head>\n",
      "<body>\n",
      "<center><h1>502 Bad Gateway</h1></center>\n",
      "<hr><center>cloudflare</center>\n",
      "</body>\n",
      "</html>\n",
      ").\n"
     ]
    }
   ],
   "source": [
    "# perform the classification\n",
    "df_result = classify_dataset(\n",
    "    data=df_source,\n",
    "    entities_aspects=entities_aspects_str,\n",
    "    output_example=output_example_str,\n",
    "    prompt_template=prompt_template,\n",
    "    id_column='id',\n",
    "    text_column='rawContent')\n",
    "\n",
    "# save the results\n",
    "df_result.to_parquet('../../data/interim/02-05_absa.parquet')"
   ]
  }
 ],
 "metadata": {
  "kernelspec": {
   "display_name": "Python 3",
   "language": "python",
   "name": "python3"
  },
  "language_info": {
   "codemirror_mode": {
    "name": "ipython",
    "version": 3
   },
   "file_extension": ".py",
   "mimetype": "text/x-python",
   "name": "python",
   "nbconvert_exporter": "python",
   "pygments_lexer": "ipython3",
   "version": "3.11.4"
  },
  "orig_nbformat": 4
 },
 "nbformat": 4,
 "nbformat_minor": 2
}
