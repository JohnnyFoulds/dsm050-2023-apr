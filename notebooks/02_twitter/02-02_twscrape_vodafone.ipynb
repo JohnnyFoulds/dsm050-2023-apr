{
 "cells": [
  {
   "cell_type": "markdown",
   "metadata": {},
   "source": [
    "# 02-02 : Scrape Vodafone Tweets\n",
    "\n",
    "Scrape Vodafone English tweets."
   ]
  },
  {
   "cell_type": "code",
   "execution_count": 1,
   "metadata": {},
   "outputs": [],
   "source": [
    "import asyncio\n",
    "from twscrape import API, gather\n",
    "from twscrape.logger import set_log_level\n",
    "import pickle"
   ]
  },
  {
   "cell_type": "markdown",
   "metadata": {},
   "source": [
    "## Login Accounts"
   ]
  },
  {
   "cell_type": "code",
   "execution_count": 2,
   "metadata": {},
   "outputs": [
    {
     "data": {
      "text/plain": [
       "{'total': 0, 'success': 0, 'failed': 0}"
      ]
     },
     "execution_count": 2,
     "metadata": {},
     "output_type": "execute_result"
    }
   ],
   "source": [
    "api = API()  # or API(\"path-to.db\") - default is `accounts.db`\n",
    "await api.pool.login_all()"
   ]
  },
  {
   "cell_type": "markdown",
   "metadata": {},
   "source": [
    "## Perform the Scrape\n",
    "\n",
    "- https://publish.twitter.com/?query=https%3A%2F%2Ftwitter.com%2Fmredstone%2Fstatus%2F1656660883505025024&widget=Tweet\n",
    "- https://pbs.twimg.com/media/Fv2kSrpaEA89i27?format=jpg&name=large"
   ]
  },
  {
   "cell_type": "code",
   "execution_count": 3,
   "metadata": {},
   "outputs": [
    {
     "name": "stderr",
     "output_type": "stream",
     "text": [
      "\u001b[32m2023-07-31 23:41:24.874\u001b[0m | \u001b[1mINFO    \u001b[0m | \u001b[36mtwscrape.accounts_pool\u001b[0m:\u001b[36mget_for_queue_or_wait\u001b[0m:\u001b[36m260\u001b[0m - \u001b[1mNo account available for queue \"SearchTimeline\". Next available at 23:46:51\u001b[0m\n",
      "\u001b[32m2023-07-31 23:46:55.272\u001b[0m | \u001b[1mINFO    \u001b[0m | \u001b[36mtwscrape.accounts_pool\u001b[0m:\u001b[36mget_for_queue_or_wait\u001b[0m:\u001b[36m266\u001b[0m - \u001b[1mAccount available for queue SearchTimeline\u001b[0m\n"
     ]
    }
   ],
   "source": [
    "query = '(vodafone or @vodafone or #vodafone or @vodafoneuk or @vodafoneukbiz or @vodafone_de) AND (tobi OR chatbot) lang:en since:2021-01-01 until:2023-12-31'\n",
    "tweets = []\n",
    "async for tweet in api.search(query, limit=1000000):\n",
    "    tweets.append(tweet)\n",
    "\n",
    "# save tweets to a pickle file\n",
    "with open('../../data/raw/02_02_tweets_vodafone.pkl', 'wb') as f:\n",
    "    pickle.dump(tweets, f)"
   ]
  },
  {
   "cell_type": "code",
   "execution_count": 4,
   "metadata": {},
   "outputs": [
    {
     "data": {
      "text/plain": [
       "1482"
      ]
     },
     "execution_count": 4,
     "metadata": {},
     "output_type": "execute_result"
    }
   ],
   "source": [
    "len(tweets)"
   ]
  }
 ],
 "metadata": {
  "kernelspec": {
   "display_name": "Python 3",
   "language": "python",
   "name": "python3"
  },
  "language_info": {
   "codemirror_mode": {
    "name": "ipython",
    "version": 3
   },
   "file_extension": ".py",
   "mimetype": "text/x-python",
   "name": "python",
   "nbconvert_exporter": "python",
   "pygments_lexer": "ipython3",
   "version": "3.11.4"
  },
  "orig_nbformat": 4
 },
 "nbformat": 4,
 "nbformat_minor": 2
}
