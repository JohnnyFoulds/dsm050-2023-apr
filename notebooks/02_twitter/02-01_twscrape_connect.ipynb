{
 "cells": [
  {
   "cell_type": "code",
   "execution_count": 25,
   "metadata": {},
   "outputs": [],
   "source": [
    "import asyncio\n",
    "from twscrape import API, gather\n",
    "from twscrape.logger import set_log_level\n",
    "import pickle"
   ]
  },
  {
   "cell_type": "code",
   "execution_count": 20,
   "metadata": {},
   "outputs": [],
   "source": [
    "api = API()  # or API(\"path-to.db\") - default is `accounts.db`"
   ]
  },
  {
   "cell_type": "code",
   "execution_count": 21,
   "metadata": {},
   "outputs": [
    {
     "name": "stderr",
     "output_type": "stream",
     "text": [
      "\u001b[32m2023-07-31 09:45:12.535\u001b[0m | \u001b[33m\u001b[1mWARNING \u001b[0m | \u001b[36mtwscrape.accounts_pool\u001b[0m:\u001b[36madd_account\u001b[0m:\u001b[36m76\u001b[0m - \u001b[33m\u001b[1mAccount YangaMpho1 already exists\u001b[0m\n",
      "\u001b[32m2023-07-31 09:45:12.538\u001b[0m | \u001b[1mINFO    \u001b[0m | \u001b[36mtwscrape.accounts_pool\u001b[0m:\u001b[36mlogin_all\u001b[0m:\u001b[36m155\u001b[0m - \u001b[1m[1/1] Logging in YangaMpho1 - YangaMpho1986@outlook.com\u001b[0m\n",
      "\u001b[32m2023-07-31 09:45:14.491\u001b[0m | \u001b[31m\u001b[1mERROR   \u001b[0m | \u001b[36mtwscrape.accounts_pool\u001b[0m:\u001b[36mlogin\u001b[0m:\u001b[36m141\u001b[0m - \u001b[31m\u001b[1mError logging in to YangaMpho1: 'ct0'\u001b[0m\n"
     ]
    },
    {
     "data": {
      "text/plain": [
       "{'total': 1, 'success': 0, 'failed': 1}"
      ]
     },
     "execution_count": 21,
     "metadata": {},
     "output_type": "execute_result"
    }
   ],
   "source": [
    "# ADD ACCOUNTS (for CLI usage see BELOW)\n",
    "await api.pool.add_account(\"YangaMpho1\", \"D!ddel121\", \"YangaMpho1986@outlook.com\", \"D!ddel121\")\n",
    "# await api.pool.add_account(\"BrianMolef62245\", \"D!ddel119\", \"brian.molefe1@outlook.com\", \"D!ddel119\")\n",
    "# await api.pool.add_account(\"mashaba54414\", \"D!ddel119\", \"lee.mashaba@outlook.com\", \"D!ddel119\")\n",
    "# await api.pool.add_account(\"KingGirl0001\", \"D!ddel119\", \"kinggirl1999@outlook.com\", \"D!ddel119\")\n",
    "await api.pool.login_all()"
   ]
  },
  {
   "cell_type": "code",
   "execution_count": 24,
   "metadata": {},
   "outputs": [
    {
     "name": "stdout",
     "output_type": "stream",
     "text": [
      "<class 'twscrape.models.Tweet'>\n",
      "<class 'twscrape.models.Tweet'>\n",
      "<class 'twscrape.models.Tweet'>\n",
      "<class 'twscrape.models.Tweet'>\n",
      "<class 'twscrape.models.Tweet'>\n",
      "<class 'twscrape.models.Tweet'>\n",
      "<class 'twscrape.models.Tweet'>\n",
      "<class 'twscrape.models.Tweet'>\n",
      "<class 'twscrape.models.Tweet'>\n",
      "<class 'twscrape.models.Tweet'>\n",
      "<class 'twscrape.models.Tweet'>\n",
      "<class 'twscrape.models.Tweet'>\n",
      "<class 'twscrape.models.Tweet'>\n",
      "<class 'twscrape.models.Tweet'>\n",
      "<class 'twscrape.models.Tweet'>\n",
      "<class 'twscrape.models.Tweet'>\n",
      "<class 'twscrape.models.Tweet'>\n",
      "<class 'twscrape.models.Tweet'>\n",
      "<class 'twscrape.models.Tweet'>\n"
     ]
    }
   ],
   "source": [
    "query = 'vodacom AND (tobo OR chatbot) since:2021-01-01'\n",
    "tweets = []\n",
    "async for tweet in api.search(query, limit=1000000):\n",
    "    tweets.append(tweet)\n",
    "\n",
    "# save tweets to a pickle file\n",
    "with open('data/tweets.pkl', 'wb') as f:\n",
    "    pickle.dump(tweets, f)"
   ]
  }
 ],
 "metadata": {
  "kernelspec": {
   "display_name": "Python 3",
   "language": "python",
   "name": "python3"
  },
  "language_info": {
   "codemirror_mode": {
    "name": "ipython",
    "version": 3
   },
   "file_extension": ".py",
   "mimetype": "text/x-python",
   "name": "python",
   "nbconvert_exporter": "python",
   "pygments_lexer": "ipython3",
   "version": "3.11.4"
  },
  "orig_nbformat": 4
 },
 "nbformat": 4,
 "nbformat_minor": 2
}
