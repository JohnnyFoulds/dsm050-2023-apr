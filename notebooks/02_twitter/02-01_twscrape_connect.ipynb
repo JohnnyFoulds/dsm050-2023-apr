{
 "cells": [
  {
   "cell_type": "code",
   "execution_count": null,
   "metadata": {},
   "outputs": [],
   "source": [
    "import asyncio\n",
    "from twscrape import API, gather\n",
    "from twscrape.logger import set_log_level\n",
    "import pickle"
   ]
  },
  {
   "cell_type": "code",
   "execution_count": null,
   "metadata": {},
   "outputs": [],
   "source": [
    "api = API()  # or API(\"path-to.db\") - default is `accounts.db`"
   ]
  },
  {
   "cell_type": "code",
   "execution_count": null,
   "metadata": {},
   "outputs": [],
   "source": [
    "# ADD ACCOUNTS (for CLI usage see BELOW)\n",
    "await api.pool.add_account(\"YangaMpho1\", \"D!ddel121\", \"YangaMpho1986@outlook.com\", \"D!ddel121\")\n",
    "# await api.pool.add_account(\"BrianMolef62245\", \"D!ddel119\", \"brian.molefe1@outlook.com\", \"D!ddel119\")\n",
    "# await api.pool.add_account(\"mashaba54414\", \"D!ddel119\", \"lee.mashaba@outlook.com\", \"D!ddel119\")\n",
    "# await api.pool.add_account(\"KingGirl0001\", \"D!ddel119\", \"kinggirl1999@outlook.com\", \"D!ddel119\")\n",
    "await api.pool.login_all()"
   ]
  },
  {
   "cell_type": "code",
   "execution_count": null,
   "metadata": {},
   "outputs": [],
   "source": [
    "query = '(vodacom OR @vodacom OR @Vodacom111) AND (tobi OR chatbot) since:2021-01-01 until:2023-12-31'\n",
    "tweets = []\n",
    "async for tweet in api.search(query, limit=1000000):\n",
    "    tweets.append(tweet)\n",
    "\n",
    "# save tweets to a pickle file\n",
    "with open('../../data/raw/02_02_tweets.pkl', 'wb') as f:\n",
    "    pickle.dump(tweets, f)"
   ]
  },
  {
   "cell_type": "code",
   "execution_count": null,
   "metadata": {},
   "outputs": [],
   "source": [
    "len(tweets)"
   ]
  }
 ],
 "metadata": {
  "kernelspec": {
   "display_name": "Python 3",
   "language": "python",
   "name": "python3"
  },
  "language_info": {
   "codemirror_mode": {
    "name": "ipython",
    "version": 3
   },
   "file_extension": ".py",
   "mimetype": "text/x-python",
   "name": "python",
   "nbconvert_exporter": "python",
   "pygments_lexer": "ipython3",
   "version": "3.11.4"
  },
  "orig_nbformat": 4
 },
 "nbformat": 4,
 "nbformat_minor": 2
}
