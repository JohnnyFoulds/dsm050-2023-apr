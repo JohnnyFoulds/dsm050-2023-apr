{
 "cells": [
  {
   "attachments": {},
   "cell_type": "markdown",
   "id": "e40134e7",
   "metadata": {},
   "source": [
    "# Evaluating Customer Satisfaction and Preferences in the Telecommunications Industry: A Comparative Analysis of Survey Data and Online Reviews\n",
    "\n",
    "- These headings are only a recommended structure.\n",
    "- The wordcount code only works in Jupyter Notebook! You can still use JupyterLab to produce your report if you wish but you will need to use Jupyter Notebook to check the number of words.\n",
    "- Please delete this text!"
   ]
  },
  {
   "cell_type": "code",
   "execution_count": 1,
   "id": "6636b490",
   "metadata": {},
   "outputs": [],
   "source": [
    "import pandas as pd\n",
    "from typing import Dict, List, Tuple"
   ]
  },
  {
   "cell_type": "code",
   "execution_count": 2,
   "id": "27ddae7e",
   "metadata": {},
   "outputs": [],
   "source": [
    "# functions to help with markdown output\n",
    "from IPython.core.display import Markdown\n",
    "\n",
    "_markdown_lines = []\n",
    "\n",
    "def mprint(text):\n",
    "    global _markdown_lines\n",
    "    _markdown_lines.append(text)\n",
    "\n",
    "def mflush(file_path:str=None, show:bool=True):\n",
    "    global _markdown_lines\n",
    "    markdown_string = \"\\n\".join(_markdown_lines)\n",
    "\n",
    "    # save the markdown to a file\n",
    "    if file_path:\n",
    "        with open(file_path, \"w\") as f:\n",
    "            f.write(markdown_string)\n",
    "    \n",
    "    # render the markdown\n",
    "    if show:\n",
    "        display(Markdown(markdown_string))\n",
    "\n",
    "    # Clear the lines after displaying the markdown\n",
    "    _markdown_lines = []\n",
    "\n",
    "def mclear():\n",
    "    global _markdown_lines\n",
    "    _markdown_lines = []"
   ]
  },
  {
   "attachments": {},
   "cell_type": "markdown",
   "id": "ef1a466c",
   "metadata": {},
   "source": [
    "## 1. Research topic and background"
   ]
  },
  {
   "attachments": {},
   "cell_type": "markdown",
   "id": "93a84910",
   "metadata": {},
   "source": [
    "### 1. (a) Introduction / topic overview\n",
    "\n",
    "This study investigates customer satisfaction levels and preferences around using artificial intelligence-driven technologies in the telecommunications industry. The rapid advancement in AI has led to tools such as chatbots becoming an integral part of customer service, and while AI-driven technologies can offer personalised and efficient solutions that significantly increase client satisfaction rates, studying the effectiveness and impact of these technologies remains a critical area of investigation.\n",
    "\n",
    "First, we will survey customers to understand customer service preferences, the adoption of AI-driven tools, and the effect of demographics. We will then analyse relevant online customer complaints to identify trends and opportunities for further improvement.\n",
    "\n",
    "**❗️NEED TO ADD MORE HERE**: Clear and concise overview of the report,\n",
    "-  summarising its structure and\n",
    "-  key findings."
   ]
  },
  {
   "attachments": {},
   "cell_type": "markdown",
   "id": "810e5e89",
   "metadata": {},
   "source": [
    "### 1. (b) Background and context\n",
    "\n",
    "The emergence of Artificial Intelligence (AI) has significantly impacted industries, including telecommunications, ranging from finance, healthcare and manufacturing, all potentially disrupted by these technologies (Dwivedi et al., 2021). For example, AI plays an essential role in today’s telecommunications industry, where it can make predictions about decisions, use big data to offer solutions and interact with customers in real-time via conversational agents (Sardjono et al., 2023).\n",
    "\n",
    "AI-driven technologies such as chatbots, process automation, and automated customer support systems are transforming customer service from human-driven to technology-dominant (Castillo et al., 2021). This transformation offers many advantages, such as improving efficiency, reducing cost and enhancing the customer experience through personalised user interactions. For example, chatbots can handle routing queries and allow their human counterparts to focus on complex, high-value issues. However, as discussed by (Castillo et al., 2021), these technologies can also fail and have negative consequences leading to customer confusion, anger and dissatisfaction, and as mentioned in the introduction, studying the impact and effectiveness of these tools remains critical."
   ]
  },
  {
   "attachments": {},
   "cell_type": "markdown",
   "id": "48bd95b9",
   "metadata": {},
   "source": [
    "### 1. (c) Motivation and objectives\n",
    "\n",
    "Objectives:\n",
    "1.\tEvaluate overall satisfaction among customers towards their telecommunication customer service encounters while concurrently identifying the elements behind positive and negative experiences.\n",
    "2.\tInvestigate customer perception of AI-based service tools like chatbots and assess their effectiveness in offering efficient and personalised customer service.\n",
    "3.\tExplore the potential correlation between consumer satisfaction and customer service tools that leverage AI technology.\n",
    "4.\tIdentify and provide concrete recommendations on how AI tools can enhance satisfaction levels and strengthen market position.\n",
    "\n",
    "Potential impact:\n",
    "1.\tImproving customer service strategies: By understanding customer preferences and experiences, telecommunications companies can identify areas to focus on where AI-based tools can provide the most significant value.\n",
    "2.\tBoosting customer satisfaction and loyalty: Based on the trends identified in this study, telecommunications companies can increase customer satisfaction and loyalty by enhancing their existing customer service tools.\n",
    "3.\tEncouraging AI-driven customer service tool adoption: This study seeks to understand factors limiting the adoption of AI tools. These findings may help telecommunications companies better promote AI-driven customer service tools, improving customer experiences and reducing workloads for customer service representatives.\n",
    "4.\tInforming industry practices: The output of this study will contribute to a broader understanding of customer satisfaction and preferences in the telecommunications industry. These insights can prove valuable when designing practices to improve customer service."
   ]
  },
  {
   "attachments": {},
   "cell_type": "markdown",
   "id": "cfdc9496",
   "metadata": {},
   "source": [
    "### 1. (d) Sample and population\n",
    "\n",
    "The target population for this study is the five major South African telecommunications providers, namely Cell C, MTN, Rain, Telkom, and Vodacom. Ideally, stratified random sampling should be used to get a representative sample from each provider according to their market size. Unfortunately, this will not be possible due to budget and time constraints. Instead, snowball sampling will be employed by asking for respondents on social media platforms and requesting the initial respondents to refer other customers within their social network who might be interested in participating.\n",
    "\n",
    "Using snowball sampling is likely to result in some selection bias. To minimise the impact, should the data indicate, for example, that respondents are primarily from a single provider, the scope will be narrowed to focus on this provider, reducing the extent to which findings can be generalised."
   ]
  },
  {
   "attachments": {},
   "cell_type": "markdown",
   "id": "c7b3e9c5",
   "metadata": {},
   "source": [
    "### 1. (e) Research question(s)\n",
    "\n",
    "1.\tHow does customer satisfaction with a telecommunications provider’s customer service differ by the various demographic groups? \n",
    "\n",
    "Rationale: According to some studies (Kassim, 2006; Saha* & Joshi, 2019), demographic factors such as age, gender and marital status can have a significant effect on perceptions of performance and satisfaction. \n",
    "\n",
    "2.\tHow do customers perceive the effectiveness and level of personalisation offered by AI-driven customer service tools?\n",
    "\n",
    "Rationale: AI-driven tools have become increasingly popular in customer service with the promise of reduced labour costs. However, some consumers resist tools like chatbots (Li et al., 2020) and prefer traditional human-based customer service. Therefore, it is essential to understand this aspect and find ways to improve adaptation rates and trust in AI-driven tools.\n",
    "\n",
    "3.\tIs there a relationship between customer satisfaction and using AI-driven customer service tools?\n",
    "\n",
    "Rationale: Understanding the correlation can help business improve their customer service strategies and ultimately improve customer loyalty and retention (Chen et al., 2021; Ganguli & Roy, 2011).\n",
    "\n",
    "4.\tBased on insights gathered in the survey and comparing it with online complaint behaviour, what are the critical areas for improvement in customer service within the telecommunications industry?\n",
    "\n",
    "By analysing the trends from the survey data in conjunction with customer complaints from platforms such as Hellopeter (Foulds, 2022), we aim to discover actionable insights that will assist telecommunications in finding key focus areas to improve customer service through AI-driven tools. \n"
   ]
  },
  {
   "attachments": {},
   "cell_type": "markdown",
   "id": "089a5733",
   "metadata": {},
   "source": [
    "### 1. (f) Domain concepts\n",
    "\n",
    "The following domain concepts will be considered in this study:\n",
    "\n",
    "- **Customer satisfaction**: The feelings of pleasure or disappointment a customer derives from the performance of a product or service related to individual expectations (Riak & Bill, 2022).\n",
    "\n",
    "- **Customer service**: The support and assistance a company provides to those who buy or use its products or services (Meuter et al., 2000). \n",
    "\n",
    "- **AI-driven customer service tools**: Technology-enabled service tools, such as chatbots, that leverage artificial intelligence (AI) for evaluating real-time service scenarios to provide personalised recommendations, alternatives, and solutions to customer enquiries or problems (Xu et al., 2020).\n",
    "\n",
    "- **Chatbots**: An AI-driven customer service tool acting as a conversational agent equipped with AI to interact with customers using spoken or written language (Baez et al., 2021)."
   ]
  },
  {
   "attachments": {},
   "cell_type": "markdown",
   "id": "4c6fd2a9",
   "metadata": {},
   "source": [
    "## 2. Data sources"
   ]
  },
  {
   "attachments": {},
   "cell_type": "markdown",
   "id": "89fce7e8",
   "metadata": {},
   "source": [
    "### 2. (a) Survey data"
   ]
  },
  {
   "attachments": {},
   "cell_type": "markdown",
   "id": "45cbf9e9",
   "metadata": {},
   "source": [
    "#### Research questions map to survey questions\n",
    "\n",
    "| Research question | Survey question(s) |\n",
    "| --- | :--- |\n",
    "| How does customer satisfaction with a telecommunications provider’s customer service differ by the various demographic groups? |Q1 - Q5. Which demographic group do you belong to (occupation, gender, age, education and marital status).<br /><br />Q6. Who is your primary telecommunications provider?<br /><br />Q7. How long have you been a customer of your current telecommunications provider?<br /><br />Q8. Are you a prepaid or contract customer?\n",
    "|How do customers perceive the effectiveness and level of personalisation offered by AI-driven customer service tools?|Q9. Which customer service channel do you prefer when contacting your telecommunications provider?<br /><br />Q11. Have you ever used an AI-powered customer service tool (e.g., virtual assistant) when contacting your telecommunications provider?<br /><br />Q12. If you answered “Yes” to the previous question, on a scale of 1 to 5, with 1 being “very dissatisfied” and 5 being “very satisfied”, how would you rate your experience with AI-powered customer service tools?<br /><br />Q13. In your opinion, do AI-driven customer service tools provide personalised and effective solutions to your queries or issues?|\n",
    "|Is there a relationship between customer satisfaction and using AI-driven customer service tools?|Q10. On a scale of 1 to 5, with 1 being “very dissatisfied” and 5 being “very satisfied”, how would you rate your overall satisfaction with your provider’s customer service?<br /><br />Q11. Have you ever used an AI-powered customer service tool (e.g., virtual assistant) when contacting your telecommunications provider? (mapped again)|\n",
    "|Based on insights gathered in the survey and comparing it with online complaint behaviour, what are the critical areas for improvement in customer service within the telecommunications industry?|Q14. Please describe a recent customer service interaction with your telecommunications provider (positive or negative). Include the date (or approximate date) of the interaction.\n",
    "\n",
    "\n",
    "\n"
   ]
  },
  {
   "attachments": {},
   "cell_type": "markdown",
   "id": "7c0872aa",
   "metadata": {},
   "source": [
    "#### Operational Definitions\n",
    "\n",
    "| Concept/Behaviour | Question(s) | Discussion |\n",
    "| --- | --- | :--- |\n",
    "|Demographic Data|Q1 – Q5|Only five questions are used for this category to keep the survey short while retaining factors showing the literature to have an effect as it relates to chatbots. This study also aims explicitly to understand if there is a correlation between demographics and customer satisfaction.|\n",
    "|Customer Segmentation|Q6 – Q8|These specific questions allow us to create further distinct customer groupings, which can be compared and will be important when collecting from our secondary data sources.|\n",
    "|Customer Preferences|Q9, Q11|In addition to understanding the preferred channel for customer service, these questions also allow us to estimate the adoption rates of AI service tools.|\n",
    "|Customer Satisfaction|Q10, Q12, Q13|This set of questions allows us to examine overall customer service satisfaction and gauge the contribution made by the AI tools.|\n",
    "|Opportunities for Improvement|Q14 – Q15|The free-text question helps us understand customer behaviour and pain points to look for opportunities for improvement. This information will also be compared with findings from online customer complaints. By looking at the sentiment of the input, we can also compare how recent interactions might affect customer satisfaction.|"
   ]
  },
  {
   "attachments": {},
   "cell_type": "markdown",
   "id": "f55d18b7",
   "metadata": {},
   "source": [
    "#### Survey structure and question flow\n",
    "\n",
    "The initial section of our survey comprises a few questions intended to gather basic demographic information from our participants. These questions are relatively simple and require minimal commitment and thus may motivate participation by making respondents feel more comfortable with providing their input. Next, a series of questions are asked about the respondent’s telecommunications provider to set the context for the rest of the survey. These questions are followed by a set of questions that focus on AI-driven service, which is the main topic of the research. Finally, the survey closes with an open-ended question which allows the respondent to provide more detailed and personal insights.\n",
    "\n",
    "We must remain mindful of three areas where potential bias could be introduced in our final analysis.\n",
    "\n",
    "1.\t**Leading Questions**: Question 13 might be a leading question assuming that AI tools provide personalised and effective solutions. Respondents do, however, have the option to indicate that they strongly disagree with the statement.\n",
    "2.\t**Response Bias**: Question 10 and 12 uses a 5-point scale and might lead to central tendency bias. However, the initial review of online customer complaints showed that customers had strong negative sentiments when their expectations were unmet.\n",
    "3.\t**Recall Bias**: Respondents might not accurately remember all details depending on how recent the interaction was. To minimise this, we ask the customer to specify the approximate date so we can account for it during analysis."
   ]
  },
  {
   "attachments": {},
   "cell_type": "markdown",
   "id": "db9f8b5f",
   "metadata": {},
   "source": [
    "### 2. (b) External data\n",
    "\n",
    "A related study collected customer reviews for Cell C, MTN, Telkom, and Vodacom from Hellopeter.com (Foulds, 2022). This data will provide valuable insights when used with the data collected via survey. The online customer reviews/complaints will be particularly useful in answering Research Question 4. Through systematic analysis, we can meet Objective 4: Identify and provide concrete recommendations on how AI tools can enhance satisfaction levels and strengthen market position.\n",
    "\n",
    "The secondary data has a star rating and unstructured text content similar to what is collected in the survey. In the previous study, there were no significant data quality issues. It is worth noting that the reviews are predominately customer complaints. The data is anonymised and publicly available. The ethical evaluation for using this data was already considered when the previous study was submitted to the University of London."
   ]
  },
  {
   "attachments": {},
   "cell_type": "markdown",
   "id": "df9694f3",
   "metadata": {},
   "source": [
    "#### Hellpeter Data Collection\n",
    "\n",
    "Hellopeter data was extracted for the range `Junuary 2021` to `July 2023` via the Hellopeter API, please refer to supplementary notebook `01-01_retrieve_data.ipynb` for the reference code. The data was extracted for the following companies:\n",
    "\n",
    "- Vodacom\n",
    "- MTN\n",
    "- Telkom\n",
    "- Cell C\n",
    "- Rain\n",
    "\n",
    "| Step | Description | Review Count |\n",
    "| --- | :--- | ---: |\n",
    "| Initial Retrieval | Retrieve all reviews in the specified range and combine in `01-02_combine_data.ipynb` | 93,880 |\n",
    "| Filter for Chatbot Reviews | A keyword filter is applied in `01-03_chatbot_reviews.ipynb` to select only reviews that mentions chatbots. | 564 |\n",
    "| LLM filtering | The OpenAI LLM `gpt-3.5-turbo` is used for further filtering to ensure that the reviews are related to chatbots. (`01-04_chatbot_classify.ipynb` and `01-05_combine_classifications.ipynb`) | 235 |\n",
    "\n",
    "Aspect Based Sentiment Analysis was done on the final filtered dataset in `01-09_gpt_absa.ipynb` using the `gpt-4` model."
   ]
  },
  {
   "attachments": {},
   "cell_type": "markdown",
   "id": "3a0a981c",
   "metadata": {},
   "source": [
    "## 3. Data overview and pre-processing"
   ]
  },
  {
   "attachments": {},
   "cell_type": "markdown",
   "id": "5c86c548",
   "metadata": {},
   "source": [
    "### 3. (a) Data types and pre-processing"
   ]
  },
  {
   "cell_type": "code",
   "execution_count": 3,
   "id": "81b80282",
   "metadata": {},
   "outputs": [],
   "source": [
    "class DataTypes:\n",
    "    @staticmethod\n",
    "    def set_category(dataframe:pd.DataFrame, column_name:str) -> None:\n",
    "        \"\"\"Set the specified column to be a category type.\"\"\"\n",
    "        dataframe[column_name] = dataframe[column_name].astype('category')\n",
    "\n",
    "    @staticmethod\n",
    "    def set_ordinal(dataframe:pd.DataFrame, column_name:str, categories:List[str]) -> None:\n",
    "        \"\"\"Set the specified column to be a ordered category type.\"\"\"\n",
    "        dataframe[column_name] = dataframe[column_name].astype(\n",
    "            pd.CategoricalDtype(categories=categories, ordered=True))\n",
    "\n",
    "    @staticmethod\n",
    "    def likert_to_ordinal(dataframe:pd.DataFrame, column_name:str, mapping:Dict[int, str]) -> None:\n",
    "        \"\"\"Set the specified column to be a ordered category type.\"\"\"\n",
    "        dataframe[column_name] = dataframe[column_name] \\\n",
    "            .map(mapping) \\\n",
    "            .astype(pd.CategoricalDtype(categories=mapping.values(), ordered=True))\n",
    "    \n",
    "    @staticmethod\n",
    "    def set_boolean(dataframe:pd.DataFrame, column_name:str) -> None:\n",
    "        \"\"\"Set the specified column to be a boolean type.\"\"\"\n",
    "        dataframe[column_name] = dataframe[column_name].astype('bool')\n",
    "\n",
    "    @staticmethod\n",
    "    def set_date(dataframe:pd.DataFrame, column_name:str, format:str) -> None:\n",
    "        \"\"\"Set the specified column to be a date type.\"\"\"\n",
    "        dataframe[column_name] = pd.to_datetime(dataframe[column_name], format=format)"
   ]
  },
  {
   "attachments": {},
   "cell_type": "markdown",
   "id": "d60fba35",
   "metadata": {},
   "source": [
    "#### Survey Data\n",
    "\n",
    "The survey response is read from an Excel file that was exported from the survey tool. Columns are renamed using the following mapping to make them easier to work with:\n",
    "\n",
    "| Original Question| Column Name |\n",
    "| :--- | :--- |\n",
    "| Unique Response Number | id |\n",
    "| 1. What is your occupation? | occupation |\n",
    "| 2. Which gender do you most strongly identify with? | gender |\n",
    "| 3. What is your age? | age |\n",
    "| 4. What is the highest education level you have received? | education |\n",
    "| 5. What is your marital status? | marital_status |\n",
    "| 6. Who is your primary telecommunications provider? | provider |\n",
    "| 7. How long have you been a customer of your current telecommunications provider? | customer_years |\n",
    "| 8. Are you a prepaid or contract customer? | customer_type |\n",
    "| 9. Which customer service channel do you prefer when contacting your telecommunications provider? | preferred_channel |\n",
    "| 10. On a scale of 1 to 5, with 1 being \"very dissatisfied\" and 5 being \"very satisfied\", how would you rate your overall satisfaction with your provider's customer service? | satisfaction_overall |\n",
    "|11. Have you ever used an AI-powered customer service tool (e.g. chatbot) when contacting your telecommunications provider?|used_ai|\n",
    "|12. If you answered \"Yes\" to the previous question, on a scale of 1 to 5, with 1 being \"very dissatisfied\" and 5 being \"very satisfied\", how would you rate your experience with AI-powered customer service tools?|satisfaction_ai|\n",
    "| 13. In your opinion, do AI-driven customer service tools provide personalised and effective solutions to your queries or issues? | effective_ai |\n",
    "| 15. Please provide your best estimate of the date | review_date |"
   ]
  },
  {
   "cell_type": "code",
   "execution_count": 4,
   "id": "fba30995",
   "metadata": {},
   "outputs": [],
   "source": [
    "def load_survey_data(file_path:str) -> pd.DataFrame:\n",
    "    \"\"\"Load the data gathered via Survey\"\"\"\n",
    "    # read the dataset\n",
    "    df_result = pd.read_excel(\n",
    "        io=file_path,\n",
    "        usecols=[0, 3, 4, 5, 6, 7, 8, 9, 10, 11, 13, 14, 16, 17, 18])\n",
    "\n",
    "    # assign column names\n",
    "    df_result.columns = [\n",
    "        'id',\n",
    "        'occupation',\n",
    "        'gender',\n",
    "        'age',\n",
    "        'education',\n",
    "        'marital_status',\n",
    "        'provider',\n",
    "        'customer_years',\n",
    "        'customer_type',\n",
    "        'preferred_channel',\n",
    "        'satisfaction_overall',\n",
    "        'used_ai',\n",
    "        'satisfaction_ai',\n",
    "        'effective_ai',\n",
    "        'review_date'\n",
    "    ]\n",
    "\n",
    "    return df_result"
   ]
  },
  {
   "cell_type": "code",
   "execution_count": 5,
   "id": "16ba945b",
   "metadata": {},
   "outputs": [
    {
     "name": "stdout",
     "output_type": "stream",
     "text": [
      "Number of Responses, and columns: (40, 15)\n"
     ]
    },
    {
     "data": {
      "text/html": [
       "<div>\n",
       "<style scoped>\n",
       "    .dataframe tbody tr th:only-of-type {\n",
       "        vertical-align: middle;\n",
       "    }\n",
       "\n",
       "    .dataframe tbody tr th {\n",
       "        vertical-align: top;\n",
       "    }\n",
       "\n",
       "    .dataframe thead th {\n",
       "        text-align: right;\n",
       "    }\n",
       "</style>\n",
       "<table border=\"1\" class=\"dataframe\">\n",
       "  <thead>\n",
       "    <tr style=\"text-align: right;\">\n",
       "      <th></th>\n",
       "      <th>id</th>\n",
       "      <th>occupation</th>\n",
       "      <th>gender</th>\n",
       "      <th>age</th>\n",
       "      <th>education</th>\n",
       "      <th>marital_status</th>\n",
       "      <th>provider</th>\n",
       "      <th>customer_years</th>\n",
       "      <th>customer_type</th>\n",
       "      <th>preferred_channel</th>\n",
       "      <th>satisfaction_overall</th>\n",
       "      <th>used_ai</th>\n",
       "      <th>satisfaction_ai</th>\n",
       "      <th>effective_ai</th>\n",
       "      <th>review_date</th>\n",
       "    </tr>\n",
       "  </thead>\n",
       "  <tbody>\n",
       "    <tr>\n",
       "      <th>0</th>\n",
       "      <td>1058192-1058174-111830520</td>\n",
       "      <td>Employed</td>\n",
       "      <td>Male</td>\n",
       "      <td>35-44 years</td>\n",
       "      <td>Bachelor Degree</td>\n",
       "      <td>Married or domestic partnership</td>\n",
       "      <td>Vodacom</td>\n",
       "      <td>More than 5 years</td>\n",
       "      <td>Contract</td>\n",
       "      <td>Phone</td>\n",
       "      <td>5</td>\n",
       "      <td>Yes</td>\n",
       "      <td>3.0</td>\n",
       "      <td>Agree</td>\n",
       "      <td>01/01/2023</td>\n",
       "    </tr>\n",
       "    <tr>\n",
       "      <th>1</th>\n",
       "      <td>1058192-1058174-111884750</td>\n",
       "      <td>Employed</td>\n",
       "      <td>Female</td>\n",
       "      <td>35-44 years</td>\n",
       "      <td>Masters Degree/MBA or similar</td>\n",
       "      <td>Married or domestic partnership</td>\n",
       "      <td>Vodacom</td>\n",
       "      <td>More than 5 years</td>\n",
       "      <td>Hybrid</td>\n",
       "      <td>Phone</td>\n",
       "      <td>4</td>\n",
       "      <td>Yes</td>\n",
       "      <td>3.0</td>\n",
       "      <td>Neutral</td>\n",
       "      <td>16/06/2022</td>\n",
       "    </tr>\n",
       "    <tr>\n",
       "      <th>2</th>\n",
       "      <td>1058192-1058174-111894339</td>\n",
       "      <td>Employed</td>\n",
       "      <td>Male</td>\n",
       "      <td>45-54 years</td>\n",
       "      <td>Bachelor Degree</td>\n",
       "      <td>Divorced</td>\n",
       "      <td>Other</td>\n",
       "      <td>2-5 years</td>\n",
       "      <td>Contract</td>\n",
       "      <td>In-person</td>\n",
       "      <td>5</td>\n",
       "      <td>Yes</td>\n",
       "      <td>1.0</td>\n",
       "      <td>Disagree</td>\n",
       "      <td>15/05/2023</td>\n",
       "    </tr>\n",
       "  </tbody>\n",
       "</table>\n",
       "</div>"
      ],
      "text/plain": [
       "                          id occupation  gender          age  \\\n",
       "0  1058192-1058174-111830520   Employed    Male  35-44 years   \n",
       "1  1058192-1058174-111884750   Employed  Female  35-44 years   \n",
       "2  1058192-1058174-111894339   Employed    Male  45-54 years   \n",
       "\n",
       "                       education                   marital_status provider  \\\n",
       "0                Bachelor Degree  Married or domestic partnership  Vodacom   \n",
       "1  Masters Degree/MBA or similar  Married or domestic partnership  Vodacom   \n",
       "2                Bachelor Degree                         Divorced    Other   \n",
       "\n",
       "      customer_years customer_type preferred_channel  satisfaction_overall  \\\n",
       "0  More than 5 years      Contract             Phone                     5   \n",
       "1  More than 5 years        Hybrid             Phone                     4   \n",
       "2          2-5 years      Contract         In-person                     5   \n",
       "\n",
       "  used_ai  satisfaction_ai effective_ai review_date  \n",
       "0     Yes              3.0        Agree  01/01/2023  \n",
       "1     Yes              3.0      Neutral  16/06/2022  \n",
       "2     Yes              1.0     Disagree  15/05/2023  "
      ]
     },
     "metadata": {},
     "output_type": "display_data"
    }
   ],
   "source": [
    "# load the survey data\n",
    "df_survey = load_survey_data('../../data/raw/results-for-telecommunica-2023-08-08-0844.xlsx')\n",
    "\n",
    "# show the first 3 rows\n",
    "print(f'Number of Responses, and columns: {df_survey.shape}')\n",
    "display(df_survey.head(3))"
   ]
  },
  {
   "attachments": {},
   "cell_type": "markdown",
   "id": "f49eceb9",
   "metadata": {},
   "source": [
    "We now convert the data types to make them easier to work with. The details of each conversion are found in the `SurveyDataTypes` class shown below."
   ]
  },
  {
   "cell_type": "code",
   "execution_count": 6,
   "id": "9bbba40e",
   "metadata": {},
   "outputs": [],
   "source": [
    "class SurveyDataTypes:\n",
    "    @staticmethod\n",
    "    def set_categorical_columns(dataframe: pd.DataFrame) -> pd.DataFrame:\n",
    "        \"\"\"Set the datatype for all categorical columns\"\"\"\n",
    "        DataTypes.set_category(dataframe, 'occupation')\n",
    "        DataTypes.set_category(dataframe, 'gender')\n",
    "        DataTypes.set_category(dataframe, 'marital_status')\n",
    "        DataTypes.set_category(dataframe, 'provider')\n",
    "        DataTypes.set_category(dataframe, 'customer_type')\n",
    "        DataTypes.set_category(dataframe, 'preferred_channel')\n",
    "\n",
    "        return dataframe\n",
    "\n",
    "    @staticmethod\n",
    "    def set_ordinal_columns(dataframe: pd.DataFrame) -> pd.DataFrame:\n",
    "        \"\"\"Set the datatype for all ordinal columns\"\"\"\n",
    "        # What is your age? \n",
    "        DataTypes.set_ordinal(dataframe, 'age', [\n",
    "            'Under 18 years',\n",
    "            '18-24 years',\n",
    "            '25-34 years',\n",
    "            '35-44 years',\n",
    "            '45-54 years',\n",
    "            '55-64 years',\n",
    "            '65 years or older'])\n",
    "\n",
    "        # What is the highest education level you have received?\n",
    "        DataTypes.set_ordinal(dataframe, 'education', [\n",
    "            'Less than high school degree',\n",
    "            'Highschool graduate or similar',\n",
    "            'Bachelor Degree',\n",
    "            'Masters Degree/MBA or similar',\n",
    "            'Doctoral Degree/PhD'])\n",
    "\n",
    "        # How long have you been a customer of your current telecommunications provider?\n",
    "        DataTypes.set_ordinal(dataframe, 'customer_years', [\n",
    "            'Less than 6 months',\n",
    "            '6 months to 1 year',\n",
    "            '1-2 years',\n",
    "            '2-5 years',\n",
    "            'More than 5 years'])\n",
    "\n",
    "        # In your opinion, do AI-driven customer service tools provide personalised and effective solutions to your queries or issues? \n",
    "        DataTypes.set_ordinal(dataframe, 'effective_ai', [\n",
    "            'Strongly agree',\n",
    "            'Agree',\n",
    "            'Neutral',\n",
    "            'Disagree',\n",
    "            'Strongly disagree'])\n",
    "\n",
    "        return dataframe    \n",
    "\n",
    "    @staticmethod\n",
    "    def set_likert_columns(dataframe: pd.DataFrame) -> pd.DataFrame:\n",
    "        \"\"\"Map likert 1-5 questions to oridinal values\"\"\"\n",
    "\n",
    "        # define the mapping\n",
    "        mapping = {\n",
    "            1: 'Very Dissatisfied',\n",
    "            2: 'Dissatisfied',\n",
    "            3: 'Neutral',\n",
    "            4: 'Satisfied',\n",
    "            5: 'Very Satisfied'\n",
    "        }\n",
    "\n",
    "        # On a scale of 1 to 5, with 1 being \"very dissatisfied\" and 5 being \"very satisfied\",\n",
    "        # how would you rate your overall satisfaction with your provider's customer service?\n",
    "        DataTypes.likert_to_ordinal(dataframe, 'satisfaction_overall', mapping)\n",
    "\n",
    "        # If you answered \"Yes\" to the previous question, on a scale of 1 to 5, with 1 being \n",
    "        # \"very dissatisfied\" and 5 being \"very satisfied\", how would you rate your experience\n",
    "        # with AI-powered customer service tools?\n",
    "        DataTypes.likert_to_ordinal(dataframe, 'satisfaction_ai', mapping)\n",
    "\n",
    "        return dataframe\n",
    "\n",
    "    @staticmethod\n",
    "    def set_boolean_columns(dataframe: pd.DataFrame) -> pd.DataFrame:\n",
    "        \"\"\"Update the datatype of boolean columns\"\"\"\n",
    "        dataframe['used_ai'] = dataframe['used_ai'].map({'Yes': 1, 'No': 0})\n",
    "        DataTypes.set_boolean(dataframe, 'used_ai')\n",
    "\n",
    "        return dataframe\n",
    "\n",
    "    @staticmethod\n",
    "    def set_date_columns(dataframe: pd.DataFrame) -> pd.DataFrame:\n",
    "        \"\"\"Set the datatype for columns containing dates\"\"\"\n",
    "        DataTypes.set_date(dataframe, 'review_date', '%d/%m/%Y')\n",
    "\n",
    "        return dataframe        "
   ]
  },
  {
   "cell_type": "code",
   "execution_count": 7,
   "id": "4555ec3f",
   "metadata": {},
   "outputs": [],
   "source": [
    "df_survey = df_survey \\\n",
    "    .pipe(SurveyDataTypes.set_categorical_columns) \\\n",
    "    .pipe(SurveyDataTypes.set_ordinal_columns) \\\n",
    "    .pipe(SurveyDataTypes.set_likert_columns) \\\n",
    "    .pipe(SurveyDataTypes.set_boolean_columns) \\\n",
    "    .pipe(SurveyDataTypes.set_date_columns)"
   ]
  },
  {
   "attachments": {},
   "cell_type": "markdown",
   "id": "49dde90e",
   "metadata": {},
   "source": [
    "The majority of the data types are converted to `category` with the following columns specifically converted to ordinal values:\n",
    "\n",
    "- age\n",
    "- education\n",
    "- customer_years\n",
    "- effective_ai\n",
    "\n",
    "The 'satisfaction_overall' and 'satisfaction_ai' where 1-5 likert scales used in the survey and were mapped using the following descriptive labels:\n",
    "\n",
    "```python\n",
    "1: 'Very Dissatisfied',\n",
    "2: 'Dissatisfied',\n",
    "3: 'Neutral',\n",
    "4: 'Satisfied',\n",
    "5: 'Very Satisfied'\n",
    "```\n",
    "\n",
    "The question corresponding to the `used_ai` column was a Yes/No question, and thus converted to boolean.\n",
    "\n",
    "Finally The `review_date` column was converted to a `datetime` using `%d/%m/%Y` as the custom format string."
   ]
  },
  {
   "cell_type": "code",
   "execution_count": 8,
   "id": "eb20ebcc",
   "metadata": {},
   "outputs": [
    {
     "name": "stdout",
     "output_type": "stream",
     "text": [
      "<class 'pandas.core.frame.DataFrame'>\n",
      "RangeIndex: 40 entries, 0 to 39\n",
      "Data columns (total 15 columns):\n",
      " #   Column                Non-Null Count  Dtype         \n",
      "---  ------                --------------  -----         \n",
      " 0   id                    40 non-null     object        \n",
      " 1   occupation            40 non-null     category      \n",
      " 2   gender                40 non-null     category      \n",
      " 3   age                   40 non-null     category      \n",
      " 4   education             40 non-null     category      \n",
      " 5   marital_status        40 non-null     category      \n",
      " 6   provider              40 non-null     category      \n",
      " 7   customer_years        40 non-null     category      \n",
      " 8   customer_type         40 non-null     category      \n",
      " 9   preferred_channel     40 non-null     category      \n",
      " 10  satisfaction_overall  40 non-null     category      \n",
      " 11  used_ai               40 non-null     bool          \n",
      " 12  satisfaction_ai       24 non-null     category      \n",
      " 13  effective_ai          40 non-null     category      \n",
      " 14  review_date           40 non-null     datetime64[ns]\n",
      "dtypes: bool(1), category(12), datetime64[ns](1), object(1)\n",
      "memory usage: 3.6+ KB\n"
     ]
    }
   ],
   "source": [
    "df_survey.info()"
   ]
  },
  {
   "attachments": {},
   "cell_type": "markdown",
   "id": "4279d70b",
   "metadata": {},
   "source": [
    "ℹ️ **Note**: The `satisfaction_ai` column contains null values for respondents who did not use AI-driven customer service tools."
   ]
  },
  {
   "attachments": {},
   "cell_type": "markdown",
   "id": "e19df444",
   "metadata": {},
   "source": [
    "#### Hellopeter Data"
   ]
  },
  {
   "attachments": {},
   "cell_type": "markdown",
   "id": "88175afb",
   "metadata": {},
   "source": [
    "Here we load the Hellopeter reviews that were filtered for chatbot reviews, map the `business_slug` column from the API to the `provider` column in the survey data, and convert the `review_date` column to a `datetime` using `%Y-%m-%d %H:%M:%S` as the custom format string.\n",
    "\n",
    "Columns from previous experimental classifications are remove and we are left will a tidy dataset containing the following columns:\n",
    "\n",
    "| Column Name | Description |\n",
    "| :--- | :--- |\n",
    "| id | Unique Identification Number |\n",
    "| created_at | Date of the review |\n",
    "| review_title | Title of the review |\n",
    "| review_content | Text of the review |\n",
    "| provider | Telecommunications provider |"
   ]
  },
  {
   "cell_type": "code",
   "execution_count": 9,
   "id": "bd88b893",
   "metadata": {},
   "outputs": [],
   "source": [
    "class ReviewLoader:\n",
    "    @staticmethod\n",
    "    def load_hellopeter_reviews(file_path:str) -> pd.DataFrame:\n",
    "        \"\"\"Load the data gathered from Hellopeter\"\"\"\n",
    "        # read the dataset\n",
    "        df_result = pd.read_parquet(file_path)\n",
    "        df_result.set_index('id', inplace=True)\n",
    "\n",
    "        return df_result\n",
    "\n",
    "    @staticmethod\n",
    "    def add_provider_column(dataframe:pd.DataFrame) -> pd.DataFrame:\n",
    "        \"\"\"map the business slug to the provider to match the survey data\"\"\"\n",
    "        dataframe['provider'] = dataframe['business_slug'].map({\n",
    "            'vodacom': 'Vodacom',\n",
    "            'mtn': 'MTN',\n",
    "            'optus': 'Telkom',\n",
    "            'cell-c': 'Cell C',\n",
    "            'rain-internet-service-provider': 'Other'\n",
    "        })\n",
    "\n",
    "        return dataframe\n",
    "    \n",
    "    @staticmethod\n",
    "    def drop_columns(dataframe:pd.DataFrame) -> pd.DataFrame:\n",
    "        \"\"\"Drop columns that are not relevant to the study\"\"\"\n",
    "        columns = [\n",
    "            'business_slug',\n",
    "            'chatbot_related',\n",
    "            'chatbot_evidence',\n",
    "            'chatbot_classification',\n",
    "            'chatbot_description',\n",
    "            'chatbot_suggestion',\n",
    "            'complaint_classification',\n",
    "            'complaint_service',\n",
    "            'complaint_description',\n",
    "            'complaint_suggestion',\n",
    "            'human_chatbot_classification',\n",
    "            'human_complaint_classification'\n",
    "        ]\n",
    "\n",
    "        return dataframe.drop(columns=columns)\n",
    "\n",
    "    @staticmethod\n",
    "    def set_data_types(dataframe:pd.DataFrame) -> pd.DataFrame:\n",
    "        \"\"\"Set the data types for the Hellopeter reviews\"\"\"\n",
    "        # set the data column datatype\n",
    "        DataTypes.set_date(dataframe, 'created_at', '%Y-%m-%d %H:%M:%S')\n",
    "\n",
    "        # set the review rating datatype\n",
    "        dataframe['review_rating'] = dataframe['review_rating'].astype('int')\n",
    "\n",
    "        # set the provider datatype\n",
    "        DataTypes.set_category(dataframe, 'provider')\n",
    "\n",
    "\n",
    "        return dataframe"
   ]
  },
  {
   "cell_type": "code",
   "execution_count": 10,
   "id": "013b9284",
   "metadata": {},
   "outputs": [
    {
     "name": "stdout",
     "output_type": "stream",
     "text": [
      "Number of Reviews, and columns: (235, 5)\n"
     ]
    },
    {
     "data": {
      "text/html": [
       "<div>\n",
       "<style scoped>\n",
       "    .dataframe tbody tr th:only-of-type {\n",
       "        vertical-align: middle;\n",
       "    }\n",
       "\n",
       "    .dataframe tbody tr th {\n",
       "        vertical-align: top;\n",
       "    }\n",
       "\n",
       "    .dataframe thead th {\n",
       "        text-align: right;\n",
       "    }\n",
       "</style>\n",
       "<table border=\"1\" class=\"dataframe\">\n",
       "  <thead>\n",
       "    <tr style=\"text-align: right;\">\n",
       "      <th></th>\n",
       "      <th>created_at</th>\n",
       "      <th>review_rating</th>\n",
       "      <th>review_title</th>\n",
       "      <th>review_content</th>\n",
       "      <th>provider</th>\n",
       "    </tr>\n",
       "    <tr>\n",
       "      <th>id</th>\n",
       "      <th></th>\n",
       "      <th></th>\n",
       "      <th></th>\n",
       "      <th></th>\n",
       "      <th></th>\n",
       "    </tr>\n",
       "  </thead>\n",
       "  <tbody>\n",
       "    <tr>\n",
       "      <th>3344640</th>\n",
       "      <td>2021-01-07 13:22:34</td>\n",
       "      <td>1</td>\n",
       "      <td>No option to speak to the agent on the custome...</td>\n",
       "      <td>Am not able to call vodacom to block my number...</td>\n",
       "      <td>Vodacom</td>\n",
       "    </tr>\n",
       "    <tr>\n",
       "      <th>3347241</th>\n",
       "      <td>2021-01-10 11:32:59</td>\n",
       "      <td>1</td>\n",
       "      <td>Airtime charged, but not credited to my phone</td>\n",
       "      <td>Bought Airtime online through the Vodacom App ...</td>\n",
       "      <td>Vodacom</td>\n",
       "    </tr>\n",
       "    <tr>\n",
       "      <th>3353838</th>\n",
       "      <td>2021-01-15 11:32:11</td>\n",
       "      <td>1</td>\n",
       "      <td>Chatbot Tobi/ Voice Bundle</td>\n",
       "      <td>I am disappointed at how your service has beco...</td>\n",
       "      <td>Vodacom</td>\n",
       "    </tr>\n",
       "  </tbody>\n",
       "</table>\n",
       "</div>"
      ],
      "text/plain": [
       "                 created_at  review_rating  \\\n",
       "id                                           \n",
       "3344640 2021-01-07 13:22:34              1   \n",
       "3347241 2021-01-10 11:32:59              1   \n",
       "3353838 2021-01-15 11:32:11              1   \n",
       "\n",
       "                                              review_title  \\\n",
       "id                                                           \n",
       "3344640  No option to speak to the agent on the custome...   \n",
       "3347241      Airtime charged, but not credited to my phone   \n",
       "3353838                         Chatbot Tobi/ Voice Bundle   \n",
       "\n",
       "                                            review_content provider  \n",
       "id                                                                   \n",
       "3344640  Am not able to call vodacom to block my number...  Vodacom  \n",
       "3347241  Bought Airtime online through the Vodacom App ...  Vodacom  \n",
       "3353838  I am disappointed at how your service has beco...  Vodacom  "
      ]
     },
     "metadata": {},
     "output_type": "display_data"
    }
   ],
   "source": [
    "# load the hellopeter reviews\n",
    "review_path = '../../data/interim/01-06_human_classified.parquet'\n",
    "df_reviews = ReviewLoader.load_hellopeter_reviews(review_path) \\\n",
    "    .pipe(ReviewLoader.add_provider_column) \\\n",
    "    .pipe(ReviewLoader.drop_columns) \\\n",
    "    .pipe(ReviewLoader.set_data_types)\n",
    "\n",
    "# show the first 3 rows\n",
    "print(f'Number of Reviews, and columns: {df_reviews.shape}')\n",
    "display(df_reviews.head(3))"
   ]
  },
  {
   "attachments": {},
   "cell_type": "markdown",
   "id": "cf313f95",
   "metadata": {},
   "source": [
    "The datatypes are shown below where both the review title and content are string values."
   ]
  },
  {
   "cell_type": "code",
   "execution_count": 11,
   "id": "024bfd4f",
   "metadata": {},
   "outputs": [
    {
     "name": "stdout",
     "output_type": "stream",
     "text": [
      "<class 'pandas.core.frame.DataFrame'>\n",
      "Index: 235 entries, 3344640 to 4522620\n",
      "Data columns (total 5 columns):\n",
      " #   Column          Non-Null Count  Dtype         \n",
      "---  ------          --------------  -----         \n",
      " 0   created_at      235 non-null    datetime64[ns]\n",
      " 1   review_rating   235 non-null    int64         \n",
      " 2   review_title    235 non-null    object        \n",
      " 3   review_content  235 non-null    object        \n",
      " 4   provider        208 non-null    category      \n",
      "dtypes: category(1), datetime64[ns](1), int64(1), object(2)\n",
      "memory usage: 9.6+ KB\n"
     ]
    }
   ],
   "source": [
    "df_reviews.info()"
   ]
  },
  {
   "attachments": {},
   "cell_type": "markdown",
   "id": "ab7d48cc",
   "metadata": {},
   "source": [
    "Next we load the Aspect Based Sentiment Analysis data for each review. There is a one-to-many mapping between the reviews and the aspects, so at this stage we have tidy data."
   ]
  },
  {
   "cell_type": "code",
   "execution_count": 12,
   "id": "dd9caee7",
   "metadata": {},
   "outputs": [],
   "source": [
    "class AspectLoader:\n",
    "    @staticmethod\n",
    "    def load_aspects(file_path:str) -> pd.DataFrame:\n",
    "        \"\"\"Load the aspects gathered from Hellopeter\"\"\"\n",
    "        # read the dataset\n",
    "        df_result = pd.read_parquet(file_path)\n",
    "        df_result.set_index('id', inplace=True)\n",
    "\n",
    "        return df_result\n",
    "\n",
    "    @staticmethod\n",
    "    def set_data_types(dataframe:pd.DataFrame) -> pd.DataFrame:\n",
    "        \"\"\"Set the data types for the aspect dataset\"\"\"\n",
    "        # set the categorical data types\n",
    "        DataTypes.set_category(dataframe, 'entity')\n",
    "        DataTypes.set_category(dataframe, 'aspect')\n",
    "\n",
    "        # replace Mixed polarity with Neutral\n",
    "        dataframe['polarity'] = dataframe['polarity'] \\\n",
    "            .replace('Mixed', 'Neutral')\n",
    "\n",
    "        # set polarity as an ordinal datatype\n",
    "        DataTypes.set_ordinal(dataframe, 'polarity', [\n",
    "            'Negative',\n",
    "            'Neutral',\n",
    "            'Positive'])\n",
    "\n",
    "        return dataframe\n"
   ]
  },
  {
   "attachments": {},
   "cell_type": "markdown",
   "id": "0236c961",
   "metadata": {},
   "source": [
    "In the aspect dataset, an `entity` is a grouping of `aspects`, while the `polarity` column indicate the sentiment of the aspect."
   ]
  },
  {
   "cell_type": "code",
   "execution_count": 13,
   "id": "6e6571c5",
   "metadata": {},
   "outputs": [
    {
     "name": "stdout",
     "output_type": "stream",
     "text": [
      "Rows and Columns loaded: (1595, 3)\n"
     ]
    },
    {
     "data": {
      "text/html": [
       "<div>\n",
       "<style scoped>\n",
       "    .dataframe tbody tr th:only-of-type {\n",
       "        vertical-align: middle;\n",
       "    }\n",
       "\n",
       "    .dataframe tbody tr th {\n",
       "        vertical-align: top;\n",
       "    }\n",
       "\n",
       "    .dataframe thead th {\n",
       "        text-align: right;\n",
       "    }\n",
       "</style>\n",
       "<table border=\"1\" class=\"dataframe\">\n",
       "  <thead>\n",
       "    <tr style=\"text-align: right;\">\n",
       "      <th></th>\n",
       "      <th>entity</th>\n",
       "      <th>aspect</th>\n",
       "      <th>polarity</th>\n",
       "    </tr>\n",
       "    <tr>\n",
       "      <th>id</th>\n",
       "      <th></th>\n",
       "      <th></th>\n",
       "      <th></th>\n",
       "    </tr>\n",
       "  </thead>\n",
       "  <tbody>\n",
       "    <tr>\n",
       "      <th>3344640</th>\n",
       "      <td>Customer Service</td>\n",
       "      <td>Availability (e.g., 24/7 support)</td>\n",
       "      <td>Negative</td>\n",
       "    </tr>\n",
       "    <tr>\n",
       "      <th>3344640</th>\n",
       "      <td>Chatbots</td>\n",
       "      <td>User-friendliness</td>\n",
       "      <td>Negative</td>\n",
       "    </tr>\n",
       "    <tr>\n",
       "      <th>3344640</th>\n",
       "      <td>Chatbots</td>\n",
       "      <td>Ability to understand query</td>\n",
       "      <td>Negative</td>\n",
       "    </tr>\n",
       "  </tbody>\n",
       "</table>\n",
       "</div>"
      ],
      "text/plain": [
       "                   entity                             aspect  polarity\n",
       "id                                                                    \n",
       "3344640  Customer Service  Availability (e.g., 24/7 support)  Negative\n",
       "3344640          Chatbots                  User-friendliness  Negative\n",
       "3344640          Chatbots        Ability to understand query  Negative"
      ]
     },
     "metadata": {},
     "output_type": "display_data"
    }
   ],
   "source": [
    "# load the hellopeter review aspects\n",
    "aspects_path = '../../data/interim/01-09_absa.parquet'\n",
    "df_aspects = AspectLoader.load_aspects(aspects_path) \\\n",
    "    .pipe(AspectLoader.set_data_types)\n",
    "\n",
    "# show the first 3 rows\n",
    "print(f'Rows and Columns loaded: {df_aspects.shape}')\n",
    "display(df_aspects.head(3))"
   ]
  },
  {
   "attachments": {},
   "cell_type": "markdown",
   "id": "138bc646",
   "metadata": {},
   "source": [
    "### 3. (b) Data summary statistics"
   ]
  },
  {
   "attachments": {},
   "cell_type": "markdown",
   "id": "d7c64a99",
   "metadata": {},
   "source": [
    "#### Responses and Observations"
   ]
  },
  {
   "cell_type": "code",
   "execution_count": 14,
   "id": "eebd281f",
   "metadata": {},
   "outputs": [
    {
     "data": {
      "text/markdown": [
       "- The number of responses in the survey dataset: `40`\n",
       "- The number of observations in the Hellopeter review dataset: `235`"
      ],
      "text/plain": [
       "<IPython.core.display.Markdown object>"
      ]
     },
     "metadata": {},
     "output_type": "display_data"
    }
   ],
   "source": [
    "mprint(f'- The number of responses in the survey dataset: `{df_survey.shape[0]}`')\n",
    "mprint(f'- The number of observations in the Hellopeter review dataset: `{df_reviews.shape[0]}`')\n",
    "mflush()"
   ]
  },
  {
   "attachments": {},
   "cell_type": "markdown",
   "id": "87f91fa6",
   "metadata": {},
   "source": [
    "#### A Summary of the key variables from the survey dataset"
   ]
  },
  {
   "attachments": {},
   "cell_type": "markdown",
   "id": "574cfb22",
   "metadata": {},
   "source": [
    "##### Gender Distribution\n",
    "\n",
    "Most of the respondents of the survey were male. It is also interesting to note that none of the respondents chose to `identified as non-binary."
   ]
  },
  {
   "cell_type": "code",
   "execution_count": 15,
   "id": "fb141278",
   "metadata": {},
   "outputs": [
    {
     "data": {
      "text/html": [
       "<div>\n",
       "<style scoped>\n",
       "    .dataframe tbody tr th:only-of-type {\n",
       "        vertical-align: middle;\n",
       "    }\n",
       "\n",
       "    .dataframe tbody tr th {\n",
       "        vertical-align: top;\n",
       "    }\n",
       "\n",
       "    .dataframe thead th {\n",
       "        text-align: right;\n",
       "    }\n",
       "</style>\n",
       "<table border=\"1\" class=\"dataframe\">\n",
       "  <thead>\n",
       "    <tr style=\"text-align: right;\">\n",
       "      <th></th>\n",
       "      <th>proportion</th>\n",
       "    </tr>\n",
       "    <tr>\n",
       "      <th>gender</th>\n",
       "      <th></th>\n",
       "    </tr>\n",
       "  </thead>\n",
       "  <tbody>\n",
       "    <tr>\n",
       "      <th>Male</th>\n",
       "      <td>72.5</td>\n",
       "    </tr>\n",
       "    <tr>\n",
       "      <th>Female</th>\n",
       "      <td>27.5</td>\n",
       "    </tr>\n",
       "  </tbody>\n",
       "</table>\n",
       "</div>"
      ],
      "text/plain": [
       "        proportion\n",
       "gender            \n",
       "Male          72.5\n",
       "Female        27.5"
      ]
     },
     "metadata": {},
     "output_type": "display_data"
    }
   ],
   "source": [
    "display(df_survey['gender'].value_counts(normalize=True).to_frame() * 100)"
   ]
  },
  {
   "attachments": {},
   "cell_type": "markdown",
   "id": "0b5404b4",
   "metadata": {},
   "source": [
    "##### Age Distribution\n",
    "\n",
    "The age distribution of the respondents is shown below. The majority of the respondents were between `25` and `54` years old. This could possibly be explained if we consider that the majority of survey responses came from a LinkedIn."
   ]
  },
  {
   "cell_type": "code",
   "execution_count": 16,
   "id": "415f4fd8",
   "metadata": {},
   "outputs": [
    {
     "data": {
      "text/html": [
       "<div>\n",
       "<style scoped>\n",
       "    .dataframe tbody tr th:only-of-type {\n",
       "        vertical-align: middle;\n",
       "    }\n",
       "\n",
       "    .dataframe tbody tr th {\n",
       "        vertical-align: top;\n",
       "    }\n",
       "\n",
       "    .dataframe thead th {\n",
       "        text-align: right;\n",
       "    }\n",
       "</style>\n",
       "<table border=\"1\" class=\"dataframe\">\n",
       "  <thead>\n",
       "    <tr style=\"text-align: right;\">\n",
       "      <th></th>\n",
       "      <th>proportion</th>\n",
       "    </tr>\n",
       "    <tr>\n",
       "      <th>age</th>\n",
       "      <th></th>\n",
       "    </tr>\n",
       "  </thead>\n",
       "  <tbody>\n",
       "    <tr>\n",
       "      <th>25-34 years</th>\n",
       "      <td>40.0</td>\n",
       "    </tr>\n",
       "    <tr>\n",
       "      <th>35-44 years</th>\n",
       "      <td>32.5</td>\n",
       "    </tr>\n",
       "    <tr>\n",
       "      <th>45-54 years</th>\n",
       "      <td>27.5</td>\n",
       "    </tr>\n",
       "    <tr>\n",
       "      <th>Under 18 years</th>\n",
       "      <td>0.0</td>\n",
       "    </tr>\n",
       "    <tr>\n",
       "      <th>18-24 years</th>\n",
       "      <td>0.0</td>\n",
       "    </tr>\n",
       "    <tr>\n",
       "      <th>55-64 years</th>\n",
       "      <td>0.0</td>\n",
       "    </tr>\n",
       "    <tr>\n",
       "      <th>65 years or older</th>\n",
       "      <td>0.0</td>\n",
       "    </tr>\n",
       "  </tbody>\n",
       "</table>\n",
       "</div>"
      ],
      "text/plain": [
       "                   proportion\n",
       "age                          \n",
       "25-34 years              40.0\n",
       "35-44 years              32.5\n",
       "45-54 years              27.5\n",
       "Under 18 years            0.0\n",
       "18-24 years               0.0\n",
       "55-64 years               0.0\n",
       "65 years or older         0.0"
      ]
     },
     "metadata": {},
     "output_type": "display_data"
    }
   ],
   "source": [
    "display(df_survey['age'].value_counts(normalize=True).to_frame() * 100)"
   ]
  },
  {
   "attachments": {},
   "cell_type": "markdown",
   "id": "db039752",
   "metadata": {},
   "source": [
    "##### Education Level Distribution\n",
    "\n",
    "It is significant to note that `82.5%` of respondents have a `Bachelor Degree` or higher."
   ]
  },
  {
   "cell_type": "code",
   "execution_count": 17,
   "id": "c68c02d9",
   "metadata": {},
   "outputs": [
    {
     "data": {
      "text/html": [
       "<div>\n",
       "<style scoped>\n",
       "    .dataframe tbody tr th:only-of-type {\n",
       "        vertical-align: middle;\n",
       "    }\n",
       "\n",
       "    .dataframe tbody tr th {\n",
       "        vertical-align: top;\n",
       "    }\n",
       "\n",
       "    .dataframe thead th {\n",
       "        text-align: right;\n",
       "    }\n",
       "</style>\n",
       "<table border=\"1\" class=\"dataframe\">\n",
       "  <thead>\n",
       "    <tr style=\"text-align: right;\">\n",
       "      <th></th>\n",
       "      <th>proportion</th>\n",
       "    </tr>\n",
       "    <tr>\n",
       "      <th>education</th>\n",
       "      <th></th>\n",
       "    </tr>\n",
       "  </thead>\n",
       "  <tbody>\n",
       "    <tr>\n",
       "      <th>Bachelor Degree</th>\n",
       "      <td>52.5</td>\n",
       "    </tr>\n",
       "    <tr>\n",
       "      <th>Masters Degree/MBA or similar</th>\n",
       "      <td>27.5</td>\n",
       "    </tr>\n",
       "    <tr>\n",
       "      <th>Highschool graduate or similar</th>\n",
       "      <td>17.5</td>\n",
       "    </tr>\n",
       "    <tr>\n",
       "      <th>Doctoral Degree/PhD</th>\n",
       "      <td>2.5</td>\n",
       "    </tr>\n",
       "    <tr>\n",
       "      <th>Less than high school degree</th>\n",
       "      <td>0.0</td>\n",
       "    </tr>\n",
       "  </tbody>\n",
       "</table>\n",
       "</div>"
      ],
      "text/plain": [
       "                                proportion\n",
       "education                                 \n",
       "Bachelor Degree                       52.5\n",
       "Masters Degree/MBA or similar         27.5\n",
       "Highschool graduate or similar        17.5\n",
       "Doctoral Degree/PhD                    2.5\n",
       "Less than high school degree           0.0"
      ]
     },
     "metadata": {},
     "output_type": "display_data"
    }
   ],
   "source": [
    "display(df_survey['education'].value_counts(normalize=True).to_frame() * 100)"
   ]
  },
  {
   "attachments": {},
   "cell_type": "markdown",
   "id": "f81a2357",
   "metadata": {},
   "source": [
    "##### Overall Satisfaction Disribution\n",
    "\n",
    "`65%` of all respondents report that the are either `Satisfied` or `Very Satisfied` with their telecommunications provider."
   ]
  },
  {
   "cell_type": "code",
   "execution_count": 18,
   "id": "c1fce189",
   "metadata": {},
   "outputs": [
    {
     "data": {
      "text/html": [
       "<div>\n",
       "<style scoped>\n",
       "    .dataframe tbody tr th:only-of-type {\n",
       "        vertical-align: middle;\n",
       "    }\n",
       "\n",
       "    .dataframe tbody tr th {\n",
       "        vertical-align: top;\n",
       "    }\n",
       "\n",
       "    .dataframe thead th {\n",
       "        text-align: right;\n",
       "    }\n",
       "</style>\n",
       "<table border=\"1\" class=\"dataframe\">\n",
       "  <thead>\n",
       "    <tr style=\"text-align: right;\">\n",
       "      <th></th>\n",
       "      <th>proportion</th>\n",
       "    </tr>\n",
       "    <tr>\n",
       "      <th>satisfaction_overall</th>\n",
       "      <th></th>\n",
       "    </tr>\n",
       "  </thead>\n",
       "  <tbody>\n",
       "    <tr>\n",
       "      <th>Satisfied</th>\n",
       "      <td>52.5</td>\n",
       "    </tr>\n",
       "    <tr>\n",
       "      <th>Neutral</th>\n",
       "      <td>25.0</td>\n",
       "    </tr>\n",
       "    <tr>\n",
       "      <th>Very Satisfied</th>\n",
       "      <td>12.5</td>\n",
       "    </tr>\n",
       "    <tr>\n",
       "      <th>Very Dissatisfied</th>\n",
       "      <td>7.5</td>\n",
       "    </tr>\n",
       "    <tr>\n",
       "      <th>Dissatisfied</th>\n",
       "      <td>2.5</td>\n",
       "    </tr>\n",
       "  </tbody>\n",
       "</table>\n",
       "</div>"
      ],
      "text/plain": [
       "                      proportion\n",
       "satisfaction_overall            \n",
       "Satisfied                   52.5\n",
       "Neutral                     25.0\n",
       "Very Satisfied              12.5\n",
       "Very Dissatisfied            7.5\n",
       "Dissatisfied                 2.5"
      ]
     },
     "metadata": {},
     "output_type": "display_data"
    }
   ],
   "source": [
    "display(df_survey['satisfaction_overall'].value_counts(normalize=True).to_frame() * 100)"
   ]
  },
  {
   "attachments": {},
   "cell_type": "markdown",
   "id": "75e8ddc2",
   "metadata": {},
   "source": [
    "##### Telecommunications Provider\n",
    "\n",
    "The majority of respondents are customers of `Vodacom (50%)` followed by `MTN (25%)`."
   ]
  },
  {
   "cell_type": "code",
   "execution_count": 19,
   "id": "f6133afd",
   "metadata": {},
   "outputs": [
    {
     "data": {
      "text/html": [
       "<div>\n",
       "<style scoped>\n",
       "    .dataframe tbody tr th:only-of-type {\n",
       "        vertical-align: middle;\n",
       "    }\n",
       "\n",
       "    .dataframe tbody tr th {\n",
       "        vertical-align: top;\n",
       "    }\n",
       "\n",
       "    .dataframe thead th {\n",
       "        text-align: right;\n",
       "    }\n",
       "</style>\n",
       "<table border=\"1\" class=\"dataframe\">\n",
       "  <thead>\n",
       "    <tr style=\"text-align: right;\">\n",
       "      <th></th>\n",
       "      <th>proportion</th>\n",
       "    </tr>\n",
       "    <tr>\n",
       "      <th>provider</th>\n",
       "      <th></th>\n",
       "    </tr>\n",
       "  </thead>\n",
       "  <tbody>\n",
       "    <tr>\n",
       "      <th>Vodacom</th>\n",
       "      <td>50.0</td>\n",
       "    </tr>\n",
       "    <tr>\n",
       "      <th>MTN</th>\n",
       "      <td>25.0</td>\n",
       "    </tr>\n",
       "    <tr>\n",
       "      <th>Telkom</th>\n",
       "      <td>17.5</td>\n",
       "    </tr>\n",
       "    <tr>\n",
       "      <th>Cell C</th>\n",
       "      <td>5.0</td>\n",
       "    </tr>\n",
       "    <tr>\n",
       "      <th>Other</th>\n",
       "      <td>2.5</td>\n",
       "    </tr>\n",
       "  </tbody>\n",
       "</table>\n",
       "</div>"
      ],
      "text/plain": [
       "          proportion\n",
       "provider            \n",
       "Vodacom         50.0\n",
       "MTN             25.0\n",
       "Telkom          17.5\n",
       "Cell C           5.0\n",
       "Other            2.5"
      ]
     },
     "execution_count": 19,
     "metadata": {},
     "output_type": "execute_result"
    }
   ],
   "source": [
    "df_survey['provider'].value_counts(normalize=True).to_frame() * 100"
   ]
  },
  {
   "attachments": {},
   "cell_type": "markdown",
   "id": "3fb8c8d8",
   "metadata": {},
   "source": [
    "##### Satisfaction by Provider\n",
    "\n",
    "We note that `MTN` has the highest percentage `(30%)` of `Dissatisfied` customers in the survey data."
   ]
  },
  {
   "cell_type": "code",
   "execution_count": 20,
   "id": "7b5bcf95",
   "metadata": {},
   "outputs": [
    {
     "data": {
      "text/html": [
       "<div>\n",
       "<style scoped>\n",
       "    .dataframe tbody tr th:only-of-type {\n",
       "        vertical-align: middle;\n",
       "    }\n",
       "\n",
       "    .dataframe tbody tr th {\n",
       "        vertical-align: top;\n",
       "    }\n",
       "\n",
       "    .dataframe thead th {\n",
       "        text-align: right;\n",
       "    }\n",
       "</style>\n",
       "<table border=\"1\" class=\"dataframe\">\n",
       "  <thead>\n",
       "    <tr style=\"text-align: right;\">\n",
       "      <th>satisfaction_overall</th>\n",
       "      <th>Very Dissatisfied</th>\n",
       "      <th>Dissatisfied</th>\n",
       "      <th>Neutral</th>\n",
       "      <th>Satisfied</th>\n",
       "      <th>Very Satisfied</th>\n",
       "    </tr>\n",
       "    <tr>\n",
       "      <th>provider</th>\n",
       "      <th></th>\n",
       "      <th></th>\n",
       "      <th></th>\n",
       "      <th></th>\n",
       "      <th></th>\n",
       "    </tr>\n",
       "  </thead>\n",
       "  <tbody>\n",
       "    <tr>\n",
       "      <th>Cell C</th>\n",
       "      <td>0.0</td>\n",
       "      <td>0.0</td>\n",
       "      <td>50.000000</td>\n",
       "      <td>50.000000</td>\n",
       "      <td>0.000000</td>\n",
       "    </tr>\n",
       "    <tr>\n",
       "      <th>MTN</th>\n",
       "      <td>20.0</td>\n",
       "      <td>10.0</td>\n",
       "      <td>10.000000</td>\n",
       "      <td>50.000000</td>\n",
       "      <td>10.000000</td>\n",
       "    </tr>\n",
       "    <tr>\n",
       "      <th>Other</th>\n",
       "      <td>0.0</td>\n",
       "      <td>0.0</td>\n",
       "      <td>0.000000</td>\n",
       "      <td>0.000000</td>\n",
       "      <td>100.000000</td>\n",
       "    </tr>\n",
       "    <tr>\n",
       "      <th>Telkom</th>\n",
       "      <td>0.0</td>\n",
       "      <td>0.0</td>\n",
       "      <td>28.571429</td>\n",
       "      <td>57.142857</td>\n",
       "      <td>14.285714</td>\n",
       "    </tr>\n",
       "    <tr>\n",
       "      <th>Vodacom</th>\n",
       "      <td>5.0</td>\n",
       "      <td>0.0</td>\n",
       "      <td>30.000000</td>\n",
       "      <td>55.000000</td>\n",
       "      <td>10.000000</td>\n",
       "    </tr>\n",
       "    <tr>\n",
       "      <th>Total</th>\n",
       "      <td>7.5</td>\n",
       "      <td>2.5</td>\n",
       "      <td>25.000000</td>\n",
       "      <td>52.500000</td>\n",
       "      <td>12.500000</td>\n",
       "    </tr>\n",
       "  </tbody>\n",
       "</table>\n",
       "</div>"
      ],
      "text/plain": [
       "satisfaction_overall  Very Dissatisfied  Dissatisfied    Neutral  Satisfied  \\\n",
       "provider                                                                      \n",
       "Cell C                              0.0           0.0  50.000000  50.000000   \n",
       "MTN                                20.0          10.0  10.000000  50.000000   \n",
       "Other                               0.0           0.0   0.000000   0.000000   \n",
       "Telkom                              0.0           0.0  28.571429  57.142857   \n",
       "Vodacom                             5.0           0.0  30.000000  55.000000   \n",
       "Total                               7.5           2.5  25.000000  52.500000   \n",
       "\n",
       "satisfaction_overall  Very Satisfied  \n",
       "provider                              \n",
       "Cell C                      0.000000  \n",
       "MTN                        10.000000  \n",
       "Other                     100.000000  \n",
       "Telkom                     14.285714  \n",
       "Vodacom                    10.000000  \n",
       "Total                      12.500000  "
      ]
     },
     "execution_count": 20,
     "metadata": {},
     "output_type": "execute_result"
    }
   ],
   "source": [
    "pd.crosstab(\n",
    "    df_survey['provider'],\n",
    "    df_survey['satisfaction_overall'],\n",
    "    margins=True,\n",
    "    margins_name=\"Total\",\n",
    "    normalize='index') * 100"
   ]
  },
  {
   "attachments": {},
   "cell_type": "markdown",
   "id": "ba90d641",
   "metadata": {},
   "source": [
    "##### Use of AI Tools"
   ]
  },
  {
   "attachments": {},
   "cell_type": "markdown",
   "id": "1b22c4e7",
   "metadata": {},
   "source": [
    "`57.5%` of respondents indicated that they have used an AI-powered customer service tool (e.g. chatbot) when contacting your telecommunications provider. However we should note that `Vodacom` has the strongest AI initiative with `65%` of respondents indicating that they have used an AI-powered customer service tool."
   ]
  },
  {
   "cell_type": "code",
   "execution_count": 21,
   "id": "a1599836",
   "metadata": {},
   "outputs": [
    {
     "data": {
      "text/html": [
       "<div>\n",
       "<style scoped>\n",
       "    .dataframe tbody tr th:only-of-type {\n",
       "        vertical-align: middle;\n",
       "    }\n",
       "\n",
       "    .dataframe tbody tr th {\n",
       "        vertical-align: top;\n",
       "    }\n",
       "\n",
       "    .dataframe thead th {\n",
       "        text-align: right;\n",
       "    }\n",
       "</style>\n",
       "<table border=\"1\" class=\"dataframe\">\n",
       "  <thead>\n",
       "    <tr style=\"text-align: right;\">\n",
       "      <th>used_ai</th>\n",
       "      <th>False</th>\n",
       "      <th>True</th>\n",
       "    </tr>\n",
       "    <tr>\n",
       "      <th>provider</th>\n",
       "      <th></th>\n",
       "      <th></th>\n",
       "    </tr>\n",
       "  </thead>\n",
       "  <tbody>\n",
       "    <tr>\n",
       "      <th>Cell C</th>\n",
       "      <td>50.000000</td>\n",
       "      <td>50.000000</td>\n",
       "    </tr>\n",
       "    <tr>\n",
       "      <th>MTN</th>\n",
       "      <td>50.000000</td>\n",
       "      <td>50.000000</td>\n",
       "    </tr>\n",
       "    <tr>\n",
       "      <th>Other</th>\n",
       "      <td>0.000000</td>\n",
       "      <td>100.000000</td>\n",
       "    </tr>\n",
       "    <tr>\n",
       "      <th>Telkom</th>\n",
       "      <td>57.142857</td>\n",
       "      <td>42.857143</td>\n",
       "    </tr>\n",
       "    <tr>\n",
       "      <th>Vodacom</th>\n",
       "      <td>35.000000</td>\n",
       "      <td>65.000000</td>\n",
       "    </tr>\n",
       "    <tr>\n",
       "      <th>Total</th>\n",
       "      <td>42.500000</td>\n",
       "      <td>57.500000</td>\n",
       "    </tr>\n",
       "  </tbody>\n",
       "</table>\n",
       "</div>"
      ],
      "text/plain": [
       "used_ai       False        True\n",
       "provider                       \n",
       "Cell C    50.000000   50.000000\n",
       "MTN       50.000000   50.000000\n",
       "Other      0.000000  100.000000\n",
       "Telkom    57.142857   42.857143\n",
       "Vodacom   35.000000   65.000000\n",
       "Total     42.500000   57.500000"
      ]
     },
     "execution_count": 21,
     "metadata": {},
     "output_type": "execute_result"
    }
   ],
   "source": [
    "pd.crosstab(\n",
    "    df_survey['provider'],\n",
    "    df_survey['used_ai'],\n",
    "    margins=True,\n",
    "    margins_name=\"Total\",\n",
    "    normalize='index') * 100"
   ]
  },
  {
   "attachments": {},
   "cell_type": "markdown",
   "id": "355927bb",
   "metadata": {},
   "source": [
    "#### Review Sentiment\n",
    "\n",
    "As mentioned `Vodacom` has the strongest chatbot capability and focus to automate customer service though their chatbot named TOBi. It naturally follows that the majority of the reviews are for `Vodacom`, we will thus focus on this provider when analysing the reviews further."
   ]
  },
  {
   "cell_type": "code",
   "execution_count": 22,
   "id": "ef23636c",
   "metadata": {},
   "outputs": [
    {
     "data": {
      "text/html": [
       "<div>\n",
       "<style scoped>\n",
       "    .dataframe tbody tr th:only-of-type {\n",
       "        vertical-align: middle;\n",
       "    }\n",
       "\n",
       "    .dataframe tbody tr th {\n",
       "        vertical-align: top;\n",
       "    }\n",
       "\n",
       "    .dataframe thead th {\n",
       "        text-align: right;\n",
       "    }\n",
       "</style>\n",
       "<table border=\"1\" class=\"dataframe\">\n",
       "  <thead>\n",
       "    <tr style=\"text-align: right;\">\n",
       "      <th></th>\n",
       "      <th>proportion</th>\n",
       "    </tr>\n",
       "    <tr>\n",
       "      <th>provider</th>\n",
       "      <th></th>\n",
       "    </tr>\n",
       "  </thead>\n",
       "  <tbody>\n",
       "    <tr>\n",
       "      <th>Vodacom</th>\n",
       "      <td>95.673077</td>\n",
       "    </tr>\n",
       "    <tr>\n",
       "      <th>MTN</th>\n",
       "      <td>2.884615</td>\n",
       "    </tr>\n",
       "    <tr>\n",
       "      <th>Cell C</th>\n",
       "      <td>0.961538</td>\n",
       "    </tr>\n",
       "    <tr>\n",
       "      <th>Other</th>\n",
       "      <td>0.480769</td>\n",
       "    </tr>\n",
       "  </tbody>\n",
       "</table>\n",
       "</div>"
      ],
      "text/plain": [
       "          proportion\n",
       "provider            \n",
       "Vodacom    95.673077\n",
       "MTN         2.884615\n",
       "Cell C      0.961538\n",
       "Other       0.480769"
      ]
     },
     "metadata": {},
     "output_type": "display_data"
    }
   ],
   "source": [
    "display(df_reviews['provider'].value_counts(normalize=True).to_frame() * 100)"
   ]
  },
  {
   "attachments": {},
   "cell_type": "markdown",
   "id": "51959241",
   "metadata": {},
   "source": [
    "- As expected, the majority of Hellopeter reviews are negative as indicated by an average sentiment score of `-1.0`.\n",
    "- `Vodacom` has the most number of reviews discussing a total number of `1,363` aspects.\n",
    "- Vodacom also have Average Sentiment Score of less than `-1.0` indicating that there are at least some aspects mentioned in either a neutral or positive light."
   ]
  },
  {
   "cell_type": "code",
   "execution_count": 23,
   "id": "f9917219",
   "metadata": {},
   "outputs": [
    {
     "data": {
      "text/html": [
       "<div>\n",
       "<style scoped>\n",
       "    .dataframe tbody tr th:only-of-type {\n",
       "        vertical-align: middle;\n",
       "    }\n",
       "\n",
       "    .dataframe tbody tr th {\n",
       "        vertical-align: top;\n",
       "    }\n",
       "\n",
       "    .dataframe thead th {\n",
       "        text-align: right;\n",
       "    }\n",
       "</style>\n",
       "<table border=\"1\" class=\"dataframe\">\n",
       "  <thead>\n",
       "    <tr style=\"text-align: right;\">\n",
       "      <th></th>\n",
       "      <th>Provider</th>\n",
       "      <th>Total Sentiment Score</th>\n",
       "      <th>Number of Mentions</th>\n",
       "      <th>Average Sentiment Score</th>\n",
       "    </tr>\n",
       "  </thead>\n",
       "  <tbody>\n",
       "    <tr>\n",
       "      <th>0</th>\n",
       "      <td>Cell C</td>\n",
       "      <td>-17</td>\n",
       "      <td>17</td>\n",
       "      <td>-1.000000</td>\n",
       "    </tr>\n",
       "    <tr>\n",
       "      <th>1</th>\n",
       "      <td>MTN</td>\n",
       "      <td>-44</td>\n",
       "      <td>44</td>\n",
       "      <td>-1.000000</td>\n",
       "    </tr>\n",
       "    <tr>\n",
       "      <th>2</th>\n",
       "      <td>Other</td>\n",
       "      <td>-6</td>\n",
       "      <td>6</td>\n",
       "      <td>-1.000000</td>\n",
       "    </tr>\n",
       "    <tr>\n",
       "      <th>3</th>\n",
       "      <td>Vodacom</td>\n",
       "      <td>-1272</td>\n",
       "      <td>1363</td>\n",
       "      <td>-0.933236</td>\n",
       "    </tr>\n",
       "  </tbody>\n",
       "</table>\n",
       "</div>"
      ],
      "text/plain": [
       "  Provider  Total Sentiment Score  Number of Mentions  Average Sentiment Score\n",
       "0   Cell C                    -17                  17                -1.000000\n",
       "1      MTN                    -44                  44                -1.000000\n",
       "2    Other                     -6                   6                -1.000000\n",
       "3  Vodacom                  -1272                1363                -0.933236"
      ]
     },
     "metadata": {},
     "output_type": "display_data"
    }
   ],
   "source": [
    "# Join df_aspects with df_reviews to get the provider information\n",
    "df_aspects_with_provider = df_aspects.join(df_reviews['provider'], how='left')\n",
    "\n",
    "# Map the polarity to numerical scores\n",
    "polarity_mapping = {\n",
    "    'Negative': -1,\n",
    "    'Neutral': 0,\n",
    "    'Positive': 1\n",
    "}\n",
    "df_aspects_with_provider['polarity_score'] = df_aspects_with_provider['polarity'] \\\n",
    "    .map(polarity_mapping) \\\n",
    "    .astype('int')\n",
    "\n",
    "\n",
    "# Group by provider and aggregate sentiment scores\n",
    "grouped_aspects_by_provider = df_aspects_with_provider \\\n",
    "    .groupby('provider')['polarity_score'] \\\n",
    "    .agg(['sum', 'count', 'mean']).reset_index()\n",
    "\n",
    "grouped_aspects_by_provider.columns = ['Provider', 'Total Sentiment Score', 'Number of Mentions', 'Average Sentiment Score']\n",
    "display(grouped_aspects_by_provider)\n"
   ]
  },
  {
   "attachments": {},
   "cell_type": "markdown",
   "id": "d990c382",
   "metadata": {},
   "source": [
    "## 4. Analysis"
   ]
  },
  {
   "attachments": {},
   "cell_type": "markdown",
   "id": "fa075f69",
   "metadata": {},
   "source": [
    "## 5. Conclusion and evaluation"
   ]
  },
  {
   "cell_type": "code",
   "execution_count": null,
   "id": "3186fdae",
   "metadata": {},
   "outputs": [],
   "source": []
  },
  {
   "attachments": {},
   "cell_type": "markdown",
   "id": "cf908fea",
   "metadata": {},
   "source": [
    "## Introduction"
   ]
  },
  {
   "attachments": {},
   "cell_type": "markdown",
   "id": "505bf416",
   "metadata": {},
   "source": [
    "## Research  topic"
   ]
  },
  {
   "attachments": {},
   "cell_type": "markdown",
   "id": "e403bd7d",
   "metadata": {},
   "source": [
    "## Data collection / Survey design"
   ]
  },
  {
   "attachments": {},
   "cell_type": "markdown",
   "id": "dbe63e92",
   "metadata": {},
   "source": [
    "## Data overview and pre-processing"
   ]
  },
  {
   "attachments": {},
   "cell_type": "markdown",
   "id": "60ce7779",
   "metadata": {},
   "source": [
    "## Analysis and results"
   ]
  },
  {
   "attachments": {},
   "cell_type": "markdown",
   "id": "25aaf3cd",
   "metadata": {},
   "source": [
    "## Conclusions"
   ]
  },
  {
   "attachments": {},
   "cell_type": "markdown",
   "id": "22daf0a0",
   "metadata": {},
   "source": [
    "## References"
   ]
  },
  {
   "attachments": {},
   "cell_type": "markdown",
   "id": "09a7a142",
   "metadata": {},
   "source": [
    "## Appendices"
   ]
  },
  {
   "attachments": {},
   "cell_type": "markdown",
   "id": "7920ccd0",
   "metadata": {
    "editable": false
   },
   "source": [
    "## Word Count\n",
    "\n",
    "The following code will count the number of words in Markdown cells. Code cells are not included.\n",
    "\n",
    "- `Main word count` is the number of words in the main body of the text, *excluding* references or appendices.\n",
    "- `References and appendices word count` is the number of words in any references or appendices.\n",
    "\n",
    "Only `Main word count` relates to the assignment word limit. There is no limit to the number of words that can be included in references or appendices. Please note that appendices should only be used to provide context or supporting information. *No marks will be directly awarded for material submitted in appendices*.\n",
    "\n",
    "Important:\n",
    "\n",
    "- Please do not modify the word count code!\n",
    "- To exclude references from your word count **you must** have a cell that starts with the text `## References`. Everything below this cell will not count towards the main word count.\n",
    "- If you are submitting additional material as appendices **you must** have a cell that starts with the text `## Appendices`. Everything below this cell will not count towards the main word count. If you do not have any appendices you can delete the `## Appendices` cell.\n",
    "- Code comments should only be used to explain details of the implementation, not for discussing your findings. All analysis commentary **must** be written in Markdown cells. *No marks will be awarded for analysis discussion submitted as comments in code cells*."
   ]
  },
  {
   "cell_type": "code",
   "execution_count": 24,
   "id": "4a0d931b",
   "metadata": {
    "editable": false,
    "tags": []
   },
   "outputs": [
    {
     "data": {
      "application/javascript": "\n// Run this cell to update your word count.\n\nfunction wordcount() {\n    let wordCount = 0\n    let extraCount = 0\n    let mainBody = true\n\n    let cells = Jupyter.notebook.get_cells()\n    cells.forEach((cell) => {\n        if (cell.cell_type == 'markdown') {\n            let text = cell.get_text()\n            // Stop counting as main body when get to References or Appendices.\n            if (text.startsWith('## References') ||\n                text.startsWith('## Appendices')) {\n                mainBody = false\n            }\n            if (text.startsWith('## Word Count')) {\n                text = ''\n            }\n            if (text) {\n                let words = text.toLowerCase().match(/\\b[a-z\\d]+\\b/g)\n                if (words) {\n                    let cellCount = words.length\n                    if (mainBody) {\n                        wordCount += cellCount\n                    } else {\n                        extraCount += cellCount\n                    }\n                }\n            }\n        }\n    })\n    return [wordCount, extraCount]\n}\n\nlet wc = wordcount()\nelement.append(`Main word count: ${wc[0]} (References and appendices word count: ${wc[1]})`)\n",
      "text/plain": [
       "<IPython.core.display.Javascript object>"
      ]
     },
     "metadata": {},
     "output_type": "display_data"
    }
   ],
   "source": [
    "%%js\n",
    "\n",
    "// Run this cell to update your word count.\n",
    "\n",
    "function wordcount() {\n",
    "    let wordCount = 0\n",
    "    let extraCount = 0\n",
    "    let mainBody = true\n",
    "\n",
    "    let cells = Jupyter.notebook.get_cells()\n",
    "    cells.forEach((cell) => {\n",
    "        if (cell.cell_type == 'markdown') {\n",
    "            let text = cell.get_text()\n",
    "            // Stop counting as main body when get to References or Appendices.\n",
    "            if (text.startsWith('## References') ||\n",
    "                text.startsWith('## Appendices')) {\n",
    "                mainBody = false\n",
    "            }\n",
    "            if (text.startsWith('## Word Count')) {\n",
    "                text = ''\n",
    "            }\n",
    "            if (text) {\n",
    "                let words = text.toLowerCase().match(/\\b[a-z\\d]+\\b/g)\n",
    "                if (words) {\n",
    "                    let cellCount = words.length\n",
    "                    if (mainBody) {\n",
    "                        wordCount += cellCount\n",
    "                    } else {\n",
    "                        extraCount += cellCount\n",
    "                    }\n",
    "                }\n",
    "            }\n",
    "        }\n",
    "    })\n",
    "    return [wordCount, extraCount]\n",
    "}\n",
    "\n",
    "let wc = wordcount()\n",
    "element.append(`Main word count: ${wc[0]} (References and appendices word count: ${wc[1]})`)"
   ]
  }
 ],
 "metadata": {
  "celltoolbar": "Edit Metadata",
  "kernelspec": {
   "display_name": "Python 3 (ipykernel)",
   "language": "python",
   "name": "python3"
  },
  "language_info": {
   "codemirror_mode": {
    "name": "ipython",
    "version": 3
   },
   "file_extension": ".py",
   "mimetype": "text/x-python",
   "name": "python",
   "nbconvert_exporter": "python",
   "pygments_lexer": "ipython3",
   "version": "3.11.4"
  }
 },
 "nbformat": 4,
 "nbformat_minor": 5
}
