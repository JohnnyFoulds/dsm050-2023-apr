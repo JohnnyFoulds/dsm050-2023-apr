{
 "cells": [
  {
   "attachments": {},
   "cell_type": "markdown",
   "id": "e40134e7",
   "metadata": {},
   "source": [
    "# Evaluating Customer Satisfaction and Preferences in the Telecommunications Industry: A Comparative Analysis of Survey Data and Online Reviews\n",
    "\n",
    "- These headings are only a recommended structure.\n",
    "- The wordcount code only works in Jupyter Notebook! You can still use JupyterLab to produce your report if you wish but you will need to use Jupyter Notebook to check the number of words.\n",
    "- Please delete this text!"
   ]
  },
  {
   "attachments": {},
   "cell_type": "markdown",
   "id": "ef1a466c",
   "metadata": {},
   "source": [
    "## 1. Research topic and background"
   ]
  },
  {
   "attachments": {},
   "cell_type": "markdown",
   "id": "93a84910",
   "metadata": {},
   "source": [
    "### 1. (a) Introduction / topic overview\n",
    "\n",
    "This study investigates customer satisfaction levels and preferences around using artificial intelligence-driven technologies in the telecommunications industry. The rapid advancement in AI has led to tools such as chatbots becoming an integral part of customer service, and while AI-driven technologies can offer personalised and efficient solutions that significantly increase client satisfaction rates, studying the effectiveness and impact of these technologies remains a critical area of investigation.\n",
    "\n",
    "First, we will survey customers to understand customer service preferences, the adoption of AI-driven tools, and the effect of demographics. We will then analyse relevant online customer complaints to identify trends and opportunities for further improvement.\n",
    "\n",
    "**❗️NEED TO ADD MORE HERE**: Clear and concise overview of the report,\n",
    "-  summarising its structure and\n",
    "-  key findings."
   ]
  },
  {
   "attachments": {},
   "cell_type": "markdown",
   "id": "810e5e89",
   "metadata": {},
   "source": [
    "### 1. (b) Background and context\n",
    "\n",
    "The emergence of Artificial Intelligence (AI) has significantly impacted industries, including telecommunications, ranging from finance, healthcare and manufacturing, all potentially disrupted by these technologies (Dwivedi et al., 2021). For example, AI plays an essential role in today’s telecommunications industry, where it can make predictions about decisions, use big data to offer solutions and interact with customers in real-time via conversational agents (Sardjono et al., 2023).\n",
    "\n",
    "AI-driven technologies such as chatbots, process automation, and automated customer support systems are transforming customer service from human-driven to technology-dominant (Castillo et al., 2021). This transformation offers many advantages, such as improving efficiency, reducing cost and enhancing the customer experience through personalised user interactions. For example, chatbots can handle routing queries and allow their human counterparts to focus on complex, high-value issues. However, as discussed by (Castillo et al., 2021), these technologies can also fail and have negative consequences leading to customer confusion, anger and dissatisfaction, and as mentioned in the introduction, studying the impact and effectiveness of these tools remains critical."
   ]
  },
  {
   "attachments": {},
   "cell_type": "markdown",
   "id": "48bd95b9",
   "metadata": {},
   "source": [
    "### 1. (c) Motivation and objectives\n",
    "\n",
    "Objectives:\n",
    "1.\tEvaluate overall satisfaction among customers towards their telecommunication customer service encounters while concurrently identifying the elements behind positive and negative experiences.\n",
    "2.\tInvestigate customer perception of AI-based service tools like chatbots and assess their effectiveness in offering efficient and personalised customer service.\n",
    "3.\tExplore the potential correlation between consumer satisfaction and customer service tools that leverage AI technology.\n",
    "4.\tIdentify and provide concrete recommendations on how AI tools can enhance satisfaction levels and strengthen market position.\n",
    "\n",
    "Potential impact:\n",
    "1.\tImproving customer service strategies: By understanding customer preferences and experiences, telecommunications companies can identify areas to focus on where AI-based tools can provide the most significant value.\n",
    "2.\tBoosting customer satisfaction and loyalty: Based on the trends identified in this study, telecommunications companies can increase customer satisfaction and loyalty by enhancing their existing customer service tools.\n",
    "3.\tEncouraging AI-driven customer service tool adoption: This study seeks to understand factors limiting the adoption of AI tools. These findings may help telecommunications companies better promote AI-driven customer service tools, improving customer experiences and reducing workloads for customer service representatives.\n",
    "4.\tInforming industry practices: The output of this study will contribute to a broader understanding of customer satisfaction and preferences in the telecommunications industry. These insights can prove valuable when designing practices to improve customer service."
   ]
  },
  {
   "attachments": {},
   "cell_type": "markdown",
   "id": "cfdc9496",
   "metadata": {},
   "source": [
    "### 1. (d) Sample and population\n",
    "\n",
    "The target population for this study is the five major South African telecommunications providers, namely Cell C, MTN, Rain, Telkom, and Vodacom. Ideally, stratified random sampling should be used to get a representative sample from each provider according to their market size. Unfortunately, this will not be possible due to budget and time constraints. Instead, snowball sampling will be employed by asking for respondents on social media platforms and requesting the initial respondents to refer other customers within their social network who might be interested in participating.\n",
    "\n",
    "Using snowball sampling is likely to result in some selection bias. To minimise the impact, should the data indicate, for example, that respondents are primarily from a single provider, the scope will be narrowed to focus on this provider, reducing the extent to which findings can be generalised."
   ]
  },
  {
   "attachments": {},
   "cell_type": "markdown",
   "id": "c7b3e9c5",
   "metadata": {},
   "source": [
    "### 1. (e) Research question(s)\n",
    "\n",
    "1.\tHow does customer satisfaction with a telecommunications provider’s customer service differ by the various demographic groups? \n",
    "\n",
    "Rationale: According to some studies (Kassim, 2006; Saha* & Joshi, 2019), demographic factors such as age, gender and marital status can have a significant effect on perceptions of performance and satisfaction. \n",
    "\n",
    "2.\tHow do customers perceive the effectiveness and level of personalisation offered by AI-driven customer service tools?\n",
    "\n",
    "Rationale: AI-driven tools have become increasingly popular in customer service with the promise of reduced labour costs. However, some consumers resist tools like chatbots (Li et al., 2020) and prefer traditional human-based customer service. Therefore, it is essential to understand this aspect and find ways to improve adaptation rates and trust in AI-driven tools.\n",
    "\n",
    "3.\tIs there a relationship between customer satisfaction and using AI-driven customer service tools?\n",
    "\n",
    "Rationale: Understanding the correlation can help business improve their customer service strategies and ultimately improve customer loyalty and retention (Chen et al., 2021; Ganguli & Roy, 2011).\n",
    "\n",
    "4.\tBased on insights gathered in the survey and comparing it with online complaint behaviour, what are the critical areas for improvement in customer service within the telecommunications industry?\n",
    "\n",
    "By analysing the trends from the survey data in conjunction with customer complaints from platforms such as Hellopeter (Foulds, 2022), we aim to discover actionable insights that will assist telecommunications in finding key focus areas to improve customer service through AI-driven tools. \n"
   ]
  },
  {
   "attachments": {},
   "cell_type": "markdown",
   "id": "089a5733",
   "metadata": {},
   "source": [
    "### 1. (f) Domain concepts\n",
    "\n",
    "The following domain concepts will be considered in this study:\n",
    "\n",
    "- **Customer satisfaction**: The feelings of pleasure or disappointment a customer derives from the performance of a product or service related to individual expectations (Riak & Bill, 2022).\n",
    "\n",
    "- **Customer service**: The support and assistance a company provides to those who buy or use its products or services (Meuter et al., 2000). \n",
    "\n",
    "- **AI-driven customer service tools**: Technology-enabled service tools, such as chatbots, that leverage artificial intelligence (AI) for evaluating real-time service scenarios to provide personalised recommendations, alternatives, and solutions to customer enquiries or problems (Xu et al., 2020).\n",
    "\n",
    "- **Chatbots**: An AI-driven customer service tool acting as a conversational agent equipped with AI to interact with customers using spoken or written language (Baez et al., 2021)."
   ]
  },
  {
   "attachments": {},
   "cell_type": "markdown",
   "id": "4c6fd2a9",
   "metadata": {},
   "source": [
    "## 2. Data sources"
   ]
  },
  {
   "attachments": {},
   "cell_type": "markdown",
   "id": "89fce7e8",
   "metadata": {},
   "source": [
    "### 2. (a) Survey data"
   ]
  },
  {
   "attachments": {},
   "cell_type": "markdown",
   "id": "45cbf9e9",
   "metadata": {},
   "source": [
    "#### Research questions map to survey questions\n",
    "\n",
    "| Research question | Survey question(s) |\n",
    "| --- | :--- |\n",
    "| How does customer satisfaction with a telecommunications provider’s customer service differ by the various demographic groups? |Q1 - Q5. Which demographic group do you belong to (occupation, gender, age, education and marital status).<br /><br />Q6. Who is your primary telecommunications provider?<br /><br />Q7. How long have you been a customer of your current telecommunications provider?<br /><br />Q8. Are you a prepaid or contract customer?\n",
    "|How do customers perceive the effectiveness and level of personalisation offered by AI-driven customer service tools?|Q9. Which customer service channel do you prefer when contacting your telecommunications provider?<br /><br />Q11. Have you ever used an AI-powered customer service tool (e.g., virtual assistant) when contacting your telecommunications provider?<br /><br />Q12. If you answered “Yes” to the previous question, on a scale of 1 to 5, with 1 being “very dissatisfied” and 5 being “very satisfied”, how would you rate your experience with AI-powered customer service tools?<br /><br />Q13. In your opinion, do AI-driven customer service tools provide personalised and effective solutions to your queries or issues?|\n",
    "|Is there a relationship between customer satisfaction and using AI-driven customer service tools?|Q10. On a scale of 1 to 5, with 1 being “very dissatisfied” and 5 being “very satisfied”, how would you rate your overall satisfaction with your provider’s customer service?<br /><br />Q11. Have you ever used an AI-powered customer service tool (e.g., virtual assistant) when contacting your telecommunications provider? (mapped again)|\n",
    "|Based on insights gathered in the survey and comparing it with online complaint behaviour, what are the critical areas for improvement in customer service within the telecommunications industry?|Q14. Please describe a recent customer service interaction with your telecommunications provider (positive or negative). Include the date (or approximate date) of the interaction.\n",
    "\n",
    "\n",
    "\n"
   ]
  },
  {
   "attachments": {},
   "cell_type": "markdown",
   "id": "7c0872aa",
   "metadata": {},
   "source": [
    "#### Operational Definitions\n",
    "\n",
    "| Concept/Behaviour | Question(s) | Discussion |\n",
    "| --- | --- | :--- |\n",
    "|Demographic Data|Q1 – Q5|Only five questions are used for this category to keep the survey short while retaining factors showing the literature to have an effect as it relates to chatbots. This study also aims explicitly to understand if there is a correlation between demographics and customer satisfaction.|\n",
    "|Customer Segmentation|Q6 – Q8|These specific questions allow us to create further distinct customer groupings, which can be compared and will be important when collecting from our secondary data sources.|\n",
    "|Customer Preferences|Q9, Q11|In addition to understanding the preferred channel for customer service, these questions also allow us to estimate the adoption rates of AI service tools.|\n",
    "|Customer Satisfaction|Q10, Q12, Q13|This set of questions allows us to examine overall customer service satisfaction and gauge the contribution made by the AI tools.|\n",
    "|Opportunities for Improvement|Q14 – Q15|The free-text question helps us understand customer behaviour and pain points to look for opportunities for improvement. This information will also be compared with findings from online customer complaints. By looking at the sentiment of the input, we can also compare how recent interactions might affect customer satisfaction.|"
   ]
  },
  {
   "attachments": {},
   "cell_type": "markdown",
   "id": "f55d18b7",
   "metadata": {},
   "source": [
    "#### Survey structure and question flow\n",
    "\n",
    "The initial section of our survey comprises a few questions intended to gather basic demographic information from our participants. These questions are relatively simple and require minimal commitment and thus may motivate participation by making respondents feel more comfortable with providing their input. Next, a series of questions are asked about the respondent’s telecommunications provider to set the context for the rest of the survey. These questions are followed by a set of questions that focus on AI-driven service, which is the main topic of the research. Finally, the survey closes with an open-ended question which allows the respondent to provide more detailed and personal insights.\n",
    "\n",
    "We must remain mindful of three areas where potential bias could be introduced in our final analysis.\n",
    "\n",
    "1.\t**Leading Questions**: Question 13 might be a leading question assuming that AI tools provide personalised and effective solutions. Respondents do, however, have the option to indicate that they strongly disagree with the statement.\n",
    "2.\t**Response Bias**: Question 10 and 12 uses a 5-point scale and might lead to central tendency bias. However, the initial review of online customer complaints showed that customers had strong negative sentiments when their expectations were unmet.\n",
    "3.\t**Recall Bias**: Respondents might not accurately remember all details depending on how recent the interaction was. To minimise this, we ask the customer to specify the approximate date so we can account for it during analysis."
   ]
  },
  {
   "attachments": {},
   "cell_type": "markdown",
   "id": "db9f8b5f",
   "metadata": {},
   "source": [
    "### 2. (b) External data\n",
    "\n",
    "A related study collected customer reviews for Cell C, MTN, Telkom, and Vodacom from Hellopeter.com (Foulds, 2022). This data will provide valuable insights when used with the data collected via survey. The online customer reviews/complaints will be particularly useful in answering Research Question 4. Through systematic analysis, we can meet Objective 4: Identify and provide concrete recommendations on how AI tools can enhance satisfaction levels and strengthen market position.\n",
    "\n",
    "The secondary data has a star rating and unstructured text content similar to what is collected in the survey. In the previous study, there were no significant data quality issues. It is worth noting that the reviews are predominately customer complaints. The data is anonymised and publicly available. The ethical evaluation for using this data was already considered when the previous study was submitted to the University of London."
   ]
  },
  {
   "attachments": {},
   "cell_type": "markdown",
   "id": "3a0a981c",
   "metadata": {},
   "source": [
    "## 3. Data overview and pre-processing"
   ]
  },
  {
   "attachments": {},
   "cell_type": "markdown",
   "id": "d990c382",
   "metadata": {},
   "source": [
    "## 4. Analysis"
   ]
  },
  {
   "attachments": {},
   "cell_type": "markdown",
   "id": "fa075f69",
   "metadata": {},
   "source": [
    "## 5. Conclusion and evaluation"
   ]
  },
  {
   "cell_type": "code",
   "execution_count": null,
   "id": "3186fdae",
   "metadata": {},
   "outputs": [],
   "source": []
  },
  {
   "attachments": {},
   "cell_type": "markdown",
   "id": "cf908fea",
   "metadata": {},
   "source": [
    "## Introduction"
   ]
  },
  {
   "attachments": {},
   "cell_type": "markdown",
   "id": "505bf416",
   "metadata": {},
   "source": [
    "## Research  topic"
   ]
  },
  {
   "attachments": {},
   "cell_type": "markdown",
   "id": "e403bd7d",
   "metadata": {},
   "source": [
    "## Data collection / Survey design"
   ]
  },
  {
   "attachments": {},
   "cell_type": "markdown",
   "id": "dbe63e92",
   "metadata": {},
   "source": [
    "## Data overview and pre-processing"
   ]
  },
  {
   "attachments": {},
   "cell_type": "markdown",
   "id": "60ce7779",
   "metadata": {},
   "source": [
    "## Analysis and results"
   ]
  },
  {
   "attachments": {},
   "cell_type": "markdown",
   "id": "25aaf3cd",
   "metadata": {},
   "source": [
    "## Conclusions"
   ]
  },
  {
   "attachments": {},
   "cell_type": "markdown",
   "id": "22daf0a0",
   "metadata": {},
   "source": [
    "## References"
   ]
  },
  {
   "attachments": {},
   "cell_type": "markdown",
   "id": "09a7a142",
   "metadata": {},
   "source": [
    "## Appendices"
   ]
  },
  {
   "attachments": {},
   "cell_type": "markdown",
   "id": "7920ccd0",
   "metadata": {
    "editable": false
   },
   "source": [
    "## Word Count\n",
    "\n",
    "The following code will count the number of words in Markdown cells. Code cells are not included.\n",
    "\n",
    "- `Main word count` is the number of words in the main body of the text, *excluding* references or appendices.\n",
    "- `References and appendices word count` is the number of words in any references or appendices.\n",
    "\n",
    "Only `Main word count` relates to the assignment word limit. There is no limit to the number of words that can be included in references or appendices. Please note that appendices should only be used to provide context or supporting information. *No marks will be directly awarded for material submitted in appendices*.\n",
    "\n",
    "Important:\n",
    "\n",
    "- Please do not modify the word count code!\n",
    "- To exclude references from your word count **you must** have a cell that starts with the text `## References`. Everything below this cell will not count towards the main word count.\n",
    "- If you are submitting additional material as appendices **you must** have a cell that starts with the text `## Appendices`. Everything below this cell will not count towards the main word count. If you do not have any appendices you can delete the `## Appendices` cell.\n",
    "- Code comments should only be used to explain details of the implementation, not for discussing your findings. All analysis commentary **must** be written in Markdown cells. *No marks will be awarded for analysis discussion submitted as comments in code cells*."
   ]
  },
  {
   "cell_type": "code",
   "execution_count": 42,
   "id": "4a0d931b",
   "metadata": {
    "editable": false,
    "tags": []
   },
   "outputs": [
    {
     "data": {
      "application/javascript": "\n// Run this cell to update your word count.\n\nfunction wordcount() {\n    let wordCount = 0\n    let extraCount = 0\n    let mainBody = true\n\n    let cells = Jupyter.notebook.get_cells()\n    cells.forEach((cell) => {\n        if (cell.cell_type == 'markdown') {\n            let text = cell.get_text()\n            // Stop counting as main body when get to References or Appendices.\n            if (text.startsWith('## References') ||\n                text.startsWith('## Appendices')) {\n                mainBody = false\n            }\n            if (text.startsWith('## Word Count')) {\n                text = ''\n            }\n            if (text) {\n                let words = text.toLowerCase().match(/\\b[a-z\\d]+\\b/g)\n                if (words) {\n                    let cellCount = words.length\n                    if (mainBody) {\n                        wordCount += cellCount\n                    } else {\n                        extraCount += cellCount\n                    }\n                }\n            }\n        }\n    })\n    return [wordCount, extraCount]\n}\n\nlet wc = wordcount()\nelement.append(`Main word count: ${wc[0]} (References and appendices word count: ${wc[1]})`)\n",
      "text/plain": [
       "<IPython.core.display.Javascript object>"
      ]
     },
     "metadata": {},
     "output_type": "display_data"
    }
   ],
   "source": [
    "%%js\n",
    "\n",
    "// Run this cell to update your word count.\n",
    "\n",
    "function wordcount() {\n",
    "    let wordCount = 0\n",
    "    let extraCount = 0\n",
    "    let mainBody = true\n",
    "\n",
    "    let cells = Jupyter.notebook.get_cells()\n",
    "    cells.forEach((cell) => {\n",
    "        if (cell.cell_type == 'markdown') {\n",
    "            let text = cell.get_text()\n",
    "            // Stop counting as main body when get to References or Appendices.\n",
    "            if (text.startsWith('## References') ||\n",
    "                text.startsWith('## Appendices')) {\n",
    "                mainBody = false\n",
    "            }\n",
    "            if (text.startsWith('## Word Count')) {\n",
    "                text = ''\n",
    "            }\n",
    "            if (text) {\n",
    "                let words = text.toLowerCase().match(/\\b[a-z\\d]+\\b/g)\n",
    "                if (words) {\n",
    "                    let cellCount = words.length\n",
    "                    if (mainBody) {\n",
    "                        wordCount += cellCount\n",
    "                    } else {\n",
    "                        extraCount += cellCount\n",
    "                    }\n",
    "                }\n",
    "            }\n",
    "        }\n",
    "    })\n",
    "    return [wordCount, extraCount]\n",
    "}\n",
    "\n",
    "let wc = wordcount()\n",
    "element.append(`Main word count: ${wc[0]} (References and appendices word count: ${wc[1]})`)"
   ]
  }
 ],
 "metadata": {
  "celltoolbar": "Edit Metadata",
  "kernelspec": {
   "display_name": "Python 3 (ipykernel)",
   "language": "python",
   "name": "python3"
  },
  "language_info": {
   "codemirror_mode": {
    "name": "ipython",
    "version": 3
   },
   "file_extension": ".py",
   "mimetype": "text/x-python",
   "name": "python",
   "nbconvert_exporter": "python",
   "pygments_lexer": "ipython3",
   "version": "3.11.4"
  }
 },
 "nbformat": 4,
 "nbformat_minor": 5
}
